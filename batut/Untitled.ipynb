{
 "cells": [
  {
   "cell_type": "markdown",
   "id": "8ebc77c9",
   "metadata": {},
   "source": [
    "# Прыжки на батуте: анализ"
   ]
  },
  {
   "cell_type": "markdown",
   "id": "f1b6d549",
   "metadata": {},
   "source": [
    "<img src='444.jpg'>"
   ]
  },
  {
   "cell_type": "markdown",
   "id": "7d18416e",
   "metadata": {},
   "source": [
    "# Описание"
   ]
  },
  {
   "cell_type": "markdown",
   "id": "fd55bd00",
   "metadata": {},
   "source": [
    "Прыжки на батуте - олимпийский вид спорта, суть которого заключается в выполнении акробатических упражнений во время высоких, непрерывных ритмических прыжков на батуте. В профессиональных прыжках на батуте присутствуют 4 дисциплины: индивидуальные прыжки, акробатическая дорожка, синхронные прыжки и двойной минитрамп."
   ]
  },
  {
   "cell_type": "markdown",
   "id": "c5e70452",
   "metadata": {},
   "source": [
    "В наборе данных результаты всех соревнований, проводимых Федерацией прыжков на батуте России, которые были взяты с [официального сайта](https://trampoline.ru) в формате .csv за 2021 и 2022 года."
   ]
  },
  {
   "cell_type": "markdown",
   "id": "a8fd8c92",
   "metadata": {},
   "source": [
    "## Оглавление\n",
    "### 1. Открытие файлов и изучение\n",
    "### 2. Предобработка данных\n",
    "        Работа с пропусками\n",
    "        Создание таблицы\n",
    "        Унификация данных \n",
    "        Замена типов данных\n",
    "### 3.  Исследовательский анализ данных\n",
    "        Регионы России\n",
    "        Девочки/Мальчики\n",
    "        Лучшие спортсмены\n",
    "        Особенности\n",
    "### 4. Общий вывод\n",
    "    \n",
    "    "
   ]
  },
  {
   "cell_type": "markdown",
   "id": "b6f0e42e",
   "metadata": {},
   "source": [
    "# Открытие файлов и изучение"
   ]
  },
  {
   "cell_type": "markdown",
   "id": "089db8bc",
   "metadata": {},
   "source": [
    "Импортруем библиотеки и параметры, которые будем использовать."
   ]
  },
  {
   "cell_type": "code",
   "execution_count": 224,
   "id": "4315df04",
   "metadata": {},
   "outputs": [],
   "source": [
    "import pandas as pd\n",
    "import numpy as np\n",
    "import seaborn as sns\n",
    "import matplotlib as mpl\n",
    "import matplotlib.pyplot as plt\n",
    "plt.rcParams[\"figure.figsize\"] = (15,5)\n",
    "pd.set_option('mode.chained_assignment', None)"
   ]
  },
  {
   "cell_type": "markdown",
   "id": "c897d123",
   "metadata": {},
   "source": [
    "Так как каждый протокол соревнований это отдельный .csv, но с одинаковой структурой создадим цикл соединяющий все файлы в одну таблицу."
   ]
  },
  {
   "cell_type": "code",
   "execution_count": 225,
   "id": "d1aa3f12",
   "metadata": {
    "scrolled": true
   },
   "outputs": [
    {
     "name": "stderr",
     "output_type": "stream",
     "text": [
      "C:\\Users\\MAx\\AppData\\Local\\Temp\\ipykernel_8368\\2320635066.py:12: DtypeWarning: Columns (8) have mixed types. Specify dtype option on import or set low_memory=False.\n",
      "  data = pd.read_csv(filename, encoding='utf-8', sep = ';', on_bad_lines='skip')\n"
     ]
    }
   ],
   "source": [
    "import glob\n",
    "import os\n",
    "import codecs\n",
    "\n",
    "path = r\"C:\\Users\\MAx\\Projects-for-ed-main\\batut\"\n",
    "files = glob.glob(path + \"/*.csv\")\n",
    "\n",
    "\n",
    "li = []\n",
    "\n",
    "for filename in files:\n",
    "    data = pd.read_csv(filename, encoding='utf-8', sep = ';', on_bad_lines='skip')\n",
    "    li.append(data)\n",
    "\n",
    "df = pd.concat(li, axis=0, ignore_index=True)"
   ]
  },
  {
   "cell_type": "markdown",
   "id": "af5a7aaa",
   "metadata": {},
   "source": [
    "## Изучение"
   ]
  },
  {
   "cell_type": "code",
   "execution_count": 226,
   "id": "a660659d",
   "metadata": {
    "scrolled": true
   },
   "outputs": [
    {
     "data": {
      "text/html": [
       "<div>\n",
       "<style scoped>\n",
       "    .dataframe tbody tr th:only-of-type {\n",
       "        vertical-align: middle;\n",
       "    }\n",
       "\n",
       "    .dataframe tbody tr th {\n",
       "        vertical-align: top;\n",
       "    }\n",
       "\n",
       "    .dataframe thead th {\n",
       "        text-align: right;\n",
       "    }\n",
       "</style>\n",
       "<table border=\"1\" class=\"dataframe\">\n",
       "  <thead>\n",
       "    <tr style=\"text-align: right;\">\n",
       "      <th></th>\n",
       "      <th>#</th>\n",
       "      <th>Event UUID</th>\n",
       "      <th>Title</th>\n",
       "      <th>Subtitle</th>\n",
       "      <th>Discipline</th>\n",
       "      <th>Competition</th>\n",
       "      <th>Stage</th>\n",
       "      <th>Group #</th>\n",
       "      <th>Time</th>\n",
       "      <th>Performance #</th>\n",
       "      <th>...</th>\n",
       "      <th>S4</th>\n",
       "      <th>S5</th>\n",
       "      <th>S6</th>\n",
       "      <th>S7</th>\n",
       "      <th>S8</th>\n",
       "      <th>S9</th>\n",
       "      <th>S10</th>\n",
       "      <th>L</th>\n",
       "      <th>A</th>\n",
       "      <th>∑</th>\n",
       "    </tr>\n",
       "  </thead>\n",
       "  <tbody>\n",
       "    <tr>\n",
       "      <th>0</th>\n",
       "      <td>1</td>\n",
       "      <td>ca97c8f2-0887-4412-771f-da8d37b641c6</td>\n",
       "      <td>Всероссийские соревнования \"Памяти Героя Совет...</td>\n",
       "      <td>г. Краснодар, 19-23 июля 2022 года</td>\n",
       "      <td>TRA</td>\n",
       "      <td>TEST</td>\n",
       "      <td>Qualification</td>\n",
       "      <td>1</td>\n",
       "      <td>NaN</td>\n",
       "      <td>1</td>\n",
       "      <td>...</td>\n",
       "      <td>1.0</td>\n",
       "      <td>1.0</td>\n",
       "      <td>1.0</td>\n",
       "      <td>1.0</td>\n",
       "      <td>1.0</td>\n",
       "      <td>1.0</td>\n",
       "      <td>1.0</td>\n",
       "      <td>1.0</td>\n",
       "      <td>NaN</td>\n",
       "      <td>NaN</td>\n",
       "    </tr>\n",
       "    <tr>\n",
       "      <th>1</th>\n",
       "      <td>2</td>\n",
       "      <td>ca97c8f2-0887-4412-771f-da8d37b641c6</td>\n",
       "      <td>Всероссийские соревнования \"Памяти Героя Совет...</td>\n",
       "      <td>г. Краснодар, 19-23 июля 2022 года</td>\n",
       "      <td>TRA</td>\n",
       "      <td>TEST</td>\n",
       "      <td>Qualification</td>\n",
       "      <td>1</td>\n",
       "      <td>NaN</td>\n",
       "      <td>1</td>\n",
       "      <td>...</td>\n",
       "      <td>NaN</td>\n",
       "      <td>NaN</td>\n",
       "      <td>NaN</td>\n",
       "      <td>NaN</td>\n",
       "      <td>NaN</td>\n",
       "      <td>NaN</td>\n",
       "      <td>NaN</td>\n",
       "      <td>NaN</td>\n",
       "      <td>NaN</td>\n",
       "      <td>NaN</td>\n",
       "    </tr>\n",
       "    <tr>\n",
       "      <th>2</th>\n",
       "      <td>3</td>\n",
       "      <td>ca97c8f2-0887-4412-771f-da8d37b641c6</td>\n",
       "      <td>Всероссийские соревнования \"Памяти Героя Совет...</td>\n",
       "      <td>г. Краснодар, 19-23 июля 2022 года</td>\n",
       "      <td>TRA</td>\n",
       "      <td>TEST</td>\n",
       "      <td>Qualification</td>\n",
       "      <td>1</td>\n",
       "      <td>NaN</td>\n",
       "      <td>1</td>\n",
       "      <td>...</td>\n",
       "      <td>NaN</td>\n",
       "      <td>NaN</td>\n",
       "      <td>NaN</td>\n",
       "      <td>NaN</td>\n",
       "      <td>NaN</td>\n",
       "      <td>NaN</td>\n",
       "      <td>NaN</td>\n",
       "      <td>NaN</td>\n",
       "      <td>NaN</td>\n",
       "      <td>NaN</td>\n",
       "    </tr>\n",
       "    <tr>\n",
       "      <th>3</th>\n",
       "      <td>4</td>\n",
       "      <td>ca97c8f2-0887-4412-771f-da8d37b641c6</td>\n",
       "      <td>Всероссийские соревнования \"Памяти Героя Совет...</td>\n",
       "      <td>г. Краснодар, 19-23 июля 2022 года</td>\n",
       "      <td>TRA</td>\n",
       "      <td>TEST</td>\n",
       "      <td>Qualification</td>\n",
       "      <td>1</td>\n",
       "      <td>NaN</td>\n",
       "      <td>1</td>\n",
       "      <td>...</td>\n",
       "      <td>NaN</td>\n",
       "      <td>NaN</td>\n",
       "      <td>NaN</td>\n",
       "      <td>NaN</td>\n",
       "      <td>NaN</td>\n",
       "      <td>NaN</td>\n",
       "      <td>NaN</td>\n",
       "      <td>NaN</td>\n",
       "      <td>NaN</td>\n",
       "      <td>NaN</td>\n",
       "    </tr>\n",
       "    <tr>\n",
       "      <th>4</th>\n",
       "      <td>5</td>\n",
       "      <td>ca97c8f2-0887-4412-771f-da8d37b641c6</td>\n",
       "      <td>Всероссийские соревнования \"Памяти Героя Совет...</td>\n",
       "      <td>г. Краснодар, 19-23 июля 2022 года</td>\n",
       "      <td>TRA</td>\n",
       "      <td>TEST</td>\n",
       "      <td>Qualification</td>\n",
       "      <td>1</td>\n",
       "      <td>NaN</td>\n",
       "      <td>1</td>\n",
       "      <td>...</td>\n",
       "      <td>NaN</td>\n",
       "      <td>NaN</td>\n",
       "      <td>NaN</td>\n",
       "      <td>NaN</td>\n",
       "      <td>NaN</td>\n",
       "      <td>NaN</td>\n",
       "      <td>NaN</td>\n",
       "      <td>NaN</td>\n",
       "      <td>NaN</td>\n",
       "      <td>NaN</td>\n",
       "    </tr>\n",
       "    <tr>\n",
       "      <th>5</th>\n",
       "      <td>6</td>\n",
       "      <td>ca97c8f2-0887-4412-771f-da8d37b641c6</td>\n",
       "      <td>Всероссийские соревнования \"Памяти Героя Совет...</td>\n",
       "      <td>г. Краснодар, 19-23 июля 2022 года</td>\n",
       "      <td>TRA</td>\n",
       "      <td>TEST</td>\n",
       "      <td>Qualification</td>\n",
       "      <td>1</td>\n",
       "      <td>NaN</td>\n",
       "      <td>1</td>\n",
       "      <td>...</td>\n",
       "      <td>NaN</td>\n",
       "      <td>NaN</td>\n",
       "      <td>NaN</td>\n",
       "      <td>NaN</td>\n",
       "      <td>NaN</td>\n",
       "      <td>NaN</td>\n",
       "      <td>NaN</td>\n",
       "      <td>NaN</td>\n",
       "      <td>NaN</td>\n",
       "      <td>NaN</td>\n",
       "    </tr>\n",
       "    <tr>\n",
       "      <th>6</th>\n",
       "      <td>7</td>\n",
       "      <td>ca97c8f2-0887-4412-771f-da8d37b641c6</td>\n",
       "      <td>Всероссийские соревнования \"Памяти Героя Совет...</td>\n",
       "      <td>г. Краснодар, 19-23 июля 2022 года</td>\n",
       "      <td>TRA</td>\n",
       "      <td>TEST</td>\n",
       "      <td>Qualification</td>\n",
       "      <td>1</td>\n",
       "      <td>NaN</td>\n",
       "      <td>1</td>\n",
       "      <td>...</td>\n",
       "      <td>0.0</td>\n",
       "      <td>0.0</td>\n",
       "      <td>0.0</td>\n",
       "      <td>0.0</td>\n",
       "      <td>0.0</td>\n",
       "      <td>0.0</td>\n",
       "      <td>0.0</td>\n",
       "      <td>0.0</td>\n",
       "      <td>0.0</td>\n",
       "      <td>NaN</td>\n",
       "    </tr>\n",
       "  </tbody>\n",
       "</table>\n",
       "<p>7 rows × 44 columns</p>\n",
       "</div>"
      ],
      "text/plain": [
       "   #                            Event UUID  \\\n",
       "0  1  ca97c8f2-0887-4412-771f-da8d37b641c6   \n",
       "1  2  ca97c8f2-0887-4412-771f-da8d37b641c6   \n",
       "2  3  ca97c8f2-0887-4412-771f-da8d37b641c6   \n",
       "3  4  ca97c8f2-0887-4412-771f-da8d37b641c6   \n",
       "4  5  ca97c8f2-0887-4412-771f-da8d37b641c6   \n",
       "5  6  ca97c8f2-0887-4412-771f-da8d37b641c6   \n",
       "6  7  ca97c8f2-0887-4412-771f-da8d37b641c6   \n",
       "\n",
       "                                               Title  \\\n",
       "0  Всероссийские соревнования \"Памяти Героя Совет...   \n",
       "1  Всероссийские соревнования \"Памяти Героя Совет...   \n",
       "2  Всероссийские соревнования \"Памяти Героя Совет...   \n",
       "3  Всероссийские соревнования \"Памяти Героя Совет...   \n",
       "4  Всероссийские соревнования \"Памяти Героя Совет...   \n",
       "5  Всероссийские соревнования \"Памяти Героя Совет...   \n",
       "6  Всероссийские соревнования \"Памяти Героя Совет...   \n",
       "\n",
       "                             Subtitle Discipline Competition          Stage  \\\n",
       "0  г. Краснодар, 19-23 июля 2022 года        TRA        TEST  Qualification   \n",
       "1  г. Краснодар, 19-23 июля 2022 года        TRA        TEST  Qualification   \n",
       "2  г. Краснодар, 19-23 июля 2022 года        TRA        TEST  Qualification   \n",
       "3  г. Краснодар, 19-23 июля 2022 года        TRA        TEST  Qualification   \n",
       "4  г. Краснодар, 19-23 июля 2022 года        TRA        TEST  Qualification   \n",
       "5  г. Краснодар, 19-23 июля 2022 года        TRA        TEST  Qualification   \n",
       "6  г. Краснодар, 19-23 июля 2022 года        TRA        TEST  Qualification   \n",
       "\n",
       "   Group # Time  Performance #  ...   S4   S5   S6   S7   S8   S9  S10    L  \\\n",
       "0        1  NaN              1  ...  1.0  1.0  1.0  1.0  1.0  1.0  1.0  1.0   \n",
       "1        1  NaN              1  ...  NaN  NaN  NaN  NaN  NaN  NaN  NaN  NaN   \n",
       "2        1  NaN              1  ...  NaN  NaN  NaN  NaN  NaN  NaN  NaN  NaN   \n",
       "3        1  NaN              1  ...  NaN  NaN  NaN  NaN  NaN  NaN  NaN  NaN   \n",
       "4        1  NaN              1  ...  NaN  NaN  NaN  NaN  NaN  NaN  NaN  NaN   \n",
       "5        1  NaN              1  ...  NaN  NaN  NaN  NaN  NaN  NaN  NaN  NaN   \n",
       "6        1  NaN              1  ...  0.0  0.0  0.0  0.0  0.0  0.0  0.0  0.0   \n",
       "\n",
       "     A   ∑  \n",
       "0  NaN NaN  \n",
       "1  NaN NaN  \n",
       "2  NaN NaN  \n",
       "3  NaN NaN  \n",
       "4  NaN NaN  \n",
       "5  NaN NaN  \n",
       "6  0.0 NaN  \n",
       "\n",
       "[7 rows x 44 columns]"
      ]
     },
     "execution_count": 226,
     "metadata": {},
     "output_type": "execute_result"
    }
   ],
   "source": [
    "df.head(7)"
   ]
  },
  {
   "cell_type": "markdown",
   "id": "515cc836",
   "metadata": {},
   "source": [
    "Получившаяся таблица объемна и показывает TEST в первых строчках, потому для проверки выводим случайные строки и информацию о ней, чтоб удостоверится, что все в норме.  "
   ]
  },
  {
   "cell_type": "code",
   "execution_count": 227,
   "id": "1a37dd23",
   "metadata": {
    "scrolled": false
   },
   "outputs": [
    {
     "data": {
      "text/html": [
       "<div>\n",
       "<style scoped>\n",
       "    .dataframe tbody tr th:only-of-type {\n",
       "        vertical-align: middle;\n",
       "    }\n",
       "\n",
       "    .dataframe tbody tr th {\n",
       "        vertical-align: top;\n",
       "    }\n",
       "\n",
       "    .dataframe thead th {\n",
       "        text-align: right;\n",
       "    }\n",
       "</style>\n",
       "<table border=\"1\" class=\"dataframe\">\n",
       "  <thead>\n",
       "    <tr style=\"text-align: right;\">\n",
       "      <th></th>\n",
       "      <th>#</th>\n",
       "      <th>Event UUID</th>\n",
       "      <th>Title</th>\n",
       "      <th>Subtitle</th>\n",
       "      <th>Discipline</th>\n",
       "      <th>Competition</th>\n",
       "      <th>Stage</th>\n",
       "      <th>Group #</th>\n",
       "      <th>Time</th>\n",
       "      <th>Performance #</th>\n",
       "      <th>...</th>\n",
       "      <th>S4</th>\n",
       "      <th>S5</th>\n",
       "      <th>S6</th>\n",
       "      <th>S7</th>\n",
       "      <th>S8</th>\n",
       "      <th>S9</th>\n",
       "      <th>S10</th>\n",
       "      <th>L</th>\n",
       "      <th>A</th>\n",
       "      <th>∑</th>\n",
       "    </tr>\n",
       "  </thead>\n",
       "  <tbody>\n",
       "    <tr>\n",
       "      <th>115474</th>\n",
       "      <td>3325</td>\n",
       "      <td>9e998b7b-0096-425b-54f0-b8373b0131a1</td>\n",
       "      <td>Всероссийские соревнования «Памяти ЗТ СССР В.Д...</td>\n",
       "      <td>г. Москва, 29 ноября - 3 декабря 2021 года</td>\n",
       "      <td>TRA</td>\n",
       "      <td>Девушки (13-14 лет) - программа КМС</td>\n",
       "      <td>Qualification</td>\n",
       "      <td>3</td>\n",
       "      <td>NaN</td>\n",
       "      <td>7</td>\n",
       "      <td>...</td>\n",
       "      <td>NaN</td>\n",
       "      <td>NaN</td>\n",
       "      <td>NaN</td>\n",
       "      <td>NaN</td>\n",
       "      <td>NaN</td>\n",
       "      <td>NaN</td>\n",
       "      <td>NaN</td>\n",
       "      <td>NaN</td>\n",
       "      <td>NaN</td>\n",
       "      <td>100.0</td>\n",
       "    </tr>\n",
       "    <tr>\n",
       "      <th>111287</th>\n",
       "      <td>19038</td>\n",
       "      <td>895fcd72-c6ea-43ae-56c0-db517081125d</td>\n",
       "      <td>Всероссийские соревнования \"Кубок Сибири\" по п...</td>\n",
       "      <td>г. Новосибирск, 11-15 мая 2021 года</td>\n",
       "      <td>TRA</td>\n",
       "      <td>командные соревнования, Юниоры (13-16 лет)</td>\n",
       "      <td>Team Final</td>\n",
       "      <td>1</td>\n",
       "      <td>13 мая 2021 года, 14.00 - 14.30</td>\n",
       "      <td>8</td>\n",
       "      <td>...</td>\n",
       "      <td>NaN</td>\n",
       "      <td>NaN</td>\n",
       "      <td>NaN</td>\n",
       "      <td>NaN</td>\n",
       "      <td>NaN</td>\n",
       "      <td>NaN</td>\n",
       "      <td>NaN</td>\n",
       "      <td>NaN</td>\n",
       "      <td>NaN</td>\n",
       "      <td>14532.0</td>\n",
       "    </tr>\n",
       "    <tr>\n",
       "      <th>22087</th>\n",
       "      <td>5508</td>\n",
       "      <td>94233bb3-f21a-4ef7-6ba0-cef5685ead46</td>\n",
       "      <td>Всероссийские соревнования \"Памяти жертв блока...</td>\n",
       "      <td>г. Санкт-Петербург, 25-29 августа 2021 года</td>\n",
       "      <td>DMT</td>\n",
       "      <td>Девушки (11-12 лет), программа 1 сп.р.</td>\n",
       "      <td>Final</td>\n",
       "      <td>1</td>\n",
       "      <td>NaN</td>\n",
       "      <td>2</td>\n",
       "      <td>...</td>\n",
       "      <td>NaN</td>\n",
       "      <td>NaN</td>\n",
       "      <td>NaN</td>\n",
       "      <td>NaN</td>\n",
       "      <td>NaN</td>\n",
       "      <td>NaN</td>\n",
       "      <td>NaN</td>\n",
       "      <td>NaN</td>\n",
       "      <td>NaN</td>\n",
       "      <td>0.0</td>\n",
       "    </tr>\n",
       "    <tr>\n",
       "      <th>35768</th>\n",
       "      <td>6459</td>\n",
       "      <td>497ef423-16a7-49f1-5f48-d3bba9537920</td>\n",
       "      <td>Всероссийские соревнования \"Золотой прыжок\" по...</td>\n",
       "      <td>г. Таганрог, Ростовская область, 28 июня - 02 ...</td>\n",
       "      <td>DMT</td>\n",
       "      <td>Юноши (11-12 лет)</td>\n",
       "      <td>Qualification</td>\n",
       "      <td>2</td>\n",
       "      <td>NaN</td>\n",
       "      <td>8</td>\n",
       "      <td>...</td>\n",
       "      <td>NaN</td>\n",
       "      <td>NaN</td>\n",
       "      <td>NaN</td>\n",
       "      <td>NaN</td>\n",
       "      <td>NaN</td>\n",
       "      <td>NaN</td>\n",
       "      <td>NaN</td>\n",
       "      <td>NaN</td>\n",
       "      <td>NaN</td>\n",
       "      <td>0.0</td>\n",
       "    </tr>\n",
       "    <tr>\n",
       "      <th>22159</th>\n",
       "      <td>5580</td>\n",
       "      <td>94233bb3-f21a-4ef7-6ba0-cef5685ead46</td>\n",
       "      <td>Всероссийские соревнования \"Памяти жертв блока...</td>\n",
       "      <td>г. Санкт-Петербург, 25-29 августа 2021 года</td>\n",
       "      <td>DMT</td>\n",
       "      <td>Девушки (11-12 лет), программа 1 сп.р.</td>\n",
       "      <td>Final</td>\n",
       "      <td>1</td>\n",
       "      <td>NaN</td>\n",
       "      <td>6</td>\n",
       "      <td>...</td>\n",
       "      <td>NaN</td>\n",
       "      <td>NaN</td>\n",
       "      <td>NaN</td>\n",
       "      <td>NaN</td>\n",
       "      <td>NaN</td>\n",
       "      <td>NaN</td>\n",
       "      <td>NaN</td>\n",
       "      <td>NaN</td>\n",
       "      <td>NaN</td>\n",
       "      <td>0.0</td>\n",
       "    </tr>\n",
       "    <tr>\n",
       "      <th>68070</th>\n",
       "      <td>8841</td>\n",
       "      <td>03a1efd2-a833-43fd-77bd-4617f32c74f5</td>\n",
       "      <td>Кубок России по прыжкам на батуте 2021 года (№...</td>\n",
       "      <td>г. Ярославль, 23-27 февраля 2021г</td>\n",
       "      <td>TRA</td>\n",
       "      <td>Юниоры (13-16 лет)</td>\n",
       "      <td>Qualification</td>\n",
       "      <td>1</td>\n",
       "      <td>25 февраля, 10.00 - 10.50</td>\n",
       "      <td>9</td>\n",
       "      <td>...</td>\n",
       "      <td>3.0</td>\n",
       "      <td>3.0</td>\n",
       "      <td>5.0</td>\n",
       "      <td>NaN</td>\n",
       "      <td>NaN</td>\n",
       "      <td>NaN</td>\n",
       "      <td>NaN</td>\n",
       "      <td>NaN</td>\n",
       "      <td>NaN</td>\n",
       "      <td>41.0</td>\n",
       "    </tr>\n",
       "    <tr>\n",
       "      <th>57895</th>\n",
       "      <td>9316</td>\n",
       "      <td>e49574ac-2ca9-4206-70f8-21fb380d6c2f</td>\n",
       "      <td>Чемпионат и Первенство Дальневосточного Федера...</td>\n",
       "      <td>27 апреля - 01 мая, Комсомольск-на-Амуре</td>\n",
       "      <td>TUM</td>\n",
       "      <td>акробатическая дорожка - Девушки (11-12 лет)</td>\n",
       "      <td>Qualification</td>\n",
       "      <td>1</td>\n",
       "      <td>NaN</td>\n",
       "      <td>6</td>\n",
       "      <td>...</td>\n",
       "      <td>NaN</td>\n",
       "      <td>NaN</td>\n",
       "      <td>NaN</td>\n",
       "      <td>NaN</td>\n",
       "      <td>NaN</td>\n",
       "      <td>NaN</td>\n",
       "      <td>NaN</td>\n",
       "      <td>NaN</td>\n",
       "      <td>19.0</td>\n",
       "      <td>81.0</td>\n",
       "    </tr>\n",
       "  </tbody>\n",
       "</table>\n",
       "<p>7 rows × 44 columns</p>\n",
       "</div>"
      ],
      "text/plain": [
       "            #                            Event UUID  \\\n",
       "115474   3325  9e998b7b-0096-425b-54f0-b8373b0131a1   \n",
       "111287  19038  895fcd72-c6ea-43ae-56c0-db517081125d   \n",
       "22087    5508  94233bb3-f21a-4ef7-6ba0-cef5685ead46   \n",
       "35768    6459  497ef423-16a7-49f1-5f48-d3bba9537920   \n",
       "22159    5580  94233bb3-f21a-4ef7-6ba0-cef5685ead46   \n",
       "68070    8841  03a1efd2-a833-43fd-77bd-4617f32c74f5   \n",
       "57895    9316  e49574ac-2ca9-4206-70f8-21fb380d6c2f   \n",
       "\n",
       "                                                    Title  \\\n",
       "115474  Всероссийские соревнования «Памяти ЗТ СССР В.Д...   \n",
       "111287  Всероссийские соревнования \"Кубок Сибири\" по п...   \n",
       "22087   Всероссийские соревнования \"Памяти жертв блока...   \n",
       "35768   Всероссийские соревнования \"Золотой прыжок\" по...   \n",
       "22159   Всероссийские соревнования \"Памяти жертв блока...   \n",
       "68070   Кубок России по прыжкам на батуте 2021 года (№...   \n",
       "57895   Чемпионат и Первенство Дальневосточного Федера...   \n",
       "\n",
       "                                                 Subtitle Discipline  \\\n",
       "115474         г. Москва, 29 ноября - 3 декабря 2021 года        TRA   \n",
       "111287                г. Новосибирск, 11-15 мая 2021 года        TRA   \n",
       "22087         г. Санкт-Петербург, 25-29 августа 2021 года        DMT   \n",
       "35768   г. Таганрог, Ростовская область, 28 июня - 02 ...        DMT   \n",
       "22159         г. Санкт-Петербург, 25-29 августа 2021 года        DMT   \n",
       "68070                   г. Ярославль, 23-27 февраля 2021г        TRA   \n",
       "57895            27 апреля - 01 мая, Комсомольск-на-Амуре        TUM   \n",
       "\n",
       "                                         Competition          Stage  Group #  \\\n",
       "115474           Девушки (13-14 лет) - программа КМС  Qualification        3   \n",
       "111287    командные соревнования, Юниоры (13-16 лет)     Team Final        1   \n",
       "22087         Девушки (11-12 лет), программа 1 сп.р.          Final        1   \n",
       "35768                              Юноши (11-12 лет)  Qualification        2   \n",
       "22159         Девушки (11-12 лет), программа 1 сп.р.          Final        1   \n",
       "68070                             Юниоры (13-16 лет)  Qualification        1   \n",
       "57895   акробатическая дорожка - Девушки (11-12 лет)  Qualification        1   \n",
       "\n",
       "                                   Time  Performance #  ...   S4   S5   S6  \\\n",
       "115474                              NaN              7  ...  NaN  NaN  NaN   \n",
       "111287  13 мая 2021 года, 14.00 - 14.30              8  ...  NaN  NaN  NaN   \n",
       "22087                               NaN              2  ...  NaN  NaN  NaN   \n",
       "35768                               NaN              8  ...  NaN  NaN  NaN   \n",
       "22159                               NaN              6  ...  NaN  NaN  NaN   \n",
       "68070         25 февраля, 10.00 - 10.50              9  ...  3.0  3.0  5.0   \n",
       "57895                               NaN              6  ...  NaN  NaN  NaN   \n",
       "\n",
       "        S7  S8  S9  S10   L     A        ∑  \n",
       "115474 NaN NaN NaN  NaN NaN   NaN    100.0  \n",
       "111287 NaN NaN NaN  NaN NaN   NaN  14532.0  \n",
       "22087  NaN NaN NaN  NaN NaN   NaN      0.0  \n",
       "35768  NaN NaN NaN  NaN NaN   NaN      0.0  \n",
       "22159  NaN NaN NaN  NaN NaN   NaN      0.0  \n",
       "68070  NaN NaN NaN  NaN NaN   NaN     41.0  \n",
       "57895  NaN NaN NaN  NaN NaN  19.0     81.0  \n",
       "\n",
       "[7 rows x 44 columns]"
      ]
     },
     "execution_count": 227,
     "metadata": {},
     "output_type": "execute_result"
    }
   ],
   "source": [
    "df.sample(7)"
   ]
  },
  {
   "cell_type": "code",
   "execution_count": 228,
   "id": "bd0671db",
   "metadata": {
    "scrolled": false
   },
   "outputs": [
    {
     "name": "stdout",
     "output_type": "stream",
     "text": [
      "<class 'pandas.core.frame.DataFrame'>\n",
      "RangeIndex: 212846 entries, 0 to 212845\n",
      "Data columns (total 44 columns):\n",
      " #   Column         Non-Null Count   Dtype  \n",
      "---  ------         --------------   -----  \n",
      " 0   #              212846 non-null  int64  \n",
      " 1   Event UUID     212846 non-null  object \n",
      " 2   Title          212846 non-null  object \n",
      " 3   Subtitle       212846 non-null  object \n",
      " 4   Discipline     212846 non-null  object \n",
      " 5   Competition    212846 non-null  object \n",
      " 6   Stage          212846 non-null  object \n",
      " 7   Group #        212846 non-null  int64  \n",
      " 8   Time           113227 non-null  object \n",
      " 9   Performance #  212846 non-null  int64  \n",
      " 10  Ranked         212846 non-null  object \n",
      " 11  Rank           212846 non-null  int64  \n",
      " 12  Mark Total     212846 non-null  int64  \n",
      " 13  Team           212846 non-null  int64  \n",
      " 14  Team Rank      212846 non-null  int64  \n",
      " 15  Team Mark      212846 non-null  int64  \n",
      " 16  Code           0 non-null       float64\n",
      " 17  Athlete #      212846 non-null  int64  \n",
      " 18  External ID    212846 non-null  int64  \n",
      " 19  Surname        212800 non-null  object \n",
      " 20  Given Name     212720 non-null  object \n",
      " 21  Representing   212660 non-null  object \n",
      " 22  Date of Birth  212716 non-null  object \n",
      " 23  Sex            0 non-null       float64\n",
      " 24  Routine #      212846 non-null  int64  \n",
      " 25  Mark           212846 non-null  int64  \n",
      " 26  # Elements     212846 non-null  int64  \n",
      " 27  Bonus          212846 non-null  int64  \n",
      " 28  Penalty        212846 non-null  int64  \n",
      " 29  Judge          212846 non-null  object \n",
      " 30  ?              16580 non-null   float64\n",
      " 31  S1             143132 non-null  float64\n",
      " 32  S2             115804 non-null  float64\n",
      " 33  S3             75288 non-null   float64\n",
      " 34  S4             73916 non-null   float64\n",
      " 35  S5             72749 non-null   float64\n",
      " 36  S6             71817 non-null   float64\n",
      " 37  S7             70657 non-null   float64\n",
      " 38  S8             68936 non-null   float64\n",
      " 39  S9             57372 non-null   float64\n",
      " 40  S10            56093 non-null   float64\n",
      " 41  L              84956 non-null   float64\n",
      " 42  A              40762 non-null   float64\n",
      " 43  ∑              196266 non-null  float64\n",
      "dtypes: float64(16), int64(15), object(13)\n",
      "memory usage: 71.5+ MB\n"
     ]
    }
   ],
   "source": [
    "df.info()"
   ]
  },
  {
   "cell_type": "markdown",
   "id": "a7a399e9",
   "metadata": {},
   "source": [
    "## Вывод"
   ]
  },
  {
   "cell_type": "markdown",
   "id": "4c14a89c",
   "metadata": {},
   "source": [
    "Таблица содержит 212846 строк и 43 колонки с разными типами данных, а также с пустые колонки. Таблицу следует сильно переработать: изменить структуру, убрать незначимые столбцы, поменять типы данных у столбцов, решить что делать с пропусками в столбцах."
   ]
  },
  {
   "cell_type": "markdown",
   "id": "8095009e",
   "metadata": {},
   "source": [
    "# Предобработка данных"
   ]
  },
  {
   "cell_type": "markdown",
   "id": "9c1f070f",
   "metadata": {},
   "source": [
    "## Работа с пропусками"
   ]
  },
  {
   "cell_type": "code",
   "execution_count": 229,
   "id": "ca67d8cd",
   "metadata": {},
   "outputs": [
    {
     "data": {
      "text/plain": [
       "#                     0\n",
       "Event UUID            0\n",
       "Title                 0\n",
       "Subtitle              0\n",
       "Discipline            0\n",
       "Competition           0\n",
       "Stage                 0\n",
       "Group #               0\n",
       "Time              99619\n",
       "Performance #         0\n",
       "Ranked                0\n",
       "Rank                  0\n",
       "Mark Total            0\n",
       "Team                  0\n",
       "Team Rank             0\n",
       "Team Mark             0\n",
       "Code             212846\n",
       "Athlete #             0\n",
       "External ID           0\n",
       "Surname              46\n",
       "Given Name          126\n",
       "Representing        186\n",
       "Date of Birth       130\n",
       "Sex              212846\n",
       "Routine #             0\n",
       "Mark                  0\n",
       "# Elements            0\n",
       "Bonus                 0\n",
       "Penalty               0\n",
       "Judge                 0\n",
       "?                196266\n",
       "S1                69714\n",
       "S2                97042\n",
       "S3               137558\n",
       "S4               138930\n",
       "S5               140097\n",
       "S6               141029\n",
       "S7               142189\n",
       "S8               143910\n",
       "S9               155474\n",
       "S10              156753\n",
       "L                127890\n",
       "A                172084\n",
       "∑                 16580\n",
       "dtype: int64"
      ]
     },
     "execution_count": 229,
     "metadata": {},
     "output_type": "execute_result"
    }
   ],
   "source": [
    "df.isna().sum()"
   ]
  },
  {
   "cell_type": "code",
   "execution_count": 230,
   "id": "6ef635d4",
   "metadata": {},
   "outputs": [
    {
     "name": "stdout",
     "output_type": "stream",
     "text": [
      "# - 0%\n",
      "Event UUID - 0%\n",
      "Title - 0%\n",
      "Subtitle - 0%\n",
      "Discipline - 0%\n",
      "Competition - 0%\n",
      "Stage - 0%\n",
      "Group # - 0%\n",
      "Time - 47%\n",
      "Performance # - 0%\n",
      "Ranked - 0%\n",
      "Rank - 0%\n",
      "Mark Total - 0%\n",
      "Team - 0%\n",
      "Team Rank - 0%\n",
      "Team Mark - 0%\n",
      "Code - 100%\n",
      "Athlete # - 0%\n",
      "External ID - 0%\n",
      "Surname - 0%\n",
      "Given Name - 0%\n",
      "Representing - 0%\n",
      "Date of Birth - 0%\n",
      "Sex - 100%\n",
      "Routine # - 0%\n",
      "Mark - 0%\n",
      "# Elements - 0%\n",
      "Bonus - 0%\n",
      "Penalty - 0%\n",
      "Judge - 0%\n",
      "? - 92%\n",
      "S1 - 33%\n",
      "S2 - 46%\n",
      "S3 - 65%\n",
      "S4 - 65%\n",
      "S5 - 66%\n",
      "S6 - 66%\n",
      "S7 - 67%\n",
      "S8 - 68%\n",
      "S9 - 73%\n",
      "S10 - 74%\n",
      "L - 60%\n",
      "A - 81%\n",
      "∑ - 8%\n"
     ]
    }
   ],
   "source": [
    "for col in df.columns:\n",
    "    pct_missing = np.mean(df[col].isnull())\n",
    "    print('{} - {}%'.format(col, round(pct_missing*100)))"
   ]
  },
  {
   "cell_type": "markdown",
   "id": "51cf2098",
   "metadata": {},
   "source": [
    "В большинстве столбцов все данные присутствуют. Пропуски в столбце `S` связаны со структурой данных, где каждая строка, это сбавки судьи за каждый элемент. Необходимо переработать таблицу, оставив только общую оценку.\n",
    "Данные в колонке `Sex` полностью отсутствуют. Добавим позже. Столбцы `Time` и `Code` незначимы и от них мы пранируем избавиться."
   ]
  },
  {
   "cell_type": "markdown",
   "id": "acc98f4f",
   "metadata": {},
   "source": [
    "## Создание таблицы"
   ]
  },
  {
   "cell_type": "markdown",
   "id": "b416d9c9",
   "metadata": {},
   "source": [
    "Уберём полностью пустые строки."
   ]
  },
  {
   "cell_type": "code",
   "execution_count": 231,
   "id": "30623f16",
   "metadata": {},
   "outputs": [],
   "source": [
    "df.dropna(how = 'all', inplace = True)"
   ]
  },
  {
   "cell_type": "markdown",
   "id": "0f581100",
   "metadata": {},
   "source": [
    "Так как для нас основная информация это результат каждого спортсмена, то соединим `Surname` и `Given Name` и сделаем `name` индексом базы."
   ]
  },
  {
   "cell_type": "code",
   "execution_count": 232,
   "id": "756e0356",
   "metadata": {},
   "outputs": [],
   "source": [
    "df['name'] = df['Surname'] + \" \" + df['Given Name']\n",
    "df['name'] = df['name'].str.title()\n",
    "df.set_index('name',  inplace = True)"
   ]
  },
  {
   "cell_type": "markdown",
   "id": "4c97dce8",
   "metadata": {},
   "source": [
    "Теперь пробуем с помощью сводной таблицы \"перевернуть\" изначальную и добыть необходимые данные. Оптимизируем вычислительные ресурсы компьютера на создание pivot_table и выберем столбцы, которые меняются со временем. Остальные добавим позже слиянием."
   ]
  },
  {
   "cell_type": "code",
   "execution_count": 233,
   "id": "a180febc",
   "metadata": {},
   "outputs": [
    {
     "data": {
      "text/html": [
       "<div>\n",
       "<style scoped>\n",
       "    .dataframe tbody tr th:only-of-type {\n",
       "        vertical-align: middle;\n",
       "    }\n",
       "\n",
       "    .dataframe tbody tr th {\n",
       "        vertical-align: top;\n",
       "    }\n",
       "\n",
       "    .dataframe thead th {\n",
       "        text-align: right;\n",
       "    }\n",
       "</style>\n",
       "<table border=\"1\" class=\"dataframe\">\n",
       "  <thead>\n",
       "    <tr style=\"text-align: right;\">\n",
       "      <th>Judge</th>\n",
       "      <th>Subtitle</th>\n",
       "      <th>Discipline</th>\n",
       "      <th>Stage</th>\n",
       "      <th>Routine #</th>\n",
       "      <th>D</th>\n",
       "      <th>E∑</th>\n",
       "      <th>H</th>\n",
       "      <th>T</th>\n",
       "    </tr>\n",
       "    <tr>\n",
       "      <th>name</th>\n",
       "      <th></th>\n",
       "      <th></th>\n",
       "      <th></th>\n",
       "      <th></th>\n",
       "      <th></th>\n",
       "      <th></th>\n",
       "      <th></th>\n",
       "      <th></th>\n",
       "    </tr>\n",
       "  </thead>\n",
       "  <tbody>\n",
       "    <tr>\n",
       "      <th>Test 2 Test 2</th>\n",
       "      <td>г. Москва, 29 ноября - 3 декабря 2021 года</td>\n",
       "      <td>TRA</td>\n",
       "      <td>Qualification</td>\n",
       "      <td>1</td>\n",
       "      <td>0.0</td>\n",
       "      <td>200.0</td>\n",
       "      <td>0.0</td>\n",
       "      <td>0.0</td>\n",
       "    </tr>\n",
       "    <tr>\n",
       "      <th>Test 2 Test 2</th>\n",
       "      <td>г. Москва, 29 ноября - 3 декабря 2021 года</td>\n",
       "      <td>TRA</td>\n",
       "      <td>Qualification</td>\n",
       "      <td>2</td>\n",
       "      <td>0.0</td>\n",
       "      <td>0.0</td>\n",
       "      <td>0.0</td>\n",
       "      <td>0.0</td>\n",
       "    </tr>\n",
       "    <tr>\n",
       "      <th>Test Test</th>\n",
       "      <td>г. Москва, 29 ноября - 3 декабря 2021 года</td>\n",
       "      <td>DMT</td>\n",
       "      <td>Qualification</td>\n",
       "      <td>1</td>\n",
       "      <td>0.0</td>\n",
       "      <td>295.0</td>\n",
       "      <td>0.0</td>\n",
       "      <td>0.0</td>\n",
       "    </tr>\n",
       "    <tr>\n",
       "      <th>Test Test</th>\n",
       "      <td>г. Москва, 29 ноября - 3 декабря 2021 года</td>\n",
       "      <td>DMT</td>\n",
       "      <td>Qualification</td>\n",
       "      <td>2</td>\n",
       "      <td>0.0</td>\n",
       "      <td>0.0</td>\n",
       "      <td>0.0</td>\n",
       "      <td>0.0</td>\n",
       "    </tr>\n",
       "    <tr>\n",
       "      <th>Test Test</th>\n",
       "      <td>г. Москва, 29 ноября - 3 декабря 2021 года</td>\n",
       "      <td>TRA</td>\n",
       "      <td>Qualification</td>\n",
       "      <td>2</td>\n",
       "      <td>0.0</td>\n",
       "      <td>200.0</td>\n",
       "      <td>0.0</td>\n",
       "      <td>0.0</td>\n",
       "    </tr>\n",
       "    <tr>\n",
       "      <th>...</th>\n",
       "      <td>...</td>\n",
       "      <td>...</td>\n",
       "      <td>...</td>\n",
       "      <td>...</td>\n",
       "      <td>...</td>\n",
       "      <td>...</td>\n",
       "      <td>...</td>\n",
       "      <td>...</td>\n",
       "    </tr>\n",
       "    <tr>\n",
       "      <th>Яровой Владислав</th>\n",
       "      <td>г. Новосибирск, 11-15 мая 2021 года</td>\n",
       "      <td>TUM</td>\n",
       "      <td>Qualification</td>\n",
       "      <td>2</td>\n",
       "      <td>22.0</td>\n",
       "      <td>259.0</td>\n",
       "      <td>0.0</td>\n",
       "      <td>0.0</td>\n",
       "    </tr>\n",
       "    <tr>\n",
       "      <th>Яровой Владислав</th>\n",
       "      <td>г. Новосибирск, 11-15 мая 2021 года</td>\n",
       "      <td>TUM</td>\n",
       "      <td>Team Final</td>\n",
       "      <td>1</td>\n",
       "      <td>33.0</td>\n",
       "      <td>251.0</td>\n",
       "      <td>0.0</td>\n",
       "      <td>0.0</td>\n",
       "    </tr>\n",
       "    <tr>\n",
       "      <th>Яценко Виктория</th>\n",
       "      <td>г. Москва, 29 ноября - 3 декабря 2021 года</td>\n",
       "      <td>TRA</td>\n",
       "      <td>Final</td>\n",
       "      <td>1</td>\n",
       "      <td>58.0</td>\n",
       "      <td>157.0</td>\n",
       "      <td>950.0</td>\n",
       "      <td>12265.0</td>\n",
       "    </tr>\n",
       "    <tr>\n",
       "      <th>Яценко Виктория</th>\n",
       "      <td>г. Москва, 29 ноября - 3 декабря 2021 года</td>\n",
       "      <td>TRA</td>\n",
       "      <td>Qualification</td>\n",
       "      <td>1</td>\n",
       "      <td>0.0</td>\n",
       "      <td>156.0</td>\n",
       "      <td>960.0</td>\n",
       "      <td>12865.0</td>\n",
       "    </tr>\n",
       "    <tr>\n",
       "      <th>Яценко Виктория</th>\n",
       "      <td>г. Москва, 29 ноября - 3 декабря 2021 года</td>\n",
       "      <td>TRA</td>\n",
       "      <td>Qualification</td>\n",
       "      <td>2</td>\n",
       "      <td>58.0</td>\n",
       "      <td>163.0</td>\n",
       "      <td>940.0</td>\n",
       "      <td>12275.0</td>\n",
       "    </tr>\n",
       "  </tbody>\n",
       "</table>\n",
       "<p>13469 rows × 8 columns</p>\n",
       "</div>"
      ],
      "text/plain": [
       "Judge                                               Subtitle Discipline  \\\n",
       "name                                                                      \n",
       "Test 2 Test 2     г. Москва, 29 ноября - 3 декабря 2021 года        TRA   \n",
       "Test 2 Test 2     г. Москва, 29 ноября - 3 декабря 2021 года        TRA   \n",
       "Test Test         г. Москва, 29 ноября - 3 декабря 2021 года        DMT   \n",
       "Test Test         г. Москва, 29 ноября - 3 декабря 2021 года        DMT   \n",
       "Test Test         г. Москва, 29 ноября - 3 декабря 2021 года        TRA   \n",
       "...                                                      ...        ...   \n",
       "Яровой Владислав         г. Новосибирск, 11-15 мая 2021 года        TUM   \n",
       "Яровой Владислав         г. Новосибирск, 11-15 мая 2021 года        TUM   \n",
       "Яценко Виктория   г. Москва, 29 ноября - 3 декабря 2021 года        TRA   \n",
       "Яценко Виктория   г. Москва, 29 ноября - 3 декабря 2021 года        TRA   \n",
       "Яценко Виктория   г. Москва, 29 ноября - 3 декабря 2021 года        TRA   \n",
       "\n",
       "Judge                     Stage  Routine #     D     E∑      H        T  \n",
       "name                                                                     \n",
       "Test 2 Test 2     Qualification          1   0.0  200.0    0.0      0.0  \n",
       "Test 2 Test 2     Qualification          2   0.0    0.0    0.0      0.0  \n",
       "Test Test         Qualification          1   0.0  295.0    0.0      0.0  \n",
       "Test Test         Qualification          2   0.0    0.0    0.0      0.0  \n",
       "Test Test         Qualification          2   0.0  200.0    0.0      0.0  \n",
       "...                         ...        ...   ...    ...    ...      ...  \n",
       "Яровой Владислав  Qualification          2  22.0  259.0    0.0      0.0  \n",
       "Яровой Владислав     Team Final          1  33.0  251.0    0.0      0.0  \n",
       "Яценко Виктория           Final          1  58.0  157.0  950.0  12265.0  \n",
       "Яценко Виктория   Qualification          1   0.0  156.0  960.0  12865.0  \n",
       "Яценко Виктория   Qualification          2  58.0  163.0  940.0  12275.0  \n",
       "\n",
       "[13469 rows x 8 columns]"
      ]
     },
     "execution_count": 233,
     "metadata": {},
     "output_type": "execute_result"
    }
   ],
   "source": [
    "df1 = df.pivot_table('∑', ['name', 'Subtitle', 'Discipline', 'Stage', 'Routine #'], 'Judge')\n",
    "df1.reset_index(drop=False, inplace=True)\n",
    "df1.set_index('name',  inplace = True)\n",
    "df1 = df1[['Subtitle', 'Discipline', 'Stage', 'Routine #', 'D', 'E∑', 'H', 'T']]\n",
    "df1.drop_duplicates(inplace = True)\n",
    "df1"
   ]
  },
  {
   "cell_type": "markdown",
   "id": "9d1645b0",
   "metadata": {},
   "source": [
    "В этой таблице оставим строки из исходной таблицы, которые пригодятся далее."
   ]
  },
  {
   "cell_type": "code",
   "execution_count": 234,
   "id": "6e294c58",
   "metadata": {
    "scrolled": true
   },
   "outputs": [
    {
     "data": {
      "text/html": [
       "<div>\n",
       "<style scoped>\n",
       "    .dataframe tbody tr th:only-of-type {\n",
       "        vertical-align: middle;\n",
       "    }\n",
       "\n",
       "    .dataframe tbody tr th {\n",
       "        vertical-align: top;\n",
       "    }\n",
       "\n",
       "    .dataframe thead th {\n",
       "        text-align: right;\n",
       "    }\n",
       "</style>\n",
       "<table border=\"1\" class=\"dataframe\">\n",
       "  <thead>\n",
       "    <tr style=\"text-align: right;\">\n",
       "      <th></th>\n",
       "      <th>Subtitle</th>\n",
       "      <th>Competition</th>\n",
       "      <th>Discipline</th>\n",
       "      <th>Stage</th>\n",
       "      <th>Sex</th>\n",
       "      <th>Representing</th>\n",
       "      <th>Routine #</th>\n",
       "      <th># Elements</th>\n",
       "      <th>Rank</th>\n",
       "    </tr>\n",
       "    <tr>\n",
       "      <th>name</th>\n",
       "      <th></th>\n",
       "      <th></th>\n",
       "      <th></th>\n",
       "      <th></th>\n",
       "      <th></th>\n",
       "      <th></th>\n",
       "      <th></th>\n",
       "      <th></th>\n",
       "      <th></th>\n",
       "    </tr>\n",
       "  </thead>\n",
       "  <tbody>\n",
       "    <tr>\n",
       "      <th>Test Testov</th>\n",
       "      <td>г. Краснодар, 19-23 июля 2022 года</td>\n",
       "      <td>TEST</td>\n",
       "      <td>TRA</td>\n",
       "      <td>Qualification</td>\n",
       "      <td>NaN</td>\n",
       "      <td>Test city</td>\n",
       "      <td>1</td>\n",
       "      <td>10</td>\n",
       "      <td>1</td>\n",
       "    </tr>\n",
       "    <tr>\n",
       "      <th>Test Testov</th>\n",
       "      <td>г. Краснодар, 19-23 июля 2022 года</td>\n",
       "      <td>TEST</td>\n",
       "      <td>TRA</td>\n",
       "      <td>Qualification</td>\n",
       "      <td>NaN</td>\n",
       "      <td>Test city</td>\n",
       "      <td>1</td>\n",
       "      <td>10</td>\n",
       "      <td>1</td>\n",
       "    </tr>\n",
       "    <tr>\n",
       "      <th>Test Testov</th>\n",
       "      <td>г. Краснодар, 19-23 июля 2022 года</td>\n",
       "      <td>TEST</td>\n",
       "      <td>TRA</td>\n",
       "      <td>Qualification</td>\n",
       "      <td>NaN</td>\n",
       "      <td>Test city</td>\n",
       "      <td>1</td>\n",
       "      <td>10</td>\n",
       "      <td>1</td>\n",
       "    </tr>\n",
       "    <tr>\n",
       "      <th>Test Testov</th>\n",
       "      <td>г. Краснодар, 19-23 июля 2022 года</td>\n",
       "      <td>TEST</td>\n",
       "      <td>TRA</td>\n",
       "      <td>Qualification</td>\n",
       "      <td>NaN</td>\n",
       "      <td>Test city</td>\n",
       "      <td>1</td>\n",
       "      <td>10</td>\n",
       "      <td>1</td>\n",
       "    </tr>\n",
       "    <tr>\n",
       "      <th>Test Testov</th>\n",
       "      <td>г. Краснодар, 19-23 июля 2022 года</td>\n",
       "      <td>TEST</td>\n",
       "      <td>TRA</td>\n",
       "      <td>Qualification</td>\n",
       "      <td>NaN</td>\n",
       "      <td>Test city</td>\n",
       "      <td>1</td>\n",
       "      <td>10</td>\n",
       "      <td>1</td>\n",
       "    </tr>\n",
       "    <tr>\n",
       "      <th>...</th>\n",
       "      <td>...</td>\n",
       "      <td>...</td>\n",
       "      <td>...</td>\n",
       "      <td>...</td>\n",
       "      <td>...</td>\n",
       "      <td>...</td>\n",
       "      <td>...</td>\n",
       "      <td>...</td>\n",
       "      <td>...</td>\n",
       "    </tr>\n",
       "    <tr>\n",
       "      <th>Погромская Татьяна</th>\n",
       "      <td>г. Санкт-Петербург, 22-26 сентября 2021 года</td>\n",
       "      <td>Женщины</td>\n",
       "      <td>SYN</td>\n",
       "      <td>Final</td>\n",
       "      <td>NaN</td>\n",
       "      <td>Ростовская область</td>\n",
       "      <td>1</td>\n",
       "      <td>10</td>\n",
       "      <td>4</td>\n",
       "    </tr>\n",
       "    <tr>\n",
       "      <th>Погромская Татьяна</th>\n",
       "      <td>г. Санкт-Петербург, 22-26 сентября 2021 года</td>\n",
       "      <td>Женщины</td>\n",
       "      <td>SYN</td>\n",
       "      <td>Final</td>\n",
       "      <td>NaN</td>\n",
       "      <td>Ростовская область</td>\n",
       "      <td>1</td>\n",
       "      <td>10</td>\n",
       "      <td>4</td>\n",
       "    </tr>\n",
       "    <tr>\n",
       "      <th>Погромская Татьяна</th>\n",
       "      <td>г. Санкт-Петербург, 22-26 сентября 2021 года</td>\n",
       "      <td>Женщины</td>\n",
       "      <td>SYN</td>\n",
       "      <td>Final</td>\n",
       "      <td>NaN</td>\n",
       "      <td>Ростовская область</td>\n",
       "      <td>1</td>\n",
       "      <td>10</td>\n",
       "      <td>4</td>\n",
       "    </tr>\n",
       "    <tr>\n",
       "      <th>Погромская Татьяна</th>\n",
       "      <td>г. Санкт-Петербург, 22-26 сентября 2021 года</td>\n",
       "      <td>Женщины</td>\n",
       "      <td>SYN</td>\n",
       "      <td>Final</td>\n",
       "      <td>NaN</td>\n",
       "      <td>Ростовская область</td>\n",
       "      <td>1</td>\n",
       "      <td>10</td>\n",
       "      <td>4</td>\n",
       "    </tr>\n",
       "    <tr>\n",
       "      <th>Погромская Татьяна</th>\n",
       "      <td>г. Санкт-Петербург, 22-26 сентября 2021 года</td>\n",
       "      <td>Женщины</td>\n",
       "      <td>SYN</td>\n",
       "      <td>Final</td>\n",
       "      <td>NaN</td>\n",
       "      <td>Ростовская область</td>\n",
       "      <td>1</td>\n",
       "      <td>10</td>\n",
       "      <td>4</td>\n",
       "    </tr>\n",
       "  </tbody>\n",
       "</table>\n",
       "<p>212846 rows × 9 columns</p>\n",
       "</div>"
      ],
      "text/plain": [
       "                                                        Subtitle Competition  \\\n",
       "name                                                                           \n",
       "Test Testov                   г. Краснодар, 19-23 июля 2022 года        TEST   \n",
       "Test Testov                   г. Краснодар, 19-23 июля 2022 года        TEST   \n",
       "Test Testov                   г. Краснодар, 19-23 июля 2022 года        TEST   \n",
       "Test Testov                   г. Краснодар, 19-23 июля 2022 года        TEST   \n",
       "Test Testov                   г. Краснодар, 19-23 июля 2022 года        TEST   \n",
       "...                                                          ...         ...   \n",
       "Погромская Татьяна  г. Санкт-Петербург, 22-26 сентября 2021 года     Женщины   \n",
       "Погромская Татьяна  г. Санкт-Петербург, 22-26 сентября 2021 года     Женщины   \n",
       "Погромская Татьяна  г. Санкт-Петербург, 22-26 сентября 2021 года     Женщины   \n",
       "Погромская Татьяна  г. Санкт-Петербург, 22-26 сентября 2021 года     Женщины   \n",
       "Погромская Татьяна  г. Санкт-Петербург, 22-26 сентября 2021 года     Женщины   \n",
       "\n",
       "                   Discipline          Stage  Sex        Representing  \\\n",
       "name                                                                    \n",
       "Test Testov               TRA  Qualification  NaN           Test city   \n",
       "Test Testov               TRA  Qualification  NaN           Test city   \n",
       "Test Testov               TRA  Qualification  NaN           Test city   \n",
       "Test Testov               TRA  Qualification  NaN           Test city   \n",
       "Test Testov               TRA  Qualification  NaN           Test city   \n",
       "...                       ...            ...  ...                 ...   \n",
       "Погромская Татьяна        SYN          Final  NaN  Ростовская область   \n",
       "Погромская Татьяна        SYN          Final  NaN  Ростовская область   \n",
       "Погромская Татьяна        SYN          Final  NaN  Ростовская область   \n",
       "Погромская Татьяна        SYN          Final  NaN  Ростовская область   \n",
       "Погромская Татьяна        SYN          Final  NaN  Ростовская область   \n",
       "\n",
       "                    Routine #  # Elements  Rank  \n",
       "name                                             \n",
       "Test Testov                 1          10     1  \n",
       "Test Testov                 1          10     1  \n",
       "Test Testov                 1          10     1  \n",
       "Test Testov                 1          10     1  \n",
       "Test Testov                 1          10     1  \n",
       "...                       ...         ...   ...  \n",
       "Погромская Татьяна          1          10     4  \n",
       "Погромская Татьяна          1          10     4  \n",
       "Погромская Татьяна          1          10     4  \n",
       "Погромская Татьяна          1          10     4  \n",
       "Погромская Татьяна          1          10     4  \n",
       "\n",
       "[212846 rows x 9 columns]"
      ]
     },
     "execution_count": 234,
     "metadata": {},
     "output_type": "execute_result"
    }
   ],
   "source": [
    "df2 = df[['Subtitle', 'Competition',\n",
    "    'Discipline', \n",
    "         'Stage', 'Sex', \n",
    "        'Representing',\n",
    "   'Routine #',\n",
    "    '# Elements', 'Rank']]\n",
    "df2"
   ]
  },
  {
   "cell_type": "markdown",
   "id": "9a3fb7f6",
   "metadata": {},
   "source": [
    "Обьединяем сводную таблицу с подготовленной."
   ]
  },
  {
   "cell_type": "code",
   "execution_count": 235,
   "id": "f54674e7",
   "metadata": {
    "scrolled": true
   },
   "outputs": [
    {
     "data": {
      "text/html": [
       "<div>\n",
       "<style scoped>\n",
       "    .dataframe tbody tr th:only-of-type {\n",
       "        vertical-align: middle;\n",
       "    }\n",
       "\n",
       "    .dataframe tbody tr th {\n",
       "        vertical-align: top;\n",
       "    }\n",
       "\n",
       "    .dataframe thead th {\n",
       "        text-align: right;\n",
       "    }\n",
       "</style>\n",
       "<table border=\"1\" class=\"dataframe\">\n",
       "  <thead>\n",
       "    <tr style=\"text-align: right;\">\n",
       "      <th></th>\n",
       "      <th>Subtitle</th>\n",
       "      <th>Discipline</th>\n",
       "      <th>Stage</th>\n",
       "      <th>Routine #</th>\n",
       "      <th>D</th>\n",
       "      <th>E∑</th>\n",
       "      <th>H</th>\n",
       "      <th>T</th>\n",
       "      <th>Competition</th>\n",
       "      <th>Sex</th>\n",
       "      <th>Representing</th>\n",
       "      <th># Elements</th>\n",
       "      <th>Rank</th>\n",
       "    </tr>\n",
       "    <tr>\n",
       "      <th>name</th>\n",
       "      <th></th>\n",
       "      <th></th>\n",
       "      <th></th>\n",
       "      <th></th>\n",
       "      <th></th>\n",
       "      <th></th>\n",
       "      <th></th>\n",
       "      <th></th>\n",
       "      <th></th>\n",
       "      <th></th>\n",
       "      <th></th>\n",
       "      <th></th>\n",
       "      <th></th>\n",
       "    </tr>\n",
       "  </thead>\n",
       "  <tbody>\n",
       "    <tr>\n",
       "      <th>Test 2 Test 2</th>\n",
       "      <td>г. Москва, 29 ноября - 3 декабря 2021 года</td>\n",
       "      <td>TRA</td>\n",
       "      <td>Qualification</td>\n",
       "      <td>1</td>\n",
       "      <td>0.0</td>\n",
       "      <td>200.0</td>\n",
       "      <td>0.0</td>\n",
       "      <td>0.0</td>\n",
       "      <td>TEST</td>\n",
       "      <td>NaN</td>\n",
       "      <td>NaN</td>\n",
       "      <td>10</td>\n",
       "      <td>2</td>\n",
       "    </tr>\n",
       "    <tr>\n",
       "      <th>Test 2 Test 2</th>\n",
       "      <td>г. Москва, 29 ноября - 3 декабря 2021 года</td>\n",
       "      <td>TRA</td>\n",
       "      <td>Qualification</td>\n",
       "      <td>2</td>\n",
       "      <td>0.0</td>\n",
       "      <td>0.0</td>\n",
       "      <td>0.0</td>\n",
       "      <td>0.0</td>\n",
       "      <td>TEST</td>\n",
       "      <td>NaN</td>\n",
       "      <td>NaN</td>\n",
       "      <td>0</td>\n",
       "      <td>2</td>\n",
       "    </tr>\n",
       "    <tr>\n",
       "      <th>Test Test</th>\n",
       "      <td>г. Москва, 29 ноября - 3 декабря 2021 года</td>\n",
       "      <td>DMT</td>\n",
       "      <td>Qualification</td>\n",
       "      <td>1</td>\n",
       "      <td>0.0</td>\n",
       "      <td>295.0</td>\n",
       "      <td>0.0</td>\n",
       "      <td>0.0</td>\n",
       "      <td>test</td>\n",
       "      <td>NaN</td>\n",
       "      <td>NaN</td>\n",
       "      <td>2</td>\n",
       "      <td>1</td>\n",
       "    </tr>\n",
       "    <tr>\n",
       "      <th>Test Test</th>\n",
       "      <td>г. Москва, 29 ноября - 3 декабря 2021 года</td>\n",
       "      <td>DMT</td>\n",
       "      <td>Qualification</td>\n",
       "      <td>2</td>\n",
       "      <td>0.0</td>\n",
       "      <td>0.0</td>\n",
       "      <td>0.0</td>\n",
       "      <td>0.0</td>\n",
       "      <td>test</td>\n",
       "      <td>NaN</td>\n",
       "      <td>NaN</td>\n",
       "      <td>0</td>\n",
       "      <td>1</td>\n",
       "    </tr>\n",
       "    <tr>\n",
       "      <th>Test Test</th>\n",
       "      <td>г. Москва, 29 ноября - 3 декабря 2021 года</td>\n",
       "      <td>TRA</td>\n",
       "      <td>Qualification</td>\n",
       "      <td>2</td>\n",
       "      <td>0.0</td>\n",
       "      <td>200.0</td>\n",
       "      <td>0.0</td>\n",
       "      <td>0.0</td>\n",
       "      <td>TEST</td>\n",
       "      <td>NaN</td>\n",
       "      <td>NaN</td>\n",
       "      <td>10</td>\n",
       "      <td>1</td>\n",
       "    </tr>\n",
       "    <tr>\n",
       "      <th>...</th>\n",
       "      <td>...</td>\n",
       "      <td>...</td>\n",
       "      <td>...</td>\n",
       "      <td>...</td>\n",
       "      <td>...</td>\n",
       "      <td>...</td>\n",
       "      <td>...</td>\n",
       "      <td>...</td>\n",
       "      <td>...</td>\n",
       "      <td>...</td>\n",
       "      <td>...</td>\n",
       "      <td>...</td>\n",
       "      <td>...</td>\n",
       "    </tr>\n",
       "    <tr>\n",
       "      <th>Яровой Владислав</th>\n",
       "      <td>г. Новосибирск, 11-15 мая 2021 года</td>\n",
       "      <td>TUM</td>\n",
       "      <td>Qualification</td>\n",
       "      <td>2</td>\n",
       "      <td>22.0</td>\n",
       "      <td>259.0</td>\n",
       "      <td>0.0</td>\n",
       "      <td>0.0</td>\n",
       "      <td>командные соревнования, Юниоры (13-16 лет)</td>\n",
       "      <td>NaN</td>\n",
       "      <td>Омская область</td>\n",
       "      <td>8</td>\n",
       "      <td>8</td>\n",
       "    </tr>\n",
       "    <tr>\n",
       "      <th>Яровой Владислав</th>\n",
       "      <td>г. Новосибирск, 11-15 мая 2021 года</td>\n",
       "      <td>TUM</td>\n",
       "      <td>Team Final</td>\n",
       "      <td>1</td>\n",
       "      <td>33.0</td>\n",
       "      <td>251.0</td>\n",
       "      <td>0.0</td>\n",
       "      <td>0.0</td>\n",
       "      <td>командные соревнования, Юниоры (13-16 лет)</td>\n",
       "      <td>NaN</td>\n",
       "      <td>Омская область</td>\n",
       "      <td>8</td>\n",
       "      <td>7</td>\n",
       "    </tr>\n",
       "    <tr>\n",
       "      <th>Яценко Виктория</th>\n",
       "      <td>г. Москва, 29 ноября - 3 декабря 2021 года</td>\n",
       "      <td>TRA</td>\n",
       "      <td>Final</td>\n",
       "      <td>1</td>\n",
       "      <td>58.0</td>\n",
       "      <td>157.0</td>\n",
       "      <td>950.0</td>\n",
       "      <td>12265.0</td>\n",
       "      <td>Девочки (9-10 лет) - программа 2 сп. р.</td>\n",
       "      <td>NaN</td>\n",
       "      <td>Краснодарский край</td>\n",
       "      <td>10</td>\n",
       "      <td>6</td>\n",
       "    </tr>\n",
       "    <tr>\n",
       "      <th>Яценко Виктория</th>\n",
       "      <td>г. Москва, 29 ноября - 3 декабря 2021 года</td>\n",
       "      <td>TRA</td>\n",
       "      <td>Qualification</td>\n",
       "      <td>1</td>\n",
       "      <td>0.0</td>\n",
       "      <td>156.0</td>\n",
       "      <td>960.0</td>\n",
       "      <td>12865.0</td>\n",
       "      <td>Девочки (9-10 лет) - программа 2 сп. р.</td>\n",
       "      <td>NaN</td>\n",
       "      <td>Краснодарский край</td>\n",
       "      <td>10</td>\n",
       "      <td>7</td>\n",
       "    </tr>\n",
       "    <tr>\n",
       "      <th>Яценко Виктория</th>\n",
       "      <td>г. Москва, 29 ноября - 3 декабря 2021 года</td>\n",
       "      <td>TRA</td>\n",
       "      <td>Qualification</td>\n",
       "      <td>2</td>\n",
       "      <td>58.0</td>\n",
       "      <td>163.0</td>\n",
       "      <td>940.0</td>\n",
       "      <td>12275.0</td>\n",
       "      <td>Девочки (9-10 лет) - программа 2 сп. р.</td>\n",
       "      <td>NaN</td>\n",
       "      <td>Краснодарский край</td>\n",
       "      <td>10</td>\n",
       "      <td>7</td>\n",
       "    </tr>\n",
       "  </tbody>\n",
       "</table>\n",
       "<p>15179 rows × 13 columns</p>\n",
       "</div>"
      ],
      "text/plain": [
       "                                                    Subtitle Discipline  \\\n",
       "name                                                                      \n",
       "Test 2 Test 2     г. Москва, 29 ноября - 3 декабря 2021 года        TRA   \n",
       "Test 2 Test 2     г. Москва, 29 ноября - 3 декабря 2021 года        TRA   \n",
       "Test Test         г. Москва, 29 ноября - 3 декабря 2021 года        DMT   \n",
       "Test Test         г. Москва, 29 ноября - 3 декабря 2021 года        DMT   \n",
       "Test Test         г. Москва, 29 ноября - 3 декабря 2021 года        TRA   \n",
       "...                                                      ...        ...   \n",
       "Яровой Владислав         г. Новосибирск, 11-15 мая 2021 года        TUM   \n",
       "Яровой Владислав         г. Новосибирск, 11-15 мая 2021 года        TUM   \n",
       "Яценко Виктория   г. Москва, 29 ноября - 3 декабря 2021 года        TRA   \n",
       "Яценко Виктория   г. Москва, 29 ноября - 3 декабря 2021 года        TRA   \n",
       "Яценко Виктория   г. Москва, 29 ноября - 3 декабря 2021 года        TRA   \n",
       "\n",
       "                          Stage  Routine #     D     E∑      H        T  \\\n",
       "name                                                                      \n",
       "Test 2 Test 2     Qualification          1   0.0  200.0    0.0      0.0   \n",
       "Test 2 Test 2     Qualification          2   0.0    0.0    0.0      0.0   \n",
       "Test Test         Qualification          1   0.0  295.0    0.0      0.0   \n",
       "Test Test         Qualification          2   0.0    0.0    0.0      0.0   \n",
       "Test Test         Qualification          2   0.0  200.0    0.0      0.0   \n",
       "...                         ...        ...   ...    ...    ...      ...   \n",
       "Яровой Владислав  Qualification          2  22.0  259.0    0.0      0.0   \n",
       "Яровой Владислав     Team Final          1  33.0  251.0    0.0      0.0   \n",
       "Яценко Виктория           Final          1  58.0  157.0  950.0  12265.0   \n",
       "Яценко Виктория   Qualification          1   0.0  156.0  960.0  12865.0   \n",
       "Яценко Виктория   Qualification          2  58.0  163.0  940.0  12275.0   \n",
       "\n",
       "                                                 Competition  Sex  \\\n",
       "name                                                                \n",
       "Test 2 Test 2                                           TEST  NaN   \n",
       "Test 2 Test 2                                           TEST  NaN   \n",
       "Test Test                                               test  NaN   \n",
       "Test Test                                               test  NaN   \n",
       "Test Test                                               TEST  NaN   \n",
       "...                                                      ...  ...   \n",
       "Яровой Владислав  командные соревнования, Юниоры (13-16 лет)  NaN   \n",
       "Яровой Владислав  командные соревнования, Юниоры (13-16 лет)  NaN   \n",
       "Яценко Виктория      Девочки (9-10 лет) - программа 2 сп. р.  NaN   \n",
       "Яценко Виктория      Девочки (9-10 лет) - программа 2 сп. р.  NaN   \n",
       "Яценко Виктория      Девочки (9-10 лет) - программа 2 сп. р.  NaN   \n",
       "\n",
       "                        Representing  # Elements  Rank  \n",
       "name                                                    \n",
       "Test 2 Test 2                    NaN          10     2  \n",
       "Test 2 Test 2                    NaN           0     2  \n",
       "Test Test                        NaN           2     1  \n",
       "Test Test                        NaN           0     1  \n",
       "Test Test                        NaN          10     1  \n",
       "...                              ...         ...   ...  \n",
       "Яровой Владислав      Омская область           8     8  \n",
       "Яровой Владислав      Омская область           8     7  \n",
       "Яценко Виктория   Краснодарский край          10     6  \n",
       "Яценко Виктория   Краснодарский край          10     7  \n",
       "Яценко Виктория   Краснодарский край          10     7  \n",
       "\n",
       "[15179 rows x 13 columns]"
      ]
     },
     "execution_count": 235,
     "metadata": {},
     "output_type": "execute_result"
    }
   ],
   "source": [
    "df = pd.merge(df1, df2, on = ['name', 'Subtitle', 'Discipline', 'Stage', 'Routine #'])\n",
    "df.drop_duplicates(inplace = True)\n",
    "df"
   ]
  },
  {
   "cell_type": "code",
   "execution_count": 236,
   "id": "3bbd2701",
   "metadata": {},
   "outputs": [
    {
     "name": "stdout",
     "output_type": "stream",
     "text": [
      "<class 'pandas.core.frame.DataFrame'>\n",
      "Index: 15179 entries, Test 2 Test 2 to Яценко Виктория\n",
      "Data columns (total 13 columns):\n",
      " #   Column        Non-Null Count  Dtype  \n",
      "---  ------        --------------  -----  \n",
      " 0   Subtitle      15179 non-null  object \n",
      " 1   Discipline    15179 non-null  object \n",
      " 2   Stage         15179 non-null  object \n",
      " 3   Routine #     15179 non-null  int64  \n",
      " 4   D             15179 non-null  float64\n",
      " 5   E∑            15179 non-null  float64\n",
      " 6   H             15179 non-null  float64\n",
      " 7   T             15179 non-null  float64\n",
      " 8   Competition   15179 non-null  object \n",
      " 9   Sex           0 non-null      float64\n",
      " 10  Representing  15174 non-null  object \n",
      " 11  # Elements    15179 non-null  int64  \n",
      " 12  Rank          15179 non-null  int64  \n",
      "dtypes: float64(5), int64(3), object(5)\n",
      "memory usage: 1.6+ MB\n"
     ]
    }
   ],
   "source": [
    "df.info()"
   ]
  },
  {
   "cell_type": "markdown",
   "id": "50451251",
   "metadata": {},
   "source": [
    "В результате получили таблицу с которой можно работать, где\n",
    "* `index` - имя участника\n",
    "* `Subtitle` - подназвание соревнований\n",
    "* `Discipline` - снаряд на котором выступает участник\n",
    "* `Stage` - стадия соревнований\n",
    "* `Routine #` - номер комбинации\n",
    "* `D` - сложность комбинации\n",
    "* `E∑` - общая оценка комбинации\n",
    "* `H` - перемещение по сетке\n",
    "* `T` - время комбинации\n",
    "* `Competition` - название соревнования\n",
    "* `Sex` - пол участника\n",
    "* `Representing` - регион участника\n",
    "* `# Elements` - количество элементов\n",
    "* `Rank` - место участника"
   ]
  },
  {
   "cell_type": "markdown",
   "id": "bb2acdc9",
   "metadata": {},
   "source": [
    "## Унификация и замена типов данных"
   ]
  },
  {
   "cell_type": "markdown",
   "id": "51f2fe2c",
   "metadata": {},
   "source": [
    "Теперь давайте узнаем сколько уникальных данных в каждом столбце. Это нам поможет найти возможные ошибки, а также подскажет, где подходят другие типы данных."
   ]
  },
  {
   "cell_type": "code",
   "execution_count": 237,
   "id": "34212b3d",
   "metadata": {},
   "outputs": [
    {
     "data": {
      "text/plain": [
       "Subtitle          13\n",
       "Discipline         4\n",
       "Stage              7\n",
       "Routine #          2\n",
       "D                205\n",
       "E∑               630\n",
       "H                206\n",
       "T               2842\n",
       "Competition      154\n",
       "Sex                0\n",
       "Representing      59\n",
       "# Elements        12\n",
       "Rank              72\n",
       "dtype: int64"
      ]
     },
     "execution_count": 237,
     "metadata": {},
     "output_type": "execute_result"
    }
   ],
   "source": [
    "df.nunique()"
   ]
  },
  {
   "cell_type": "markdown",
   "id": "1ceea518",
   "metadata": {},
   "source": [
    "Пройдемся по всем немногочисленным столбцам и узнаем, что находятся в базе."
   ]
  },
  {
   "cell_type": "code",
   "execution_count": 238,
   "id": "a26c5d79",
   "metadata": {},
   "outputs": [
    {
     "data": {
      "text/plain": [
       "array(['г. Москва, 29 ноября - 3 декабря 2021 года',\n",
       "       'г. Санкт-Петербург, 22-26 сентября 2021 года',\n",
       "       'г. Новосибирск, 11-15 мая 2021 года',\n",
       "       'Новый Уренгой, Ямало-Ненецкий автономный округ, 26-30 апреля',\n",
       "       'г.   Иваново, 3-7 декабря 2021 года',\n",
       "       'г. Тольятти, Самарская область, 26-29 апреля',\n",
       "       '27 апреля - 01 мая, Комсомольск-на-Амуре',\n",
       "       'г. Таганрог, Ростовская область, 28 июня - 02 июля 2021 года',\n",
       "       'г. Санкт-Петербург, 25-29 августа 2021 года',\n",
       "       'г. Ярославль, 23-27 февраля 2021г',\n",
       "       'г. Оренбург, 06-09 июля 2021 года',\n",
       "       'г. Москва, 02-05 февраля 2021 года',\n",
       "       'г.Ярославль, Ярославская область, 5-8 июля 2022'], dtype=object)"
      ]
     },
     "execution_count": 238,
     "metadata": {},
     "output_type": "execute_result"
    }
   ],
   "source": [
    "df['Subtitle'].unique()"
   ]
  },
  {
   "cell_type": "code",
   "execution_count": 239,
   "id": "c88d285a",
   "metadata": {
    "scrolled": true
   },
   "outputs": [
    {
     "data": {
      "text/plain": [
       "array(['TEST', 'test', 'Юноши (11-12 лет) - программа 1 сп. р.',\n",
       "       'Юноши (11-12 лет) программа 1 сп.р.',\n",
       "       'Девушки (11-12 лет) - программа 1 сп. р.',\n",
       "       'Девушки (11-12 лет) программа 1 сп.р.',\n",
       "       'двойной минитрамп - Девушки (11-12 лет)1СП',\n",
       "       'акробатическая дорожка - Девушки (11-12 лет)1СП',\n",
       "       'Мальчики (9-10 лет) - программа 2 сп.р.',\n",
       "       'Мальчики (9-10 лет) программа 1 сп.р.',\n",
       "       'двойной минитрамп - Мальчики (9-10 лет)2СП',\n",
       "       'акробатическая дорожка - Мальчики (9-10 лет) 2СП',\n",
       "       'Юноши (13-14 лет)', 'синхронные прыжки - Девочки (9-10 лет)2СП',\n",
       "       'индивидуальные прыжки - Девочки (9-10 лет)2СП',\n",
       "       'синхронные прыжки - Мальчики (9-10 лет)2СП',\n",
       "       'индивидуальные прыжки - Мальчики (9-10 лет)2СП',\n",
       "       'двойной минитрамп - Юноши (11-12 лет)1СП',\n",
       "       'синхронные прыжки - Юноши (11-12 лет)1СП',\n",
       "       'индивидуальные прыжки - Юноши (11-12 лет)1СП',\n",
       "       'двойной минитрамп - Девочки (9-10 лет)',\n",
       "       'индивидуальные прыжки - Девочки (9-10 лет)',\n",
       "       'акробатическая дорожка - Девочки (9-10 лет)', 'Юноши (11-12 лет)',\n",
       "       'Мужчины', 'Мужчины -  программа МС', 'Девушки (11-12 лет)',\n",
       "       'Девушки (11-12 лет), программа 1 сп.р.',\n",
       "       'девушки, 11-12 лет, программа 1 сп.р.',\n",
       "       'Девочки (9-10 лет) - программа 2 сп. р.',\n",
       "       'акробатическая дорожка - Девушки (13-14 лет)КМС',\n",
       "       'акробатическая дорожка - Юниорки (13-16 лет) команды',\n",
       "       'Девочки (9-10 лет) программа 1 сп.р.',\n",
       "       'синхронные прыжки - Девушки (11-12 лет)1СП',\n",
       "       'индивидуальные прыжки - Девушки (11-12 лет)1СП',\n",
       "       'Отборочные рейтинговые соревнования на Всероссийскую Летнюю спартакиаду (Юниоры, 17-21 год)',\n",
       "       'Юниоры (17-21 год) программа МС', 'Мальчики (9-10 лет)',\n",
       "       'индивидуальные прыжки - Девушки (13-14 лет)КМС',\n",
       "       'индивидуальные прыжки - Юниорки (13-16лет) команды',\n",
       "       'Рейтинговые соревнования к первенству Европы (Юниоры, 13-17 лет)',\n",
       "       'синхронные прыжки - Юноши (13-14 лет)КМС',\n",
       "       'индивидуальные прыжки - Юноши (13-14 лет)КМС',\n",
       "       'мужчины, программа МС', 'Мужчины, программа МС',\n",
       "       'двойной минитрамп - Юноши (11-12 лет)',\n",
       "       'индивидуальные прыжки - Юноши (11-12 лет)',\n",
       "       'синхронные прыжки Юноши (11-12 лет) 1СП',\n",
       "       'Юноши (11-12 лет), программа 1 сп.р.',\n",
       "       'юноши, 11-12 лет, программа 1 сп.р.',\n",
       "       'Юниорки (15-16 лет) - программа МС', 'Юниорки (15-16 лет)',\n",
       "       'Юниорки (13-16 лет)',\n",
       "       'Рейтинговые соревнования к первенству Европы (Юниорки, 13-17 лет)',\n",
       "       'Девушки (13-14 лет)', 'Девушки (13-14 лет), программа КМС',\n",
       "       'Юниорки (13-16 лет) программа МС',\n",
       "       'Юноши (13-14 лет), программа КМС',\n",
       "       'юноши, 13-14 лет, программа КМС', 'Юниоры (13-16 лет)',\n",
       "       'Юниоры (13-16 лет) программа МС',\n",
       "       'двойной минитрамп - Юниоры (15-16 лет)',\n",
       "       'индивидуальные прыжки - Юниоры (15-16 лет)', 'Юниоры (15-16 лет)',\n",
       "       'двойной минитрамп - Юноши (13-14 лет)',\n",
       "       'индивидуальные прыжки - Юноши (13-14 лет)',\n",
       "       'акробатическая дорожка - Юноши (13-14 лет)КМС',\n",
       "       'Женщины - программа МС', 'Женщины',\n",
       "       'Отборочные рейтинговые соревнования на Всероссийскую Летнюю спартакиаду (Юниорки, 17-21 год)',\n",
       "       'Девушки (13-14 лет) программа КМС',\n",
       "       'двойной минитрамп - Мальчики (9-10 лет)',\n",
       "       'индивидуальные прыжки - Мальчики (9-10 лет)',\n",
       "       'акробатическая дорожка - Юноши (11-12 лет)',\n",
       "       'Юниоры (15-16 лет) - программа МС',\n",
       "       'Юноши (13-14 лет) программа КМС',\n",
       "       'командные соревнования, Юниоры (13-16 лет)',\n",
       "       'Юноши (13-14 лет) - программа КМС', 'Девочки (9-10 лет)',\n",
       "       'Мужчины программа МС', 'Девочки (9-10 лет) - программа 2 сп.р.',\n",
       "       'акробатическая дорожка - Девочки (9-10 лет)2СП',\n",
       "       'акробатическая дорожка - Юноши (11-12 лет)1СП',\n",
       "       'индивидуальные прыжки - Девушки (13-14 лет)',\n",
       "       'юниоры, 15-16 лет, программа МС',\n",
       "       'Юниоры (15-16 лет), программа МС',\n",
       "       'двойной минитрамп - Девочки (9-10 лет)2СП',\n",
       "       'Юниоры (15-16 лет) программа МС',\n",
       "       'двойной минитрамп - Юноши (13-14 лет)КМС',\n",
       "       'индивидуальные прыжки - Юниоры (13-16 лет)',\n",
       "       'Мальчики (9-10 лет), программа 2 сп.р.',\n",
       "       'мальчики, 9-10 лет, программа 2 сп. р.',\n",
       "       'Мальчики (9-10 лет), программа  2 сп.р.',\n",
       "       'синхронные прыжки - Девушки (11- 12 лет)1СП',\n",
       "       'двойной минитрамп - Девушки (11-12 лет)',\n",
       "       'индивидуальные прыжки - Девушки (11-12 лет)',\n",
       "       'акробатическая дорожка - Девушки (11-12 лет)',\n",
       "       'Юниорки (15-16 лет) программа МС',\n",
       "       'командные соревнования, Юниорки (13-16 лет)',\n",
       "       'двойной минитрамп - Юниоры (13-16 лет) команды',\n",
       "       'акробатическая дорожка - Юниоры (13-16лет) команды',\n",
       "       'акробатическая дорожка - Юниоры (15-16 лет)',\n",
       "       'акробатическая дорожка - Юниорки (15-16 лет)',\n",
       "       'женщины, программа МС', 'Женщины, программа МС',\n",
       "       'Юниорки (17-21 год) программа МС',\n",
       "       'двойной минитрамп - Юниорки (15-16 лет)',\n",
       "       'индивидуальные прыжки - Юниорки (15-16 лет)',\n",
       "       'Девушки (13-14 лет) - программа КМС',\n",
       "       'юниорки, 15-16 лет, программа МС',\n",
       "       'Юниорки (15-16 лет), программа МС',\n",
       "       'акробатическая дорожка - Мужчины',\n",
       "       'акробатическая дорожка - Юниоры (13-16 лет)',\n",
       "       'девушки, 13-14 лет, программа КМС',\n",
       "       'синхронные прыжки Юниоры (15-16 лет) МС',\n",
       "       'индивидуальные прыжки - Юниоры (15-16 лет)МС',\n",
       "       'индивидуальные прыжки - Юниоры (13-16 лет) команды',\n",
       "       'двойной минитрамп - Юниоры (13-16 лет)',\n",
       "       'двойной минитрамп - Девушки (13-14 лет)',\n",
       "       'двойной минитрамп - Мужчины', 'индивидуальные прыжки - Мужчины',\n",
       "       'Мальчики (9-10 лет) - программа 2 сп. р.',\n",
       "       'акробатическая дорожка - Юниорки (15-16 лет)МС',\n",
       "       'девочки, 9-10 лет, программа 2 сп.р.',\n",
       "       'Девочки (9-10 лет), программа 2 сп.р.', 'Женщины программа МС',\n",
       "       'двойной минитрамп - Женщины',\n",
       "       'акробатическая дорожка - Юниорки (13-16 лет)',\n",
       "       'двойной минитрамп - Женщины (команды)',\n",
       "       'индивидуальные прыжки - Женщины',\n",
       "       'акробатическая дорожка - Женщины',\n",
       "       'акробатическая дорожка - Юноши (13-14 лет)',\n",
       "       'двойной минитрамп - Юниоры (15-16 лет)МС',\n",
       "       'синхронные прыжки - Юниоры (15-16 лет)МС',\n",
       "       'синхронные прыжки - Женщины',\n",
       "       'двойной минитрамп - Юниорки (15-16 лет)МС',\n",
       "       'двойной минитрамп - Юниорки (13-16 лет)',\n",
       "       'синхронные прыжки Юниоры (13-14 лет) КМС',\n",
       "       'акробатическая дорожка - Юниоры (15-16 лет)МС',\n",
       "       'двойной минитрамп - Девушки (13-14 лет)КМС',\n",
       "       'двойной минитрамп - Юниорки (13-16 лет) команды',\n",
       "       'Мужчины - программа МС', 'двойной минитрамп - Мужчины (команды)',\n",
       "       'синхронные прыжки - Мужчины',\n",
       "       'акробатическая дорожка - Девушки (13-14 лет)',\n",
       "       'синхронные прыжки Мужчины',\n",
       "       'синхронные прыжки - Юниорки (15-16 лет)МС',\n",
       "       'индивидуальные прыжки - Юниорки (13-16 лет)',\n",
       "       'синхронные прыжки - Девушки (13-14 лет)КМС',\n",
       "       'синхронные прыжки Юниорки (15-16 лет) МС',\n",
       "       'индивидуальные прыжки - Юниорки (15-16 лет)МС',\n",
       "       'синхронные прыжки Юниорки (13-14 лет) КМС',\n",
       "       'синхронные прыжки Женщины',\n",
       "       'акробатическая дорожка - Мальчики (9-10 лет)'], dtype=object)"
      ]
     },
     "execution_count": 239,
     "metadata": {},
     "output_type": "execute_result"
    }
   ],
   "source": [
    "df['Competition'].unique()"
   ]
  },
  {
   "cell_type": "markdown",
   "id": "ba74742e",
   "metadata": {},
   "source": [
    "В этом столбце содержится информация о важных деталях для анализа: гендере и разряде спортсмена, но она не структурирована. Также присутствуют тестовые результаты, которые следует убрать."
   ]
  },
  {
   "cell_type": "code",
   "execution_count": 240,
   "id": "9fbfd8e4",
   "metadata": {},
   "outputs": [],
   "source": [
    "df = df[~df['Competition'].isin(['test', 'TEST'])]"
   ]
  },
  {
   "cell_type": "markdown",
   "id": "5fca8ed2",
   "metadata": {},
   "source": [
    "Сделаем столбец `Razr` и добавим информацию в столбец `Sex` из данных о соревновании `Competition`."
   ]
  },
  {
   "cell_type": "code",
   "execution_count": 241,
   "id": "62b4a103",
   "metadata": {},
   "outputs": [],
   "source": [
    "mask = df['Competition'].str.contains('11')\n",
    "df.loc[mask, 'Razr'] = '1rz'\n",
    "mask = df['Competition'].str.contains('9')\n",
    "df.loc[mask, 'Razr'] = '1rz'\n",
    "mask = df['Competition'].str.contains('КМС')\n",
    "df.loc[mask, 'Razr'] = 'KMC'\n",
    "mask = df['Competition'].str.contains('13')\n",
    "df.loc[mask, 'Razr'] = 'KMC'\n",
    "mask = df['Competition'].str.contains('15')\n",
    "df.loc[mask, 'Razr'] = 'MC'\n",
    "mask = df['Competition'].str.contains('Мужчины')\n",
    "df.loc[mask, 'Razr'] = 'MC'\n",
    "mask = df['Competition'].str.contains('Женщины')\n",
    "df.loc[mask, 'Razr'] = 'MC'\n",
    "mask = df['Competition'].str.contains('МС')\n",
    "df.loc[mask, 'Razr'] = 'MC'\n",
    "mask = df['Competition'].str.contains('17')\n",
    "df.loc[mask, 'Razr'] = 'MC'"
   ]
  },
  {
   "cell_type": "code",
   "execution_count": 242,
   "id": "0e08f39e",
   "metadata": {
    "scrolled": true
   },
   "outputs": [],
   "source": [
    "df['Competition'] = df['Competition'].str.title()\n",
    "mask = df['Competition'].str.contains('Юниоры')\n",
    "df.loc[mask, 'Sex'] = 'M'\n",
    "mask = df['Competition'].str.contains('Юноши')\n",
    "df.loc[mask, 'Sex'] = 'M'\n",
    "mask = df['Competition'].str.contains('Мальчики')\n",
    "df.loc[mask, 'Sex'] = 'M'\n",
    "mask = df['Competition'].str.contains('Мужчины')\n",
    "df.loc[mask, 'Sex'] = 'M'\n",
    "mask = df['Competition'].str.contains('Юниорки')\n",
    "df.loc[mask, 'Sex'] = 'F'\n",
    "mask = df['Competition'].str.contains('Девочки')\n",
    "df.loc[mask, 'Sex'] = 'F'\n",
    "mask = df['Competition'].str.contains('Девушки')\n",
    "df.loc[mask, 'Sex'] = 'F'\n",
    "mask = df['Competition'].str.contains('Женщины')\n",
    "df.loc[mask, 'Sex'] = 'F'"
   ]
  },
  {
   "cell_type": "code",
   "execution_count": 243,
   "id": "df069ba0",
   "metadata": {},
   "outputs": [
    {
     "data": {
      "text/plain": [
       "0"
      ]
     },
     "execution_count": 243,
     "metadata": {},
     "output_type": "execute_result"
    }
   ],
   "source": [
    "df['Razr'].isna().sum()"
   ]
  },
  {
   "cell_type": "code",
   "execution_count": 244,
   "id": "023e3de3",
   "metadata": {
    "scrolled": true
   },
   "outputs": [
    {
     "data": {
      "text/html": [
       "<div>\n",
       "<style scoped>\n",
       "    .dataframe tbody tr th:only-of-type {\n",
       "        vertical-align: middle;\n",
       "    }\n",
       "\n",
       "    .dataframe tbody tr th {\n",
       "        vertical-align: top;\n",
       "    }\n",
       "\n",
       "    .dataframe thead th {\n",
       "        text-align: right;\n",
       "    }\n",
       "</style>\n",
       "<table border=\"1\" class=\"dataframe\">\n",
       "  <thead>\n",
       "    <tr style=\"text-align: right;\">\n",
       "      <th></th>\n",
       "      <th>Subtitle</th>\n",
       "      <th>Discipline</th>\n",
       "      <th>Stage</th>\n",
       "      <th>Routine #</th>\n",
       "      <th>D</th>\n",
       "      <th>E∑</th>\n",
       "      <th>H</th>\n",
       "      <th>T</th>\n",
       "      <th>Competition</th>\n",
       "      <th>Sex</th>\n",
       "      <th>Representing</th>\n",
       "      <th># Elements</th>\n",
       "      <th>Rank</th>\n",
       "      <th>Razr</th>\n",
       "    </tr>\n",
       "    <tr>\n",
       "      <th>name</th>\n",
       "      <th></th>\n",
       "      <th></th>\n",
       "      <th></th>\n",
       "      <th></th>\n",
       "      <th></th>\n",
       "      <th></th>\n",
       "      <th></th>\n",
       "      <th></th>\n",
       "      <th></th>\n",
       "      <th></th>\n",
       "      <th></th>\n",
       "      <th></th>\n",
       "      <th></th>\n",
       "      <th></th>\n",
       "    </tr>\n",
       "  </thead>\n",
       "  <tbody>\n",
       "  </tbody>\n",
       "</table>\n",
       "</div>"
      ],
      "text/plain": [
       "Empty DataFrame\n",
       "Columns: [Subtitle, Discipline, Stage, Routine #, D, E∑, H, T, Competition, Sex, Representing, # Elements, Rank, Razr]\n",
       "Index: []"
      ]
     },
     "execution_count": 244,
     "metadata": {},
     "output_type": "execute_result"
    }
   ],
   "source": [
    "df[df['Razr'].isna() == True]"
   ]
  },
  {
   "cell_type": "markdown",
   "id": "7314ab66",
   "metadata": {},
   "source": [
    "Получилось: столбцы с рязрядом и полом участника теперь полностью заполнены и присутствуют в таблице. Можно теперь удалить столбец `Competition`."
   ]
  },
  {
   "cell_type": "code",
   "execution_count": 245,
   "id": "559da027",
   "metadata": {},
   "outputs": [],
   "source": [
    "del df['Competition']"
   ]
  },
  {
   "cell_type": "code",
   "execution_count": 246,
   "id": "2b11911c",
   "metadata": {},
   "outputs": [
    {
     "data": {
      "text/plain": [
       "array(['Ямало-Ненецкий автономный округ', 'ЯНАО', 'Белгородская область',\n",
       "       'Самарская область', 'Свердловская область', 'Хабаровский край',\n",
       "       'Краснодарский край', 'Иркутская область', 'Москва',\n",
       "       'Ивановская область', 'Воронежская область',\n",
       "       'Республика Башкортостан', 'ХМАО-Югра',\n",
       "       'Ханты-Мансийский автономный округ', 'Ростовская область',\n",
       "       'Новосибирская область', 'Тверская область',\n",
       "       'ГБУ \"СШОР №41 \"Москоречье', 'Омская область', 'ГБПОУ \"МССУОР\" №1',\n",
       "       'Санкт-Петербург', 'Республика Татарстан', 'Магаданская область',\n",
       "       'Тюменская область', 'Сахалинская область',\n",
       "       'ГБУ \"СШОР №41 \"Москоречье\"', 'Красноярский край',\n",
       "       'Ставропольский край', 'Приморский край', 'Клуб \"АС\"',\n",
       "       'Кировская область', 'ГБУ \"СШОР №29 \"Хамовники\"',\n",
       "       'Оренбургская область', 'Ярославская область',\n",
       "       'Московская область', 'Курганская область', 'Челябинская область',\n",
       "       'СК \"ОГО\"', 'Брянская область', 'Клуб \"Yourways\"', 'БАЦ \"Сальто\"',\n",
       "       'Тульская область', 'Ульяновская область', 'Нижегородская область',\n",
       "       'ЯНАО/Тюменская область', 'Калининградская область',\n",
       "       'Астраханская область', 'Республика Адыгея',\n",
       "       'Московская область, Ивановская область',\n",
       "       'Москва, Белгородская область',\n",
       "       'Ямало-Ненецкий автономный округ, Москва', 'оренбургская область',\n",
       "       'Архангельская область', 'Ставропольский край, Кировская область',\n",
       "       'БП \"Небо\"', 'Томская область',\n",
       "       'Республика Адыгея, Краснодарский край',\n",
       "       'Московская область, Самарская область'], dtype=object)"
      ]
     },
     "execution_count": 246,
     "metadata": {},
     "output_type": "execute_result"
    }
   ],
   "source": [
    "df['Representing'].unique()"
   ]
  },
  {
   "cell_type": "code",
   "execution_count": 247,
   "id": "e06ee7b8",
   "metadata": {},
   "outputs": [
    {
     "data": {
      "text/plain": [
       "array(['Qualification', 'Final', 'Quarterfinal', 'Semifinal',\n",
       "       'Qualification2', 'Team Final', 'Final2'], dtype=object)"
      ]
     },
     "execution_count": 247,
     "metadata": {},
     "output_type": "execute_result"
    }
   ],
   "source": [
    "df['Stage'].unique()"
   ]
  },
  {
   "cell_type": "markdown",
   "id": "914ea9ca",
   "metadata": {},
   "source": [
    "Стандартизируем следующие 2 столбца. Уберем в первом аббревиатуры, разный регистр и объединив организации Москвы, а во втором стадии соревнований, которые проводятся по кубковой системе."
   ]
  },
  {
   "cell_type": "code",
   "execution_count": 248,
   "id": "7a8d17b3",
   "metadata": {},
   "outputs": [],
   "source": [
    "mask = df['Representing'].str.contains(',')\n",
    "df.loc[mask, 'Representing'] = '2 области'\n",
    "mask = df['Representing'].str.contains('ЯНАО')\n",
    "df.loc[mask, 'Representing'] = 'Ямало-Ненецкий автономный округ'\n",
    "mask = df['Representing'].str.contains('ХМАО-Югра')\n",
    "df.loc[mask, 'Representing'] = 'Ханты-Мансийский автономный округ'\n",
    "mask = df['Representing'].str.contains('оренбургская область')\n",
    "df.loc[mask, 'Representing'] = 'Оренбургская область'\n",
    "mask = df['Representing'].str.contains('БАЦ')\n",
    "df.loc[mask, 'Representing'] = 'Москва'\n",
    "mask = df['Representing'].str.contains('ГБУ')\n",
    "df.loc[mask, 'Representing'] = 'Москва'\n",
    "mask = df['Representing'].str.contains('ГБПОУ \"МССУОР\" №1')\n",
    "df.loc[mask, 'Representing'] = 'Москва'\n",
    "mask = df['Representing'].str.contains('Клуб')\n",
    "df.loc[mask, 'Representing'] = 'Москва'\n",
    "mask = df['Representing'].str.contains('БП \"Небо\"')\n",
    "df.loc[mask, 'Representing'] = 'Москва'\n",
    "mask = df['Representing'].str.contains('СК \"ОГО\"')\n",
    "df.loc[mask, 'Representing'] = 'Москва'"
   ]
  },
  {
   "cell_type": "code",
   "execution_count": 249,
   "id": "15cc73af",
   "metadata": {},
   "outputs": [],
   "source": [
    "mask = df['Stage'].str.contains('Final2')\n",
    "df.loc[mask, 'Stage'] = 'Final'\n",
    "mask = df['Stage'].str.contains('Quarterfinal')\n",
    "df.loc[mask, 'Stage'] = 'Semifinal'\n",
    "mask = df['Stage'].str.contains('Qualification2')\n",
    "df.loc[mask, 'Stage'] = 'Qualification'"
   ]
  },
  {
   "cell_type": "markdown",
   "id": "0d8e7450",
   "metadata": {},
   "source": [
    "Смущает, что в столбце `# Elements` уникальных данных 12 ведь элементов всего 10."
   ]
  },
  {
   "cell_type": "code",
   "execution_count": 250,
   "id": "cf4315b6",
   "metadata": {},
   "outputs": [
    {
     "data": {
      "text/plain": [
       "array([ 1,  2,  8,  0, 10,  6,  3,  9,  4,  5,  7, -1], dtype=int64)"
      ]
     },
     "execution_count": 250,
     "metadata": {},
     "output_type": "execute_result"
    }
   ],
   "source": [
    "df['# Elements'].unique()"
   ]
  },
  {
   "cell_type": "markdown",
   "id": "0d1755cd",
   "metadata": {},
   "source": [
    "Узнаем какие строки имеют отрицательное количество элементов."
   ]
  },
  {
   "cell_type": "code",
   "execution_count": 251,
   "id": "dd5acdcc",
   "metadata": {
    "scrolled": false
   },
   "outputs": [
    {
     "data": {
      "text/html": [
       "<div>\n",
       "<style scoped>\n",
       "    .dataframe tbody tr th:only-of-type {\n",
       "        vertical-align: middle;\n",
       "    }\n",
       "\n",
       "    .dataframe tbody tr th {\n",
       "        vertical-align: top;\n",
       "    }\n",
       "\n",
       "    .dataframe thead th {\n",
       "        text-align: right;\n",
       "    }\n",
       "</style>\n",
       "<table border=\"1\" class=\"dataframe\">\n",
       "  <thead>\n",
       "    <tr style=\"text-align: right;\">\n",
       "      <th></th>\n",
       "      <th>Subtitle</th>\n",
       "      <th>Discipline</th>\n",
       "      <th>Stage</th>\n",
       "      <th>Routine #</th>\n",
       "      <th>D</th>\n",
       "      <th>E∑</th>\n",
       "      <th>H</th>\n",
       "      <th>T</th>\n",
       "      <th>Sex</th>\n",
       "      <th>Representing</th>\n",
       "      <th># Elements</th>\n",
       "      <th>Rank</th>\n",
       "      <th>Razr</th>\n",
       "    </tr>\n",
       "    <tr>\n",
       "      <th>name</th>\n",
       "      <th></th>\n",
       "      <th></th>\n",
       "      <th></th>\n",
       "      <th></th>\n",
       "      <th></th>\n",
       "      <th></th>\n",
       "      <th></th>\n",
       "      <th></th>\n",
       "      <th></th>\n",
       "      <th></th>\n",
       "      <th></th>\n",
       "      <th></th>\n",
       "      <th></th>\n",
       "    </tr>\n",
       "  </thead>\n",
       "  <tbody>\n",
       "    <tr>\n",
       "      <th>Зотова Виталина</th>\n",
       "      <td>г. Тольятти, Самарская область, 26-29 апреля</td>\n",
       "      <td>TUM</td>\n",
       "      <td>Qualification</td>\n",
       "      <td>1</td>\n",
       "      <td>-1.0</td>\n",
       "      <td>20.0</td>\n",
       "      <td>0.0</td>\n",
       "      <td>0.0</td>\n",
       "      <td>F</td>\n",
       "      <td>Самарская область</td>\n",
       "      <td>-1</td>\n",
       "      <td>6</td>\n",
       "      <td>1rz</td>\n",
       "    </tr>\n",
       "    <tr>\n",
       "      <th>Ключников Роман</th>\n",
       "      <td>г. Тольятти, Самарская область, 26-29 апреля</td>\n",
       "      <td>TRA</td>\n",
       "      <td>Final</td>\n",
       "      <td>1</td>\n",
       "      <td>0.0</td>\n",
       "      <td>0.0</td>\n",
       "      <td>0.0</td>\n",
       "      <td>0.0</td>\n",
       "      <td>M</td>\n",
       "      <td>Республика Башкортостан</td>\n",
       "      <td>-1</td>\n",
       "      <td>8</td>\n",
       "      <td>1rz</td>\n",
       "    </tr>\n",
       "    <tr>\n",
       "      <th>Моисеев Леонид</th>\n",
       "      <td>Новый Уренгой, Ямало-Ненецкий автономный округ...</td>\n",
       "      <td>TUM</td>\n",
       "      <td>Team Final</td>\n",
       "      <td>1</td>\n",
       "      <td>0.0</td>\n",
       "      <td>20.0</td>\n",
       "      <td>0.0</td>\n",
       "      <td>0.0</td>\n",
       "      <td>M</td>\n",
       "      <td>Ямало-Ненецкий автономный округ</td>\n",
       "      <td>-1</td>\n",
       "      <td>13</td>\n",
       "      <td>KMC</td>\n",
       "    </tr>\n",
       "    <tr>\n",
       "      <th>Мурскова Варвара</th>\n",
       "      <td>г. Таганрог, Ростовская область, 28 июня - 02 ...</td>\n",
       "      <td>TRA</td>\n",
       "      <td>Qualification</td>\n",
       "      <td>1</td>\n",
       "      <td>0.0</td>\n",
       "      <td>0.0</td>\n",
       "      <td>915.0</td>\n",
       "      <td>0.0</td>\n",
       "      <td>F</td>\n",
       "      <td>Самарская область</td>\n",
       "      <td>-1</td>\n",
       "      <td>30</td>\n",
       "      <td>MC</td>\n",
       "    </tr>\n",
       "    <tr>\n",
       "      <th>Мурскова Варвара</th>\n",
       "      <td>г. Таганрог, Ростовская область, 28 июня - 02 ...</td>\n",
       "      <td>TRA</td>\n",
       "      <td>Team Final</td>\n",
       "      <td>1</td>\n",
       "      <td>0.0</td>\n",
       "      <td>0.0</td>\n",
       "      <td>915.0</td>\n",
       "      <td>0.0</td>\n",
       "      <td>F</td>\n",
       "      <td>Самарская область</td>\n",
       "      <td>-1</td>\n",
       "      <td>30</td>\n",
       "      <td>MC</td>\n",
       "    </tr>\n",
       "    <tr>\n",
       "      <th>Орлова Юлиана</th>\n",
       "      <td>г. Тольятти, Самарская область, 26-29 апреля</td>\n",
       "      <td>TUM</td>\n",
       "      <td>Qualification</td>\n",
       "      <td>2</td>\n",
       "      <td>0.0</td>\n",
       "      <td>20.0</td>\n",
       "      <td>0.0</td>\n",
       "      <td>0.0</td>\n",
       "      <td>F</td>\n",
       "      <td>Республика Татарстан</td>\n",
       "      <td>-1</td>\n",
       "      <td>13</td>\n",
       "      <td>MC</td>\n",
       "    </tr>\n",
       "  </tbody>\n",
       "</table>\n",
       "</div>"
      ],
      "text/plain": [
       "                                                           Subtitle  \\\n",
       "name                                                                  \n",
       "Зотова Виталина        г. Тольятти, Самарская область, 26-29 апреля   \n",
       "Ключников Роман        г. Тольятти, Самарская область, 26-29 апреля   \n",
       "Моисеев Леонид    Новый Уренгой, Ямало-Ненецкий автономный округ...   \n",
       "Мурскова Варвара  г. Таганрог, Ростовская область, 28 июня - 02 ...   \n",
       "Мурскова Варвара  г. Таганрог, Ростовская область, 28 июня - 02 ...   \n",
       "Орлова Юлиана          г. Тольятти, Самарская область, 26-29 апреля   \n",
       "\n",
       "                 Discipline          Stage  Routine #    D    E∑      H    T  \\\n",
       "name                                                                           \n",
       "Зотова Виталина         TUM  Qualification          1 -1.0  20.0    0.0  0.0   \n",
       "Ключников Роман         TRA          Final          1  0.0   0.0    0.0  0.0   \n",
       "Моисеев Леонид          TUM     Team Final          1  0.0  20.0    0.0  0.0   \n",
       "Мурскова Варвара        TRA  Qualification          1  0.0   0.0  915.0  0.0   \n",
       "Мурскова Варвара        TRA     Team Final          1  0.0   0.0  915.0  0.0   \n",
       "Орлова Юлиана           TUM  Qualification          2  0.0  20.0    0.0  0.0   \n",
       "\n",
       "                 Sex                     Representing  # Elements  Rank Razr  \n",
       "name                                                                          \n",
       "Зотова Виталина    F                Самарская область          -1     6  1rz  \n",
       "Ключников Роман    M          Республика Башкортостан          -1     8  1rz  \n",
       "Моисеев Леонид     M  Ямало-Ненецкий автономный округ          -1    13  KMC  \n",
       "Мурскова Варвара   F                Самарская область          -1    30   MC  \n",
       "Мурскова Варвара   F                Самарская область          -1    30   MC  \n",
       "Орлова Юлиана      F             Республика Татарстан          -1    13   MC  "
      ]
     },
     "execution_count": 251,
     "metadata": {},
     "output_type": "execute_result"
    }
   ],
   "source": [
    "df.loc[df['# Elements'] == -1]"
   ]
  },
  {
   "cell_type": "markdown",
   "id": "e30f8a3c",
   "metadata": {},
   "source": [
    "Закономерности никакой нет, поэтому удалим эти строки."
   ]
  },
  {
   "cell_type": "code",
   "execution_count": 252,
   "id": "0ea486c9",
   "metadata": {},
   "outputs": [],
   "source": [
    "df.drop(df.loc[df['# Elements'] == -1].index, inplace=True)"
   ]
  },
  {
   "cell_type": "markdown",
   "id": "e39ad9c9",
   "metadata": {},
   "source": [
    "Оценки находятся в разном формате и необходимо привести к одному "
   ]
  },
  {
   "cell_type": "code",
   "execution_count": 253,
   "id": "ba66a6a3",
   "metadata": {},
   "outputs": [],
   "source": [
    "df['E∑'] = df['E∑']/10\n",
    "df['H'] = df['H']/100\n",
    "df['T'] = df['T']/1000"
   ]
  },
  {
   "cell_type": "markdown",
   "id": "897591ee",
   "metadata": {},
   "source": [
    "## Замена типов данных"
   ]
  },
  {
   "cell_type": "markdown",
   "id": "5d7e5b5d",
   "metadata": {},
   "source": [
    "Столбцы `Subtitle`, `Routine #`, `Stage`, `Sex`, `Razr`  и `Discipline` имеют мало уникальных значений и подходят для присвоения им типа данных каталог."
   ]
  },
  {
   "cell_type": "code",
   "execution_count": 254,
   "id": "2679eb1b",
   "metadata": {
    "scrolled": true
   },
   "outputs": [],
   "source": [
    "df['Subtitle']= df['Subtitle'].astype('category')\n",
    "df['Discipline']= df['Discipline'].astype('category')\n",
    "df['Stage']= df['Stage'].astype('category')\n",
    "df['Routine #']= df['Routine #'].astype('category')\n",
    "df['Sex']= df['Sex'].astype('category')\n",
    "df['Razr']= df['Razr'].astype('category')\n",
    "df['# Elements'] = df['# Elements'].astype('category')"
   ]
  },
  {
   "cell_type": "markdown",
   "id": "ecbe94dd",
   "metadata": {},
   "source": [
    "Столбцы `D` и `Rank` преобразуем в int16, потому что это целые и небольшие числа."
   ]
  },
  {
   "cell_type": "code",
   "execution_count": 255,
   "id": "c3119ede",
   "metadata": {},
   "outputs": [],
   "source": [
    "df['D'] = df['D'].fillna(0).astype(np.int16, errors='ignore')\n",
    "df['Rank'] = df['Rank'].astype('int16')"
   ]
  },
  {
   "cell_type": "markdown",
   "id": "731da821",
   "metadata": {},
   "source": [
    "## Вывод"
   ]
  },
  {
   "cell_type": "markdown",
   "id": "ecfa49a9",
   "metadata": {},
   "source": [
    "За этот шаг мы унифицировали данные, заменили типы данных, выделили дополнительные колонки для анализа, обосновали нахождение пропусков. Можно приступать к анализу."
   ]
  },
  {
   "cell_type": "markdown",
   "id": "efe681e4",
   "metadata": {},
   "source": [
    "# Исследовательский анализ данных"
   ]
  },
  {
   "cell_type": "markdown",
   "id": "995a2702",
   "metadata": {},
   "source": [
    "Нам предстоит рассмотреть какие регионы РФ доминируют в соревнованиях, какие есть отличия между мальчиками и девочками, какие спортсмены выигрывают, выяснить засчет каких компонентов и найти инсайты."
   ]
  },
  {
   "cell_type": "markdown",
   "id": "3236f1ad",
   "metadata": {},
   "source": [
    "## Регионы России"
   ]
  },
  {
   "cell_type": "code",
   "execution_count": 256,
   "id": "2a81882b",
   "metadata": {},
   "outputs": [
    {
     "data": {
      "text/plain": [
       "<AxesSubplot:>"
      ]
     },
     "execution_count": 256,
     "metadata": {},
     "output_type": "execute_result"
    },
    {
     "data": {
      "image/png": "[encoded data removed]",
      "text/plain": [
       "<Figure size 1080x360 with 1 Axes>"
      ]
     },
     "metadata": {
      "needs_background": "light"
     },
     "output_type": "display_data"
    }
   ],
   "source": [
    "start = pd.Series(df[~df.index.duplicated(keep='first')]['Representing'].value_counts(),\n",
    "                  name=\"Спортсмены\")\n",
    "start.plot(kind = 'bar')"
   ]
  },
  {
   "cell_type": "markdown",
   "id": "452c850b",
   "metadata": {},
   "source": [
    "Судя по графику наибольшее количество спортсменов и со значительным отрывом из Москвы. Также обращаем внимание, что не все области России принимают участия в соревнованиях."
   ]
  },
  {
   "cell_type": "code",
   "execution_count": 257,
   "id": "6c33b632",
   "metadata": {},
   "outputs": [
    {
     "name": "stderr",
     "output_type": "stream",
     "text": [
      "C:\\Users\\MAx\\AppData\\Local\\Temp\\ipykernel_8368\\305495946.py:6: FutureWarning: Passing a set as an indexer is deprecated and will raise in a future version. Use a list instead.\n",
      "  mm[{1,2,3}].plot(kind = 'bar')\n"
     ]
    },
    {
     "data": {
      "text/plain": [
       "<AxesSubplot:xlabel='Representing'>"
      ]
     },
     "execution_count": 257,
     "metadata": {},
     "output_type": "execute_result"
    },
    {
     "data": {
      "image/png": "[encoded data removed]",
      "text/plain": [
       "<Figure size 1080x360 with 1 Axes>"
      ]
     },
     "metadata": {
      "needs_background": "light"
     },
     "output_type": "display_data"
    }
   ],
   "source": [
    "mm = pd.pivot_table(data = df[(df['Stage'] == 'Final')], \n",
    "               index = 'Representing', \n",
    "               columns = 'Rank',\n",
    "               values = 'Stage',\n",
    "               aggfunc = 'count')\n",
    "mm[{1,2,3}].plot(kind = 'bar')"
   ]
  },
  {
   "cell_type": "markdown",
   "id": "3502f69e",
   "metadata": {},
   "source": [
    "По местам и их количеству ситуация похожая, наибольшее количество медалей забирает Москва, Ростовская и Самарская область, которые и были лидерами по объему участников. Но также видим, что Краснодарский край, второй по количеству показывает худшие результаты, а Татарстан, наоборот, показывает выдающуюся результативность."
   ]
  },
  {
   "cell_type": "code",
   "execution_count": 258,
   "id": "1f7efd00",
   "metadata": {},
   "outputs": [
    {
     "data": {
      "text/plain": [
       "<AxesSubplot:>"
      ]
     },
     "execution_count": 258,
     "metadata": {},
     "output_type": "execute_result"
    },
    {
     "data": {
      "image/png": "[encoded data removed]",
      "text/plain": [
       "<Figure size 1080x360 with 1 Axes>"
      ]
     },
     "metadata": {
      "needs_background": "light"
     },
     "output_type": "display_data"
    }
   ],
   "source": [
    "bbb = df[(df['Rank'] < 4) & (df['Stage'] == 'Final')].groupby(['Representing']).size()\n",
    "rrtt = bbb/start\n",
    "rrtt.sort_values().plot(kind = 'bar')"
   ]
  },
  {
   "cell_type": "markdown",
   "id": "5257d453",
   "metadata": {},
   "source": [
    "Посчитаем эффективность и видим, что Татарстан наиболее результативен в получении медалей на соревнованиях, а значение около 2 означает, что каждый спортсмен получает примерно 2 медали. Это возможно ведь видов спорта четыре и потенциально можно участвовать во всех. Заметим, что Томская и Калининградская область не были призерами не разу."
   ]
  },
  {
   "cell_type": "code",
   "execution_count": 259,
   "id": "2b9c528e",
   "metadata": {
    "scrolled": true
   },
   "outputs": [
    {
     "data": {
      "text/html": [
       "<div>\n",
       "<style scoped>\n",
       "    .dataframe tbody tr th:only-of-type {\n",
       "        vertical-align: middle;\n",
       "    }\n",
       "\n",
       "    .dataframe tbody tr th {\n",
       "        vertical-align: top;\n",
       "    }\n",
       "\n",
       "    .dataframe thead th {\n",
       "        text-align: right;\n",
       "    }\n",
       "</style>\n",
       "<table border=\"1\" class=\"dataframe\">\n",
       "  <thead>\n",
       "    <tr style=\"text-align: right;\">\n",
       "      <th></th>\n",
       "      <th>Старты</th>\n",
       "      <th>Спортсмены</th>\n",
       "      <th>Итог</th>\n",
       "    </tr>\n",
       "  </thead>\n",
       "  <tbody>\n",
       "    <tr>\n",
       "      <th>Калининградская область</th>\n",
       "      <td>13</td>\n",
       "      <td>6</td>\n",
       "      <td>2.166667</td>\n",
       "    </tr>\n",
       "    <tr>\n",
       "      <th>Томская область</th>\n",
       "      <td>7</td>\n",
       "      <td>2</td>\n",
       "      <td>3.500000</td>\n",
       "    </tr>\n",
       "    <tr>\n",
       "      <th>Брянская область</th>\n",
       "      <td>43</td>\n",
       "      <td>11</td>\n",
       "      <td>3.909091</td>\n",
       "    </tr>\n",
       "    <tr>\n",
       "      <th>Хабаровский край</th>\n",
       "      <td>433</td>\n",
       "      <td>90</td>\n",
       "      <td>4.811111</td>\n",
       "    </tr>\n",
       "    <tr>\n",
       "      <th>Магаданская область</th>\n",
       "      <td>50</td>\n",
       "      <td>10</td>\n",
       "      <td>5.000000</td>\n",
       "    </tr>\n",
       "    <tr>\n",
       "      <th>Курганская область</th>\n",
       "      <td>180</td>\n",
       "      <td>34</td>\n",
       "      <td>5.294118</td>\n",
       "    </tr>\n",
       "    <tr>\n",
       "      <th>Сахалинская область</th>\n",
       "      <td>174</td>\n",
       "      <td>32</td>\n",
       "      <td>5.437500</td>\n",
       "    </tr>\n",
       "    <tr>\n",
       "      <th>Иркутская область</th>\n",
       "      <td>186</td>\n",
       "      <td>34</td>\n",
       "      <td>5.470588</td>\n",
       "    </tr>\n",
       "    <tr>\n",
       "      <th>Ульяновская область</th>\n",
       "      <td>39</td>\n",
       "      <td>7</td>\n",
       "      <td>5.571429</td>\n",
       "    </tr>\n",
       "    <tr>\n",
       "      <th>Приморский край</th>\n",
       "      <td>364</td>\n",
       "      <td>63</td>\n",
       "      <td>5.777778</td>\n",
       "    </tr>\n",
       "    <tr>\n",
       "      <th>Нижегородская область</th>\n",
       "      <td>168</td>\n",
       "      <td>29</td>\n",
       "      <td>5.793103</td>\n",
       "    </tr>\n",
       "    <tr>\n",
       "      <th>Воронежская область</th>\n",
       "      <td>164</td>\n",
       "      <td>28</td>\n",
       "      <td>5.857143</td>\n",
       "    </tr>\n",
       "    <tr>\n",
       "      <th>Красноярский край</th>\n",
       "      <td>223</td>\n",
       "      <td>36</td>\n",
       "      <td>6.194444</td>\n",
       "    </tr>\n",
       "    <tr>\n",
       "      <th>Белгородская область</th>\n",
       "      <td>254</td>\n",
       "      <td>41</td>\n",
       "      <td>6.195122</td>\n",
       "    </tr>\n",
       "    <tr>\n",
       "      <th>Республика Башкортостан</th>\n",
       "      <td>206</td>\n",
       "      <td>32</td>\n",
       "      <td>6.437500</td>\n",
       "    </tr>\n",
       "    <tr>\n",
       "      <th>Архангельская область</th>\n",
       "      <td>39</td>\n",
       "      <td>6</td>\n",
       "      <td>6.500000</td>\n",
       "    </tr>\n",
       "    <tr>\n",
       "      <th>Московская область</th>\n",
       "      <td>114</td>\n",
       "      <td>16</td>\n",
       "      <td>7.125000</td>\n",
       "    </tr>\n",
       "    <tr>\n",
       "      <th>Новосибирская область</th>\n",
       "      <td>345</td>\n",
       "      <td>48</td>\n",
       "      <td>7.187500</td>\n",
       "    </tr>\n",
       "    <tr>\n",
       "      <th>Ярославская область</th>\n",
       "      <td>240</td>\n",
       "      <td>33</td>\n",
       "      <td>7.272727</td>\n",
       "    </tr>\n",
       "    <tr>\n",
       "      <th>Тверская область</th>\n",
       "      <td>76</td>\n",
       "      <td>10</td>\n",
       "      <td>7.600000</td>\n",
       "    </tr>\n",
       "    <tr>\n",
       "      <th>Омская область</th>\n",
       "      <td>238</td>\n",
       "      <td>31</td>\n",
       "      <td>7.677419</td>\n",
       "    </tr>\n",
       "    <tr>\n",
       "      <th>Ставропольский край</th>\n",
       "      <td>308</td>\n",
       "      <td>40</td>\n",
       "      <td>7.700000</td>\n",
       "    </tr>\n",
       "    <tr>\n",
       "      <th>Краснодарский край</th>\n",
       "      <td>1012</td>\n",
       "      <td>123</td>\n",
       "      <td>8.227642</td>\n",
       "    </tr>\n",
       "    <tr>\n",
       "      <th>Москва</th>\n",
       "      <td>1722</td>\n",
       "      <td>208</td>\n",
       "      <td>8.278846</td>\n",
       "    </tr>\n",
       "    <tr>\n",
       "      <th>Челябинская область</th>\n",
       "      <td>242</td>\n",
       "      <td>29</td>\n",
       "      <td>8.344828</td>\n",
       "    </tr>\n",
       "    <tr>\n",
       "      <th>Кировская область</th>\n",
       "      <td>194</td>\n",
       "      <td>23</td>\n",
       "      <td>8.434783</td>\n",
       "    </tr>\n",
       "    <tr>\n",
       "      <th>Ивановская область</th>\n",
       "      <td>398</td>\n",
       "      <td>47</td>\n",
       "      <td>8.468085</td>\n",
       "    </tr>\n",
       "    <tr>\n",
       "      <th>Свердловская область</th>\n",
       "      <td>761</td>\n",
       "      <td>87</td>\n",
       "      <td>8.747126</td>\n",
       "    </tr>\n",
       "    <tr>\n",
       "      <th>Оренбургская область</th>\n",
       "      <td>555</td>\n",
       "      <td>63</td>\n",
       "      <td>8.809524</td>\n",
       "    </tr>\n",
       "    <tr>\n",
       "      <th>Астраханская область</th>\n",
       "      <td>131</td>\n",
       "      <td>13</td>\n",
       "      <td>10.076923</td>\n",
       "    </tr>\n",
       "    <tr>\n",
       "      <th>Санкт-Петербург</th>\n",
       "      <td>773</td>\n",
       "      <td>74</td>\n",
       "      <td>10.445946</td>\n",
       "    </tr>\n",
       "    <tr>\n",
       "      <th>Ханты-Мансийский автономный округ</th>\n",
       "      <td>568</td>\n",
       "      <td>54</td>\n",
       "      <td>10.518519</td>\n",
       "    </tr>\n",
       "    <tr>\n",
       "      <th>Тульская область</th>\n",
       "      <td>53</td>\n",
       "      <td>5</td>\n",
       "      <td>10.600000</td>\n",
       "    </tr>\n",
       "    <tr>\n",
       "      <th>Республика Адыгея</th>\n",
       "      <td>33</td>\n",
       "      <td>3</td>\n",
       "      <td>11.000000</td>\n",
       "    </tr>\n",
       "    <tr>\n",
       "      <th>2 области</th>\n",
       "      <td>59</td>\n",
       "      <td>5</td>\n",
       "      <td>11.800000</td>\n",
       "    </tr>\n",
       "    <tr>\n",
       "      <th>Самарская область</th>\n",
       "      <td>1407</td>\n",
       "      <td>111</td>\n",
       "      <td>12.675676</td>\n",
       "    </tr>\n",
       "    <tr>\n",
       "      <th>Ростовская область</th>\n",
       "      <td>1450</td>\n",
       "      <td>111</td>\n",
       "      <td>13.063063</td>\n",
       "    </tr>\n",
       "    <tr>\n",
       "      <th>Ямало-Ненецкий автономный округ</th>\n",
       "      <td>814</td>\n",
       "      <td>62</td>\n",
       "      <td>13.129032</td>\n",
       "    </tr>\n",
       "    <tr>\n",
       "      <th>Республика Татарстан</th>\n",
       "      <td>551</td>\n",
       "      <td>41</td>\n",
       "      <td>13.439024</td>\n",
       "    </tr>\n",
       "    <tr>\n",
       "      <th>Тюменская область</th>\n",
       "      <td>539</td>\n",
       "      <td>37</td>\n",
       "      <td>14.567568</td>\n",
       "    </tr>\n",
       "  </tbody>\n",
       "</table>\n",
       "</div>"
      ],
      "text/plain": [
       "                                   Старты  Спортсмены       Итог\n",
       "Калининградская область                13           6   2.166667\n",
       "Томская область                         7           2   3.500000\n",
       "Брянская область                       43          11   3.909091\n",
       "Хабаровский край                      433          90   4.811111\n",
       "Магаданская область                    50          10   5.000000\n",
       "Курганская область                    180          34   5.294118\n",
       "Сахалинская область                   174          32   5.437500\n",
       "Иркутская область                     186          34   5.470588\n",
       "Ульяновская область                    39           7   5.571429\n",
       "Приморский край                       364          63   5.777778\n",
       "Нижегородская область                 168          29   5.793103\n",
       "Воронежская область                   164          28   5.857143\n",
       "Красноярский край                     223          36   6.194444\n",
       "Белгородская область                  254          41   6.195122\n",
       "Республика Башкортостан               206          32   6.437500\n",
       "Архангельская область                  39           6   6.500000\n",
       "Московская область                    114          16   7.125000\n",
       "Новосибирская область                 345          48   7.187500\n",
       "Ярославская область                   240          33   7.272727\n",
       "Тверская область                       76          10   7.600000\n",
       "Омская область                        238          31   7.677419\n",
       "Ставропольский край                   308          40   7.700000\n",
       "Краснодарский край                   1012         123   8.227642\n",
       "Москва                               1722         208   8.278846\n",
       "Челябинская область                   242          29   8.344828\n",
       "Кировская область                     194          23   8.434783\n",
       "Ивановская область                    398          47   8.468085\n",
       "Свердловская область                  761          87   8.747126\n",
       "Оренбургская область                  555          63   8.809524\n",
       "Астраханская область                  131          13  10.076923\n",
       "Санкт-Петербург                       773          74  10.445946\n",
       "Ханты-Мансийский автономный округ     568          54  10.518519\n",
       "Тульская область                       53           5  10.600000\n",
       "Республика Адыгея                      33           3  11.000000\n",
       "2 области                              59           5  11.800000\n",
       "Самарская область                    1407         111  12.675676\n",
       "Ростовская область                   1450         111  13.063063\n",
       "Ямало-Ненецкий автономный округ       814          62  13.129032\n",
       "Республика Татарстан                  551          41  13.439024\n",
       "Тюменская область                     539          37  14.567568"
      ]
     },
     "execution_count": 259,
     "metadata": {},
     "output_type": "execute_result"
    }
   ],
   "source": [
    "kolvo = pd.Series(df['Representing'].value_counts(), name=\"Старты\")\n",
    "er = pd.concat([kolvo,start], axis=1)\n",
    "er['Итог'] = er['Старты'] / er['Спортсмены']\n",
    "er.sort_values('Итог', inplace = True)\n",
    "er"
   ]
  },
  {
   "cell_type": "markdown",
   "id": "4634dfa9",
   "metadata": {},
   "source": [
    "Оценим работоспособность каждой области, т.е. подсчитаем среднее количество выступлений каждого спортсмена. Видеть Татарстан логично, ведь при попадании в финал, надо пройти через полуфинал и количество выступлений растет. Но в лидерах неожиданно Тюменская область. Это означает или их спортсмены 'многостаночники' и прыгают на нескольких снарядах сразу, или не могут зацепиться за призы."
   ]
  },
  {
   "cell_type": "code",
   "execution_count": 260,
   "id": "658ae43d",
   "metadata": {},
   "outputs": [
    {
     "data": {
      "text/plain": [
       "<AxesSubplot:xlabel='Representing'>"
      ]
     },
     "execution_count": 260,
     "metadata": {},
     "output_type": "execute_result"
    },
    {
     "data": {
      "image/png": "[encoded data removed]",
      "text/plain": [
       "<Figure size 1080x360 with 1 Axes>"
      ]
     },
     "metadata": {
      "needs_background": "light"
     },
     "output_type": "display_data"
    }
   ],
   "source": [
    "pd.pivot_table(df[~df.index.duplicated(keep='first')], \n",
    "               values = 'D', \n",
    "               index = ['Representing'], \n",
    "               columns = 'Razr', \n",
    "               aggfunc=len).plot(kind = 'bar')\n"
   ]
  },
  {
   "cell_type": "markdown",
   "id": "cbbd81af",
   "metadata": {},
   "source": [
    "На графике, разделенном по разрядам видим отличия. Выделяется ревосходство Москвы во всех группах, но процент молодых спортсменов Краснодарского края существенно меньше, в Хабаровском крае много КМС, и вообще, в группе КМС меньше представителей областей. Возможно, это связано с тем что КМС ограничивается 2 годами спортсмена. "
   ]
  },
  {
   "cell_type": "code",
   "execution_count": 261,
   "id": "4eb78382",
   "metadata": {},
   "outputs": [
    {
     "data": {
      "text/plain": [
       "<AxesSubplot:xlabel='Representing'>"
      ]
     },
     "execution_count": 261,
     "metadata": {},
     "output_type": "execute_result"
    },
    {
     "data": {
      "image/png": "[encoded data removed]",
      "text/plain": [
       "<Figure size 1080x360 with 1 Axes>"
      ]
     },
     "metadata": {
      "needs_background": "light"
     },
     "output_type": "display_data"
    }
   ],
   "source": [
    "pd.pivot_table(df[~df.index.duplicated(keep='first')], \n",
    "               values = 'D', \n",
    "               index = ['Representing'], \n",
    "               columns = 'Discipline', \n",
    "               aggfunc=len).plot(kind = 'bar')"
   ]
  },
  {
   "cell_type": "markdown",
   "id": "01b2e896",
   "metadata": {},
   "source": [
    "На этом графике видим распределение разрядов. \n",
    "* Минитрамп(DMT) популярный, вероятно потому что надо делать 2 элемента, а не 8 как дорожке(TUM) или на батуте(TRA, SYN). Синхрон самый непопулярный\n",
    "* Областей, где представлены все разряды немного.\n",
    "* Количество спортсменов на батуте Самарская и Ростовская область низко. В отличие, от Санкт-Петербурга, где их много, а дорожки нет совсем.\n"
   ]
  },
  {
   "cell_type": "markdown",
   "id": "92ee8263",
   "metadata": {},
   "source": [
    "Далее давайте рассматривать только один вид спорта основной батут."
   ]
  },
  {
   "cell_type": "code",
   "execution_count": 262,
   "id": "130e801b",
   "metadata": {},
   "outputs": [
    {
     "data": {
      "image/png": "[encoded data removed]",
      "text/plain": [
       "<Figure size 1440x360 with 1 Axes>"
      ]
     },
     "metadata": {
      "needs_background": "light"
     },
     "output_type": "display_data"
    }
   ],
   "source": [
    "plt.figure(figsize = (20,5))\n",
    "\n",
    "g = sns.barplot(data=df[df['Discipline'] == 'TRA'],  x = 'Representing', y = 'E∑')\n",
    "g.set_xticklabels(g.get_xticklabels(),rotation=90)\n",
    "g.set_title(\"Области\", fontsize=15)\n",
    "g.set_xlabel(\"Области\", fontsize=12)\n",
    "g.set_ylabel(\"Средняя оценка\", fontsize=12)\n",
    "\n",
    "plt.show()"
   ]
  },
  {
   "cell_type": "markdown",
   "id": "d04c70a7",
   "metadata": {},
   "source": [
    "Рассмотрим по очереди компонты из которых складывается оценка. Заметен большой разброс в средней оценке, которая максимум 20. У областей от которых наиболее количество участников очень высокий средний балл и минимальный разброс, что говорит о хорошей подготовке и хорошем отборе представителей. "
   ]
  },
  {
   "cell_type": "code",
   "execution_count": 263,
   "id": "f85f1cfc",
   "metadata": {},
   "outputs": [
    {
     "data": {
      "text/plain": [
       "<AxesSubplot:xlabel='Representing'>"
      ]
     },
     "execution_count": 263,
     "metadata": {},
     "output_type": "execute_result"
    },
    {
     "data": {
      "image/png": "[encoded data removed]",
      "text/plain": [
       "<Figure size 1080x360 with 1 Axes>"
      ]
     },
     "metadata": {
      "needs_background": "light"
     },
     "output_type": "display_data"
    }
   ],
   "source": [
    "plt.rcParams[\"figure.figsize\"] = (15,5)\n",
    "\n",
    "ui = pd.pivot_table(df[(df['Discipline'] == 'TRA')], values = ['E∑', 'D', 'T', 'H'], index=['Representing'], aggfunc=[np.mean], fill_value=0).apply(lambda x:100 * x / float(x.mean())).round(2)\n",
    "ui.plot(kind = 'bar')\n"
   ]
  },
  {
   "cell_type": "markdown",
   "id": "efaf1cf1",
   "metadata": {},
   "source": [
    "На компоненты оценки, сложности, времени полета и перемещения по сетке посмотрим со стороны насколько они отличаются от среднего 100% в большую или меньшую сторону. \n",
    "* Компоненты оценки идут вместе, если ты прыгаешь сложно, ты прыгаешь чисто и высоко.\n",
    "* Видим что Санкт-Петербург, Краснодарский край, Татарстан выделяются, причем  гармонично по всем показателям.\n",
    "* Также положительно выделяется Новосибирская область, которую мы не выделяли ранее. \n",
    "* Отмечаем также спортсменов у кого указано 2 области в протоколе и их отличные результаты. Вероятно, эти участники взрослые и прыгают хорошо и достигают рерультатов ставят 2 области специально, переехали, но не зыбывают и показывают кто их воспитал. "
   ]
  },
  {
   "cell_type": "code",
   "execution_count": 264,
   "id": "afdc2cb8",
   "metadata": {},
   "outputs": [
    {
     "data": {
      "image/png": "[encoded data removed]",
      "text/plain": [
       "<Figure size 1440x360 with 1 Axes>"
      ]
     },
     "metadata": {
      "needs_background": "light"
     },
     "output_type": "display_data"
    }
   ],
   "source": [
    "plt.figure(figsize = (20,5))\n",
    "\n",
    "g = sns.barplot(data=df[df['Discipline'] == 'TRA'],  x = 'Representing', y = 'E∑', hue = 'Razr')\n",
    "g.set_xticklabels(g.get_xticklabels(),rotation=90)\n",
    "g.set_title(\"Области\", fontsize=15)\n",
    "g.set_xlabel(\"Области\", fontsize=12)\n",
    "g.set_ylabel(\"Средняя оценка\", fontsize=12)\n",
    "\n",
    "plt.show()"
   ]
  },
  {
   "cell_type": "markdown",
   "id": "687c2028",
   "metadata": {},
   "source": [
    "По этому графику можно оценить где хорошая начальная подготовка и возможно будующий потенциал. Ведь обычно хорошие спортсмены, не возникают вдруг. Так Московская область показывает качественный результат при большом количестве участников с минимальным разбросом оценок."
   ]
  },
  {
   "cell_type": "markdown",
   "id": "ca21c4f7",
   "metadata": {},
   "source": [
    "Теперь предлагаю рассмотреть немаловажный фактор как падения, те невыполнение элемента до конца"
   ]
  },
  {
   "cell_type": "code",
   "execution_count": 265,
   "id": "1086da21",
   "metadata": {},
   "outputs": [
    {
     "data": {
      "text/plain": [
       "0.7892294946147473"
      ]
     },
     "execution_count": 265,
     "metadata": {},
     "output_type": "execute_result"
    }
   ],
   "source": [
    "oij = df[df['Discipline'] == 'TRA'].groupby(['Representing']).size().sum()\n",
    "zaa = df[(df['Discipline'] == 'TRA') & (df['# Elements'] == 10)].groupby(['Representing']).size().sum()\n",
    "zaa/oij"
   ]
  },
  {
   "cell_type": "markdown",
   "id": "9d5dcd74",
   "metadata": {},
   "source": [
    "79% комбинаций выполняются до конца."
   ]
  },
  {
   "cell_type": "code",
   "execution_count": 266,
   "id": "06717faf",
   "metadata": {},
   "outputs": [
    {
     "data": {
      "text/plain": [
       "<AxesSubplot:xlabel='Representing'>"
      ]
     },
     "execution_count": 266,
     "metadata": {},
     "output_type": "execute_result"
    },
    {
     "data": {
      "image/png": "[encoded data removed]",
      "text/plain": [
       "<Figure size 1080x360 with 1 Axes>"
      ]
     },
     "metadata": {
      "needs_background": "light"
     },
     "output_type": "display_data"
    }
   ],
   "source": [
    "df['rt'] = np.where(df['# Elements']==10,'не упал','упал')\n",
    "rrr = pd.pivot_table(df[(df['Discipline'] == 'TRA')], index=['Representing'], values = '# Elements', columns = 'rt', aggfunc=['count'], fill_value=0)\n",
    "\n",
    "nnn = rrr[('count', 'упал')]/(rrr[('count', 'упал')] + rrr[('count', 'не упал')])\n",
    "nnn.sort_values().plot(kind = 'bar')"
   ]
  },
  {
   "cell_type": "code",
   "execution_count": 267,
   "id": "fd98b7b0",
   "metadata": {},
   "outputs": [
    {
     "data": {
      "text/plain": [
       "<AxesSubplot:xlabel='Representing'>"
      ]
     },
     "execution_count": 267,
     "metadata": {},
     "output_type": "execute_result"
    },
    {
     "data": {
      "image/png": "[encoded data removed]",
      "text/plain": [
       "<Figure size 1080x360 with 1 Axes>"
      ]
     },
     "metadata": {
      "needs_background": "light"
     },
     "output_type": "display_data"
    }
   ],
   "source": [
    "nnn = df[df['Stage'] == 'Final'].groupby(['Representing']).size()\n",
    "bbb = df[(df['Rank'] < 4) & (df['Stage'] == 'Final')].groupby(['Representing']).size()\n",
    "rrtt = bbb/nnn\n",
    "rrtt.sort_values().plot(kind = 'bar')"
   ]
  },
  {
   "cell_type": "markdown",
   "id": "12b4a250",
   "metadata": {},
   "source": [
    "Данные графики показывают, что \n",
    "* Вот ответ почему Новосибирская область и Татарстан показывает результаты выше среднего: они существенно реже падают.\n",
    "* В лидерах падения области от куда мало спортсменов. \n",
    "* Психология в финале важна и помогает  получать медали. Ближе к концу виден Санкт-Петербург, у них много спортсменов и мало медалей и вот почему. Они не могут собраться в финале."
   ]
  },
  {
   "cell_type": "markdown",
   "id": "0ddfa0a5",
   "metadata": {},
   "source": [
    "## Вывод"
   ]
  },
  {
   "cell_type": "markdown",
   "id": "47057065",
   "metadata": {},
   "source": [
    "1. Самые большие представительства забирарают большее количество медалей\n",
    "2. Если области, которые специализируются на одном конкретном виде спорта\n",
    "3. Легкие снаряды привлекают участников.\n",
    "4. Бесспорно лучшая сборная по реализации это Татарстан.\n",
    "5. Компоненты оценки идут вместе, если ты прыгаешь сложно, ты прыгаешь чисто и высоко."
   ]
  },
  {
   "cell_type": "markdown",
   "id": "c72947b6",
   "metadata": {},
   "source": [
    "## Девочки/Мальчики"
   ]
  },
  {
   "cell_type": "markdown",
   "id": "99c7ad30",
   "metadata": {},
   "source": [
    "Изучим, как разделяются по полам. И для начала узнаем соотношение полов. "
   ]
  },
  {
   "cell_type": "code",
   "execution_count": 268,
   "id": "3cf487ab",
   "metadata": {
    "scrolled": true
   },
   "outputs": [
    {
     "data": {
      "text/plain": [
       "<AxesSubplot:ylabel='Sex'>"
      ]
     },
     "execution_count": 268,
     "metadata": {},
     "output_type": "execute_result"
    },
    {
     "data": {
      "image/png": "[encoded data removed]",
      "text/plain": [
       "<Figure size 1080x360 with 1 Axes>"
      ]
     },
     "metadata": {},
     "output_type": "display_data"
    }
   ],
   "source": [
    "df[~df.index.duplicated(keep='first')]['Sex'].value_counts().plot.pie(autopct='%1.1f%%', startangle=270, fontsize=17)"
   ]
  },
  {
   "cell_type": "markdown",
   "id": "c080c55d",
   "metadata": {},
   "source": [
    "Количество примерно равно, а что насчет результатов"
   ]
  },
  {
   "cell_type": "code",
   "execution_count": 269,
   "id": "c23f3001",
   "metadata": {
    "scrolled": false
   },
   "outputs": [
    {
     "data": {
      "text/html": [
       "<div>\n",
       "<style scoped>\n",
       "    .dataframe tbody tr th:only-of-type {\n",
       "        vertical-align: middle;\n",
       "    }\n",
       "\n",
       "    .dataframe tbody tr th {\n",
       "        vertical-align: top;\n",
       "    }\n",
       "\n",
       "    .dataframe thead tr th {\n",
       "        text-align: left;\n",
       "    }\n",
       "\n",
       "    .dataframe thead tr:last-of-type th {\n",
       "        text-align: right;\n",
       "    }\n",
       "</style>\n",
       "<table border=\"1\" class=\"dataframe\">\n",
       "  <thead>\n",
       "    <tr>\n",
       "      <th></th>\n",
       "      <th></th>\n",
       "      <th colspan=\"4\" halign=\"left\">mean</th>\n",
       "    </tr>\n",
       "    <tr>\n",
       "      <th></th>\n",
       "      <th></th>\n",
       "      <th>D</th>\n",
       "      <th>E∑</th>\n",
       "      <th>H</th>\n",
       "      <th>T</th>\n",
       "    </tr>\n",
       "    <tr>\n",
       "      <th>Discipline</th>\n",
       "      <th>Sex</th>\n",
       "      <th></th>\n",
       "      <th></th>\n",
       "      <th></th>\n",
       "      <th></th>\n",
       "    </tr>\n",
       "  </thead>\n",
       "  <tbody>\n",
       "    <tr>\n",
       "      <th rowspan=\"2\" valign=\"top\">DMT</th>\n",
       "      <th>F</th>\n",
       "      <td>28.88</td>\n",
       "      <td>24.39</td>\n",
       "      <td>0.00</td>\n",
       "      <td>0.00</td>\n",
       "    </tr>\n",
       "    <tr>\n",
       "      <th>M</th>\n",
       "      <td>41.19</td>\n",
       "      <td>23.94</td>\n",
       "      <td>0.00</td>\n",
       "      <td>0.00</td>\n",
       "    </tr>\n",
       "    <tr>\n",
       "      <th rowspan=\"2\" valign=\"top\">TRA</th>\n",
       "      <th>F</th>\n",
       "      <td>46.91</td>\n",
       "      <td>12.98</td>\n",
       "      <td>7.81</td>\n",
       "      <td>12.10</td>\n",
       "    </tr>\n",
       "    <tr>\n",
       "      <th>M</th>\n",
       "      <td>55.72</td>\n",
       "      <td>12.93</td>\n",
       "      <td>7.78</td>\n",
       "      <td>12.68</td>\n",
       "    </tr>\n",
       "    <tr>\n",
       "      <th rowspan=\"2\" valign=\"top\">TUM</th>\n",
       "      <th>F</th>\n",
       "      <td>29.47</td>\n",
       "      <td>21.59</td>\n",
       "      <td>0.00</td>\n",
       "      <td>0.00</td>\n",
       "    </tr>\n",
       "    <tr>\n",
       "      <th>M</th>\n",
       "      <td>39.39</td>\n",
       "      <td>22.09</td>\n",
       "      <td>0.00</td>\n",
       "      <td>0.00</td>\n",
       "    </tr>\n",
       "  </tbody>\n",
       "</table>\n",
       "</div>"
      ],
      "text/plain": [
       "                 mean                    \n",
       "                    D     E∑     H      T\n",
       "Discipline Sex                           \n",
       "DMT        F    28.88  24.39  0.00   0.00\n",
       "           M    41.19  23.94  0.00   0.00\n",
       "TRA        F    46.91  12.98  7.81  12.10\n",
       "           M    55.72  12.93  7.78  12.68\n",
       "TUM        F    29.47  21.59  0.00   0.00\n",
       "           M    39.39  22.09  0.00   0.00"
      ]
     },
     "execution_count": 269,
     "metadata": {},
     "output_type": "execute_result"
    }
   ],
   "source": [
    "pd.pivot_table(data=df[df['Discipline'] != 'SYN'], \n",
    "                   values = ['E∑', 'T', 'H', 'D'], \n",
    "                   index=[ 'Discipline','Sex',], \n",
    "                   aggfunc=[np.mean], \n",
    "                   fill_value=0, ).round(2)"
   ]
  },
  {
   "cell_type": "code",
   "execution_count": 270,
   "id": "cc308c25",
   "metadata": {},
   "outputs": [
    {
     "data": {
      "text/plain": [
       "<AxesSubplot:xlabel='Discipline', ylabel='D'>"
      ]
     },
     "execution_count": 270,
     "metadata": {},
     "output_type": "execute_result"
    },
    {
     "data": {
      "image/png": "[encoded data removed]",
      "text/plain": [
       "<Figure size 1080x360 with 1 Axes>"
      ]
     },
     "metadata": {
      "needs_background": "light"
     },
     "output_type": "display_data"
    }
   ],
   "source": [
    "sns.barplot(x='Discipline', y='D', hue='Sex', data=df[(df['D'] != 0)])"
   ]
  },
  {
   "cell_type": "markdown",
   "id": "fe20abd5",
   "metadata": {},
   "source": [
    "Эта таблица и график наглядно говорят о том, что девочки прыгают аккуратнее (средняя оценка судей и перемещения выше), но ниже и легче. Кроме выступлений на акрабатической дорожке."
   ]
  },
  {
   "cell_type": "code",
   "execution_count": 271,
   "id": "de612d8c",
   "metadata": {},
   "outputs": [
    {
     "name": "stderr",
     "output_type": "stream",
     "text": [
      "C:\\Users\\MAx\\AppData\\Local\\Temp\\ipykernel_8368\\4069535062.py:4: FutureWarning: Index.__and__ operating as a set operation is deprecated, in the future this will be a logical operation matching Series.__and__.  Use index.intersection(other) instead.\n",
      "  pol_m.index & pol_f.index\n"
     ]
    },
    {
     "data": {
      "text/plain": [
       "Index([], dtype='object', name='name')"
      ]
     },
     "execution_count": 271,
     "metadata": {},
     "output_type": "execute_result"
    }
   ],
   "source": [
    "pol_m = df[(df['Sex'] == 'M')]\n",
    "pol_f = df[(df['Sex'] == 'F')]\n",
    "\n",
    "pol_m.index & pol_f.index"
   ]
  },
  {
   "cell_type": "markdown",
   "id": "f27a682b",
   "metadata": {},
   "source": [
    "Множество пустое, значит 0 человек сменили пол"
   ]
  },
  {
   "cell_type": "markdown",
   "id": "96f16856",
   "metadata": {},
   "source": [
    "## Лучшие спортсмены"
   ]
  },
  {
   "cell_type": "code",
   "execution_count": 272,
   "id": "0843896b",
   "metadata": {},
   "outputs": [
    {
     "data": {
      "text/plain": [
       "name\n",
       "Абдуллаев Мирали       Ямало-Ненецкий автономный округ\n",
       "Абдуллина Елизавета    Ямало-Ненецкий автономный округ\n",
       "Абжалимов Мартин       Ямало-Ненецкий автономный округ\n",
       "Абрамов Дмитрий                   Белгородская область\n",
       "Абрамова Виктория                    Самарская область\n",
       "                                    ...               \n",
       "Яманов Кирилл                     Белгородская область\n",
       "Ямщикова Мария                       Тюменская область\n",
       "Янбаев Дамиль                      Челябинская область\n",
       "Яровой Владислав                        Омская область\n",
       "Яценко Виктория                     Краснодарский край\n",
       "Name: Representing, Length: 1735, dtype: object"
      ]
     },
     "execution_count": 272,
     "metadata": {},
     "output_type": "execute_result"
    }
   ],
   "source": [
    "df[~df.index.duplicated(keep='first')]['Representing']"
   ]
  },
  {
   "cell_type": "markdown",
   "id": "4090f10f",
   "metadata": {},
   "source": [
    "Список всех спортсменов, принимавших участие в соревнованиях."
   ]
  },
  {
   "cell_type": "code",
   "execution_count": 273,
   "id": "51fbb9db",
   "metadata": {
    "scrolled": true
   },
   "outputs": [
    {
     "data": {
      "text/html": [
       "<div>\n",
       "<style scoped>\n",
       "    .dataframe tbody tr th:only-of-type {\n",
       "        vertical-align: middle;\n",
       "    }\n",
       "\n",
       "    .dataframe tbody tr th {\n",
       "        vertical-align: top;\n",
       "    }\n",
       "\n",
       "    .dataframe thead th {\n",
       "        text-align: right;\n",
       "    }\n",
       "</style>\n",
       "<table border=\"1\" class=\"dataframe\">\n",
       "  <thead>\n",
       "    <tr style=\"text-align: right;\">\n",
       "      <th></th>\n",
       "      <th>Subtitle</th>\n",
       "      <th>Discipline</th>\n",
       "      <th>Stage</th>\n",
       "      <th>Routine #</th>\n",
       "      <th>D</th>\n",
       "      <th>E∑</th>\n",
       "      <th>H</th>\n",
       "      <th>T</th>\n",
       "      <th>Sex</th>\n",
       "      <th>Representing</th>\n",
       "      <th># Elements</th>\n",
       "      <th>Rank</th>\n",
       "      <th>Razr</th>\n",
       "      <th>rt</th>\n",
       "    </tr>\n",
       "    <tr>\n",
       "      <th>name</th>\n",
       "      <th></th>\n",
       "      <th></th>\n",
       "      <th></th>\n",
       "      <th></th>\n",
       "      <th></th>\n",
       "      <th></th>\n",
       "      <th></th>\n",
       "      <th></th>\n",
       "      <th></th>\n",
       "      <th></th>\n",
       "      <th></th>\n",
       "      <th></th>\n",
       "      <th></th>\n",
       "      <th></th>\n",
       "    </tr>\n",
       "  </thead>\n",
       "  <tbody>\n",
       "    <tr>\n",
       "      <th>Абжалимов Мартин</th>\n",
       "      <td>Новый Уренгой, Ямало-Ненецкий автономный округ...</td>\n",
       "      <td>TUM</td>\n",
       "      <td>Final</td>\n",
       "      <td>1</td>\n",
       "      <td>13</td>\n",
       "      <td>17.5</td>\n",
       "      <td>0.0</td>\n",
       "      <td>0.000</td>\n",
       "      <td>M</td>\n",
       "      <td>Ямало-Ненецкий автономный округ</td>\n",
       "      <td>8</td>\n",
       "      <td>1</td>\n",
       "      <td>1rz</td>\n",
       "      <td>упал</td>\n",
       "    </tr>\n",
       "    <tr>\n",
       "      <th>Азарян Сергей</th>\n",
       "      <td>г. Ярославль, 23-27 февраля 2021г</td>\n",
       "      <td>SYN</td>\n",
       "      <td>Final</td>\n",
       "      <td>1</td>\n",
       "      <td>160</td>\n",
       "      <td>795.0</td>\n",
       "      <td>9.0</td>\n",
       "      <td>0.855</td>\n",
       "      <td>M</td>\n",
       "      <td>Воронежская область</td>\n",
       "      <td>10</td>\n",
       "      <td>1</td>\n",
       "      <td>MC</td>\n",
       "      <td>не упал</td>\n",
       "    </tr>\n",
       "    <tr>\n",
       "      <th>Акименко Кира</th>\n",
       "      <td>Новый Уренгой, Ямало-Ненецкий автономный округ...</td>\n",
       "      <td>DMT</td>\n",
       "      <td>Final</td>\n",
       "      <td>1</td>\n",
       "      <td>34</td>\n",
       "      <td>18.8</td>\n",
       "      <td>0.0</td>\n",
       "      <td>0.000</td>\n",
       "      <td>F</td>\n",
       "      <td>Ханты-Мансийский автономный округ</td>\n",
       "      <td>2</td>\n",
       "      <td>1</td>\n",
       "      <td>1rz</td>\n",
       "      <td>упал</td>\n",
       "    </tr>\n",
       "    <tr>\n",
       "      <th>Акименко Кира</th>\n",
       "      <td>Новый Уренгой, Ямало-Ненецкий автономный округ...</td>\n",
       "      <td>TRA</td>\n",
       "      <td>Final</td>\n",
       "      <td>1</td>\n",
       "      <td>88</td>\n",
       "      <td>13.7</td>\n",
       "      <td>9.3</td>\n",
       "      <td>12.910</td>\n",
       "      <td>F</td>\n",
       "      <td>Ханты-Мансийский автономный округ</td>\n",
       "      <td>10</td>\n",
       "      <td>1</td>\n",
       "      <td>1rz</td>\n",
       "      <td>не упал</td>\n",
       "    </tr>\n",
       "    <tr>\n",
       "      <th>Акимцев Иван</th>\n",
       "      <td>г. Таганрог, Ростовская область, 28 июня - 02 ...</td>\n",
       "      <td>DMT</td>\n",
       "      <td>Final</td>\n",
       "      <td>1</td>\n",
       "      <td>84</td>\n",
       "      <td>28.4</td>\n",
       "      <td>0.0</td>\n",
       "      <td>0.000</td>\n",
       "      <td>M</td>\n",
       "      <td>Ростовская область</td>\n",
       "      <td>2</td>\n",
       "      <td>1</td>\n",
       "      <td>MC</td>\n",
       "      <td>упал</td>\n",
       "    </tr>\n",
       "    <tr>\n",
       "      <th>...</th>\n",
       "      <td>...</td>\n",
       "      <td>...</td>\n",
       "      <td>...</td>\n",
       "      <td>...</td>\n",
       "      <td>...</td>\n",
       "      <td>...</td>\n",
       "      <td>...</td>\n",
       "      <td>...</td>\n",
       "      <td>...</td>\n",
       "      <td>...</td>\n",
       "      <td>...</td>\n",
       "      <td>...</td>\n",
       "      <td>...</td>\n",
       "      <td>...</td>\n",
       "    </tr>\n",
       "    <tr>\n",
       "      <th>Щербакова Сюзанна</th>\n",
       "      <td>27 апреля - 01 мая, Комсомольск-на-Амуре</td>\n",
       "      <td>TUM</td>\n",
       "      <td>Final</td>\n",
       "      <td>1</td>\n",
       "      <td>22</td>\n",
       "      <td>17.1</td>\n",
       "      <td>0.0</td>\n",
       "      <td>0.000</td>\n",
       "      <td>F</td>\n",
       "      <td>Сахалинская область</td>\n",
       "      <td>8</td>\n",
       "      <td>1</td>\n",
       "      <td>MC</td>\n",
       "      <td>упал</td>\n",
       "    </tr>\n",
       "    <tr>\n",
       "      <th>Юдин Леонид</th>\n",
       "      <td>г. Таганрог, Ростовская область, 28 июня - 02 ...</td>\n",
       "      <td>TRA</td>\n",
       "      <td>Final</td>\n",
       "      <td>1</td>\n",
       "      <td>114</td>\n",
       "      <td>17.1</td>\n",
       "      <td>9.2</td>\n",
       "      <td>15.940</td>\n",
       "      <td>M</td>\n",
       "      <td>Ростовская область</td>\n",
       "      <td>10</td>\n",
       "      <td>1</td>\n",
       "      <td>MC</td>\n",
       "      <td>не упал</td>\n",
       "    </tr>\n",
       "    <tr>\n",
       "      <th>Юшина Мария</th>\n",
       "      <td>г. Тольятти, Самарская область, 26-29 апреля</td>\n",
       "      <td>TRA</td>\n",
       "      <td>Final</td>\n",
       "      <td>1</td>\n",
       "      <td>83</td>\n",
       "      <td>13.6</td>\n",
       "      <td>9.3</td>\n",
       "      <td>14.335</td>\n",
       "      <td>F</td>\n",
       "      <td>Самарская область</td>\n",
       "      <td>10</td>\n",
       "      <td>1</td>\n",
       "      <td>MC</td>\n",
       "      <td>не упал</td>\n",
       "    </tr>\n",
       "    <tr>\n",
       "      <th>Яковенко Георгий</th>\n",
       "      <td>г. Санкт-Петербург, 22-26 сентября 2021 года</td>\n",
       "      <td>DMT</td>\n",
       "      <td>Final</td>\n",
       "      <td>1</td>\n",
       "      <td>76</td>\n",
       "      <td>27.8</td>\n",
       "      <td>0.0</td>\n",
       "      <td>0.000</td>\n",
       "      <td>M</td>\n",
       "      <td>Ростовская область</td>\n",
       "      <td>2</td>\n",
       "      <td>1</td>\n",
       "      <td>KMC</td>\n",
       "      <td>упал</td>\n",
       "    </tr>\n",
       "    <tr>\n",
       "      <th>Яковлев Дмитрий</th>\n",
       "      <td>Новый Уренгой, Ямало-Ненецкий автономный округ...</td>\n",
       "      <td>TRA</td>\n",
       "      <td>Final</td>\n",
       "      <td>1</td>\n",
       "      <td>96</td>\n",
       "      <td>14.5</td>\n",
       "      <td>9.3</td>\n",
       "      <td>13.415</td>\n",
       "      <td>M</td>\n",
       "      <td>Свердловская область</td>\n",
       "      <td>10</td>\n",
       "      <td>1</td>\n",
       "      <td>1rz</td>\n",
       "      <td>не упал</td>\n",
       "    </tr>\n",
       "  </tbody>\n",
       "</table>\n",
       "<p>451 rows × 14 columns</p>\n",
       "</div>"
      ],
      "text/plain": [
       "                                                            Subtitle  \\\n",
       "name                                                                   \n",
       "Абжалимов Мартин   Новый Уренгой, Ямало-Ненецкий автономный округ...   \n",
       "Азарян Сергей                      г. Ярославль, 23-27 февраля 2021г   \n",
       "Акименко Кира      Новый Уренгой, Ямало-Ненецкий автономный округ...   \n",
       "Акименко Кира      Новый Уренгой, Ямало-Ненецкий автономный округ...   \n",
       "Акимцев Иван       г. Таганрог, Ростовская область, 28 июня - 02 ...   \n",
       "...                                                              ...   \n",
       "Щербакова Сюзанна           27 апреля - 01 мая, Комсомольск-на-Амуре   \n",
       "Юдин Леонид        г. Таганрог, Ростовская область, 28 июня - 02 ...   \n",
       "Юшина Мария             г. Тольятти, Самарская область, 26-29 апреля   \n",
       "Яковенко Георгий        г. Санкт-Петербург, 22-26 сентября 2021 года   \n",
       "Яковлев Дмитрий    Новый Уренгой, Ямало-Ненецкий автономный округ...   \n",
       "\n",
       "                  Discipline  Stage Routine #    D     E∑    H       T Sex  \\\n",
       "name                                                                         \n",
       "Абжалимов Мартин         TUM  Final         1   13   17.5  0.0   0.000   M   \n",
       "Азарян Сергей            SYN  Final         1  160  795.0  9.0   0.855   M   \n",
       "Акименко Кира            DMT  Final         1   34   18.8  0.0   0.000   F   \n",
       "Акименко Кира            TRA  Final         1   88   13.7  9.3  12.910   F   \n",
       "Акимцев Иван             DMT  Final         1   84   28.4  0.0   0.000   M   \n",
       "...                      ...    ...       ...  ...    ...  ...     ...  ..   \n",
       "Щербакова Сюзанна        TUM  Final         1   22   17.1  0.0   0.000   F   \n",
       "Юдин Леонид              TRA  Final         1  114   17.1  9.2  15.940   M   \n",
       "Юшина Мария              TRA  Final         1   83   13.6  9.3  14.335   F   \n",
       "Яковенко Георгий         DMT  Final         1   76   27.8  0.0   0.000   M   \n",
       "Яковлев Дмитрий          TRA  Final         1   96   14.5  9.3  13.415   M   \n",
       "\n",
       "                                        Representing # Elements  Rank Razr  \\\n",
       "name                                                                         \n",
       "Абжалимов Мартин     Ямало-Ненецкий автономный округ          8     1  1rz   \n",
       "Азарян Сергей                    Воронежская область         10     1   MC   \n",
       "Акименко Кира      Ханты-Мансийский автономный округ          2     1  1rz   \n",
       "Акименко Кира      Ханты-Мансийский автономный округ         10     1  1rz   \n",
       "Акимцев Иван                      Ростовская область          2     1   MC   \n",
       "...                                              ...        ...   ...  ...   \n",
       "Щербакова Сюзанна                Сахалинская область          8     1   MC   \n",
       "Юдин Леонид                       Ростовская область         10     1   MC   \n",
       "Юшина Мария                        Самарская область         10     1   MC   \n",
       "Яковенко Георгий                  Ростовская область          2     1  KMC   \n",
       "Яковлев Дмитрий                 Свердловская область         10     1  1rz   \n",
       "\n",
       "                        rt  \n",
       "name                        \n",
       "Абжалимов Мартин      упал  \n",
       "Азарян Сергей      не упал  \n",
       "Акименко Кира         упал  \n",
       "Акименко Кира      не упал  \n",
       "Акимцев Иван          упал  \n",
       "...                    ...  \n",
       "Щербакова Сюзанна     упал  \n",
       "Юдин Леонид        не упал  \n",
       "Юшина Мария        не упал  \n",
       "Яковенко Георгий      упал  \n",
       "Яковлев Дмитрий    не упал  \n",
       "\n",
       "[451 rows x 14 columns]"
      ]
     },
     "execution_count": 273,
     "metadata": {},
     "output_type": "execute_result"
    }
   ],
   "source": [
    "trr = (df['Stage'] == 'Final') & (df['Rank'] == 1)\n",
    "df.loc[trr]"
   ]
  },
  {
   "cell_type": "markdown",
   "id": "4202d5f0",
   "metadata": {},
   "source": [
    "Результаты победителей."
   ]
  },
  {
   "cell_type": "code",
   "execution_count": 274,
   "id": "f83d1415",
   "metadata": {},
   "outputs": [
    {
     "data": {
      "text/plain": [
       "name\n",
       "Зайко Глафира        3\n",
       "Бладцева Анжела      3\n",
       "Шакула Сергей        2\n",
       "Коломин Матвей       2\n",
       "Соколова Валерия     2\n",
       "Бахтияров Тимур      2\n",
       "Озорнин Павел        2\n",
       "Диденко Максим       2\n",
       "Руденко Александр    2\n",
       "Филиппов Сергей      2\n",
       "Name: (count, # Elements), dtype: int64"
      ]
     },
     "execution_count": 274,
     "metadata": {},
     "output_type": "execute_result"
    }
   ],
   "source": [
    "bnnm = pd.pivot_table(df[(df['Stage'] == 'Final') & (df['Discipline'] == 'TRA') & (df['Rank'] == 1)], \n",
    "               index = ['name'], \n",
    "               aggfunc=['count'])['count', '# Elements'].sort_values(ascending=False)\n",
    "bnnm[bnnm > 1]"
   ]
  },
  {
   "cell_type": "markdown",
   "id": "76a6c22f",
   "metadata": {},
   "source": [
    "Список спортсменов, кто выигрывал на батуте больше одного раза."
   ]
  },
  {
   "cell_type": "code",
   "execution_count": 275,
   "id": "ccd0cfd0",
   "metadata": {},
   "outputs": [
    {
     "data": {
      "text/plain": [
       "name\n",
       "Абышев Дмитрий          1\n",
       "Насибуллина Венера      1\n",
       "Неудачин Роман          1\n",
       "Никитин Владимир        1\n",
       "Никитина София          1\n",
       "                       ..\n",
       "Бладцева Анжела         3\n",
       "Нартов Дмитрий          3\n",
       "Руденко Александр       3\n",
       "Бахтияров Тимур         4\n",
       "Бонарцева Александра    4\n",
       "Name: (count, # Elements), Length: 242, dtype: int64"
      ]
     },
     "execution_count": 275,
     "metadata": {},
     "output_type": "execute_result"
    }
   ],
   "source": [
    "pd.pivot_table(df[(df['Stage'] == 'Final') & (df['Discipline'] == 'TRA') & (df['Rank'] < 4)], \n",
    "               index = ['name'], \n",
    "               aggfunc=['count'])['count', '# Elements'].sort_values()"
   ]
  },
  {
   "cell_type": "markdown",
   "id": "d5e7e098",
   "metadata": {},
   "source": [
    "Список спортсменов, кто становился на батуте призером"
   ]
  },
  {
   "cell_type": "code",
   "execution_count": 276,
   "id": "8d5e375f",
   "metadata": {
    "scrolled": true
   },
   "outputs": [
    {
     "data": {
      "text/html": [
       "<div>\n",
       "<style scoped>\n",
       "    .dataframe tbody tr th:only-of-type {\n",
       "        vertical-align: middle;\n",
       "    }\n",
       "\n",
       "    .dataframe tbody tr th {\n",
       "        vertical-align: top;\n",
       "    }\n",
       "\n",
       "    .dataframe thead th {\n",
       "        text-align: right;\n",
       "    }\n",
       "</style>\n",
       "<table border=\"1\" class=\"dataframe\">\n",
       "  <thead>\n",
       "    <tr style=\"text-align: right;\">\n",
       "      <th></th>\n",
       "      <th>1 mesto</th>\n",
       "      <th>Final</th>\n",
       "      <th>%</th>\n",
       "    </tr>\n",
       "    <tr>\n",
       "      <th>name</th>\n",
       "      <th></th>\n",
       "      <th></th>\n",
       "      <th></th>\n",
       "    </tr>\n",
       "  </thead>\n",
       "  <tbody>\n",
       "    <tr>\n",
       "      <th>Садкова Дана</th>\n",
       "      <td>8.0</td>\n",
       "      <td>8</td>\n",
       "      <td>1.0</td>\n",
       "    </tr>\n",
       "    <tr>\n",
       "      <th>Шаталов Дмитрий</th>\n",
       "      <td>6.0</td>\n",
       "      <td>6</td>\n",
       "      <td>1.0</td>\n",
       "    </tr>\n",
       "    <tr>\n",
       "      <th>Волков Николай</th>\n",
       "      <td>6.0</td>\n",
       "      <td>6</td>\n",
       "      <td>1.0</td>\n",
       "    </tr>\n",
       "    <tr>\n",
       "      <th>Дымов Севастьян</th>\n",
       "      <td>4.0</td>\n",
       "      <td>4</td>\n",
       "      <td>1.0</td>\n",
       "    </tr>\n",
       "    <tr>\n",
       "      <th>Соколова Валерия</th>\n",
       "      <td>2.0</td>\n",
       "      <td>2</td>\n",
       "      <td>1.0</td>\n",
       "    </tr>\n",
       "    <tr>\n",
       "      <th>...</th>\n",
       "      <td>...</td>\n",
       "      <td>...</td>\n",
       "      <td>...</td>\n",
       "    </tr>\n",
       "    <tr>\n",
       "      <th>Карпова Виолетта</th>\n",
       "      <td>1.0</td>\n",
       "      <td>1</td>\n",
       "      <td>1.0</td>\n",
       "    </tr>\n",
       "    <tr>\n",
       "      <th>Киселева Ульяна</th>\n",
       "      <td>1.0</td>\n",
       "      <td>1</td>\n",
       "      <td>1.0</td>\n",
       "    </tr>\n",
       "    <tr>\n",
       "      <th>Колесникова Вероника</th>\n",
       "      <td>1.0</td>\n",
       "      <td>1</td>\n",
       "      <td>1.0</td>\n",
       "    </tr>\n",
       "    <tr>\n",
       "      <th>Колочаров Максим</th>\n",
       "      <td>1.0</td>\n",
       "      <td>1</td>\n",
       "      <td>1.0</td>\n",
       "    </tr>\n",
       "    <tr>\n",
       "      <th>Кочесок Сусана</th>\n",
       "      <td>1.0</td>\n",
       "      <td>1</td>\n",
       "      <td>1.0</td>\n",
       "    </tr>\n",
       "  </tbody>\n",
       "</table>\n",
       "<p>62 rows × 3 columns</p>\n",
       "</div>"
      ],
      "text/plain": [
       "                      1 mesto  Final    %\n",
       "name                                     \n",
       "Садкова Дана              8.0      8  1.0\n",
       "Шаталов Дмитрий           6.0      6  1.0\n",
       "Волков Николай            6.0      6  1.0\n",
       "Дымов Севастьян           4.0      4  1.0\n",
       "Соколова Валерия          2.0      2  1.0\n",
       "...                       ...    ...  ...\n",
       "Карпова Виолетта          1.0      1  1.0\n",
       "Киселева Ульяна           1.0      1  1.0\n",
       "Колесникова Вероника      1.0      1  1.0\n",
       "Колочаров Максим          1.0      1  1.0\n",
       "Кочесок Сусана            1.0      1  1.0\n",
       "\n",
       "[62 rows x 3 columns]"
      ]
     },
     "execution_count": 276,
     "metadata": {},
     "output_type": "execute_result"
    }
   ],
   "source": [
    "cxx = pd.Series(pd.pivot_table(df[(df['Stage'] == 'Final') & (df['Rank'] == 1)], \n",
    "               index = ['name'], \n",
    "               aggfunc=['count'])['count', '# Elements'].sort_values(ascending=False), name = '1 mesto')\n",
    "\n",
    "vff = pd.Series(pd.pivot_table(df[(df['Stage'] == 'Final')], \n",
    "               index = ['name'], \n",
    "               aggfunc=['count'])['count', '# Elements'].sort_values(), name = 'Final')\n",
    "tttd = pd.concat([cxx, vff],axis=1)\n",
    "tttd['%'] = tttd['1 mesto'] / tttd['Final']\n",
    "tttd[tttd['%'] == 1]"
   ]
  },
  {
   "cell_type": "markdown",
   "id": "ca9aa0f8",
   "metadata": {},
   "source": [
    "Список спортсменов, кто если попадает в финал становится победителем."
   ]
  },
  {
   "cell_type": "code",
   "execution_count": 277,
   "id": "9467d6cf",
   "metadata": {},
   "outputs": [
    {
     "data": {
      "text/plain": [
       "name                               \n",
       "Акимцев Иван          Qualification    34\n",
       "Дмитриев Максим       Qualification    33\n",
       "Княжина Виктория      Qualification    31\n",
       "Алмосов Алексей       Qualification    30\n",
       "Глушенко Егор         Qualification    29\n",
       "Бонарцева Александра  Qualification    29\n",
       "Лазутин Тимофей       Qualification    28\n",
       "Бровко Данил          Qualification    28\n",
       "Захарова Евгения      Qualification    27\n",
       "Калашникова Алена     Qualification    27\n",
       "Name: Stage, dtype: int64"
      ]
     },
     "execution_count": 277,
     "metadata": {},
     "output_type": "execute_result"
    }
   ],
   "source": [
    "df.groupby('name')['Stage'].value_counts(sort = True).sort_values(ascending=False)[:10]"
   ]
  },
  {
   "cell_type": "markdown",
   "id": "2f9fd88c",
   "metadata": {},
   "source": [
    "Топ-10 самых \"работоспособных\" "
   ]
  },
  {
   "cell_type": "code",
   "execution_count": 278,
   "id": "03bc7952",
   "metadata": {},
   "outputs": [
    {
     "data": {
      "text/plain": [
       "Index(['Айгузина Юлианна', 'Алексеева Анна', 'Алышева Анжелика',\n",
       "       'Аляева София', 'Аминов Руслан', 'Анисимов Максим', 'Анненков Вадим',\n",
       "       'Анохин Александр', 'Анциферова Олеся', 'Артамонова Елизавета',\n",
       "       ...\n",
       "       'Штырхунова Марина', 'Шулепов Александр', 'Шульмина Екатерина',\n",
       "       'Шуркало Дарья', 'Щербаков Александр', 'Щетинина Алина',\n",
       "       'Щипанова Екатерина', 'Юренкова Елизавета', 'Яковенко Георгий',\n",
       "       'Яровой Владислав'],\n",
       "      dtype='object', name='name', length=417)"
      ]
     },
     "execution_count": 278,
     "metadata": {},
     "output_type": "execute_result"
    }
   ],
   "source": [
    "raza = df[(df['Razr'] == 'KMC')]\n",
    "razanot = df[(df['Razr'] != 'KMC')]\n",
    "\n",
    "raza.index.intersection(razanot.index)"
   ]
  },
  {
   "cell_type": "markdown",
   "id": "e6aa6931",
   "metadata": {},
   "source": [
    "Список спортсменов, кто перешел с одного разряда на другой."
   ]
  },
  {
   "cell_type": "markdown",
   "id": "2fa54d04",
   "metadata": {},
   "source": [
    "## Особенности"
   ]
  },
  {
   "cell_type": "code",
   "execution_count": 279,
   "id": "a058a3af",
   "metadata": {},
   "outputs": [
    {
     "data": {
      "text/plain": [
       "<AxesSubplot:ylabel='# Elements'>"
      ]
     },
     "execution_count": 279,
     "metadata": {},
     "output_type": "execute_result"
    },
    {
     "data": {
      "image/png": "[encoded data removed]",
      "text/plain": [
       "<Figure size 1080x360 with 1 Axes>"
      ]
     },
     "metadata": {},
     "output_type": "display_data"
    }
   ],
   "source": [
    "df[df['Discipline'] == 'TRA']['# Elements'].value_counts().plot.pie()"
   ]
  },
  {
   "cell_type": "code",
   "execution_count": 280,
   "id": "143d0fbb",
   "metadata": {},
   "outputs": [
    {
     "data": {
      "text/html": [
       "<div>\n",
       "<style scoped>\n",
       "    .dataframe tbody tr th:only-of-type {\n",
       "        vertical-align: middle;\n",
       "    }\n",
       "\n",
       "    .dataframe tbody tr th {\n",
       "        vertical-align: top;\n",
       "    }\n",
       "\n",
       "    .dataframe thead tr th {\n",
       "        text-align: left;\n",
       "    }\n",
       "\n",
       "    .dataframe thead tr:last-of-type th {\n",
       "        text-align: right;\n",
       "    }\n",
       "</style>\n",
       "<table border=\"1\" class=\"dataframe\">\n",
       "  <thead>\n",
       "    <tr>\n",
       "      <th></th>\n",
       "      <th></th>\n",
       "      <th colspan=\"6\" halign=\"left\">mean</th>\n",
       "    </tr>\n",
       "    <tr>\n",
       "      <th></th>\n",
       "      <th></th>\n",
       "      <th colspan=\"3\" halign=\"left\">D</th>\n",
       "      <th colspan=\"3\" halign=\"left\">T</th>\n",
       "    </tr>\n",
       "    <tr>\n",
       "      <th></th>\n",
       "      <th>Razr</th>\n",
       "      <th>1rz</th>\n",
       "      <th>KMC</th>\n",
       "      <th>MC</th>\n",
       "      <th>1rz</th>\n",
       "      <th>KMC</th>\n",
       "      <th>MC</th>\n",
       "    </tr>\n",
       "    <tr>\n",
       "      <th>Discipline</th>\n",
       "      <th>Stage</th>\n",
       "      <th></th>\n",
       "      <th></th>\n",
       "      <th></th>\n",
       "      <th></th>\n",
       "      <th></th>\n",
       "      <th></th>\n",
       "    </tr>\n",
       "  </thead>\n",
       "  <tbody>\n",
       "    <tr>\n",
       "      <th rowspan=\"4\" valign=\"top\">DMT</th>\n",
       "      <th>Final</th>\n",
       "      <td>23.364090</td>\n",
       "      <td>37.851351</td>\n",
       "      <td>45.916522</td>\n",
       "      <td>0.000000</td>\n",
       "      <td>0.000000</td>\n",
       "      <td>0.000000</td>\n",
       "    </tr>\n",
       "    <tr>\n",
       "      <th>Qualification</th>\n",
       "      <td>19.435970</td>\n",
       "      <td>34.376923</td>\n",
       "      <td>45.680576</td>\n",
       "      <td>0.000000</td>\n",
       "      <td>0.000000</td>\n",
       "      <td>0.000000</td>\n",
       "    </tr>\n",
       "    <tr>\n",
       "      <th>Semifinal</th>\n",
       "      <td>22.214286</td>\n",
       "      <td>36.307692</td>\n",
       "      <td>50.640394</td>\n",
       "      <td>0.000000</td>\n",
       "      <td>0.000000</td>\n",
       "      <td>0.000000</td>\n",
       "    </tr>\n",
       "    <tr>\n",
       "      <th>Team Final</th>\n",
       "      <td>16.750000</td>\n",
       "      <td>36.347458</td>\n",
       "      <td>51.827586</td>\n",
       "      <td>0.000000</td>\n",
       "      <td>0.000000</td>\n",
       "      <td>0.000000</td>\n",
       "    </tr>\n",
       "    <tr>\n",
       "      <th rowspan=\"3\" valign=\"top\">SYN</th>\n",
       "      <th>Final</th>\n",
       "      <td>48.336449</td>\n",
       "      <td>68.875000</td>\n",
       "      <td>78.119205</td>\n",
       "      <td>0.727234</td>\n",
       "      <td>0.779000</td>\n",
       "      <td>0.756755</td>\n",
       "    </tr>\n",
       "    <tr>\n",
       "      <th>Qualification</th>\n",
       "      <td>23.551282</td>\n",
       "      <td>29.969697</td>\n",
       "      <td>45.373626</td>\n",
       "      <td>0.708226</td>\n",
       "      <td>0.739379</td>\n",
       "      <td>0.673017</td>\n",
       "    </tr>\n",
       "    <tr>\n",
       "      <th>Semifinal</th>\n",
       "      <td>NaN</td>\n",
       "      <td>NaN</td>\n",
       "      <td>87.250000</td>\n",
       "      <td>NaN</td>\n",
       "      <td>NaN</td>\n",
       "      <td>0.719750</td>\n",
       "    </tr>\n",
       "    <tr>\n",
       "      <th rowspan=\"4\" valign=\"top\">TRA</th>\n",
       "      <th>Final</th>\n",
       "      <td>66.571930</td>\n",
       "      <td>89.200000</td>\n",
       "      <td>93.259740</td>\n",
       "      <td>11.373137</td>\n",
       "      <td>12.868600</td>\n",
       "      <td>13.113808</td>\n",
       "    </tr>\n",
       "    <tr>\n",
       "      <th>Qualification</th>\n",
       "      <td>30.481354</td>\n",
       "      <td>38.611182</td>\n",
       "      <td>54.546547</td>\n",
       "      <td>11.079035</td>\n",
       "      <td>12.523166</td>\n",
       "      <td>13.022167</td>\n",
       "    </tr>\n",
       "    <tr>\n",
       "      <th>Semifinal</th>\n",
       "      <td>61.750000</td>\n",
       "      <td>105.333333</td>\n",
       "      <td>100.516981</td>\n",
       "      <td>11.195250</td>\n",
       "      <td>13.548571</td>\n",
       "      <td>12.907868</td>\n",
       "    </tr>\n",
       "    <tr>\n",
       "      <th>Team Final</th>\n",
       "      <td>0.000000</td>\n",
       "      <td>50.539007</td>\n",
       "      <td>43.076923</td>\n",
       "      <td>11.720511</td>\n",
       "      <td>12.675943</td>\n",
       "      <td>13.830350</td>\n",
       "    </tr>\n",
       "    <tr>\n",
       "      <th rowspan=\"4\" valign=\"top\">TUM</th>\n",
       "      <th>Final</th>\n",
       "      <td>22.501946</td>\n",
       "      <td>42.352941</td>\n",
       "      <td>46.251101</td>\n",
       "      <td>0.000000</td>\n",
       "      <td>0.000000</td>\n",
       "      <td>0.000000</td>\n",
       "    </tr>\n",
       "    <tr>\n",
       "      <th>Qualification</th>\n",
       "      <td>18.426343</td>\n",
       "      <td>33.732759</td>\n",
       "      <td>40.485447</td>\n",
       "      <td>0.000000</td>\n",
       "      <td>0.000000</td>\n",
       "      <td>0.000000</td>\n",
       "    </tr>\n",
       "    <tr>\n",
       "      <th>Semifinal</th>\n",
       "      <td>18.055556</td>\n",
       "      <td>27.250000</td>\n",
       "      <td>48.590909</td>\n",
       "      <td>0.000000</td>\n",
       "      <td>0.000000</td>\n",
       "      <td>0.000000</td>\n",
       "    </tr>\n",
       "    <tr>\n",
       "      <th>Team Final</th>\n",
       "      <td>NaN</td>\n",
       "      <td>33.157895</td>\n",
       "      <td>53.096774</td>\n",
       "      <td>NaN</td>\n",
       "      <td>0.000000</td>\n",
       "      <td>0.000000</td>\n",
       "    </tr>\n",
       "  </tbody>\n",
       "</table>\n",
       "</div>"
      ],
      "text/plain": [
       "                               mean                                     \\\n",
       "                                  D                                  T   \n",
       "Razr                            1rz         KMC          MC        1rz   \n",
       "Discipline Stage                                                         \n",
       "DMT        Final          23.364090   37.851351   45.916522   0.000000   \n",
       "           Qualification  19.435970   34.376923   45.680576   0.000000   \n",
       "           Semifinal      22.214286   36.307692   50.640394   0.000000   \n",
       "           Team Final     16.750000   36.347458   51.827586   0.000000   \n",
       "SYN        Final          48.336449   68.875000   78.119205   0.727234   \n",
       "           Qualification  23.551282   29.969697   45.373626   0.708226   \n",
       "           Semifinal            NaN         NaN   87.250000        NaN   \n",
       "TRA        Final          66.571930   89.200000   93.259740  11.373137   \n",
       "           Qualification  30.481354   38.611182   54.546547  11.079035   \n",
       "           Semifinal      61.750000  105.333333  100.516981  11.195250   \n",
       "           Team Final      0.000000   50.539007   43.076923  11.720511   \n",
       "TUM        Final          22.501946   42.352941   46.251101   0.000000   \n",
       "           Qualification  18.426343   33.732759   40.485447   0.000000   \n",
       "           Semifinal      18.055556   27.250000   48.590909   0.000000   \n",
       "           Team Final           NaN   33.157895   53.096774        NaN   \n",
       "\n",
       "                                                \n",
       "                                                \n",
       "Razr                            KMC         MC  \n",
       "Discipline Stage                                \n",
       "DMT        Final           0.000000   0.000000  \n",
       "           Qualification   0.000000   0.000000  \n",
       "           Semifinal       0.000000   0.000000  \n",
       "           Team Final      0.000000   0.000000  \n",
       "SYN        Final           0.779000   0.756755  \n",
       "           Qualification   0.739379   0.673017  \n",
       "           Semifinal            NaN   0.719750  \n",
       "TRA        Final          12.868600  13.113808  \n",
       "           Qualification  12.523166  13.022167  \n",
       "           Semifinal      13.548571  12.907868  \n",
       "           Team Final     12.675943  13.830350  \n",
       "TUM        Final           0.000000   0.000000  \n",
       "           Qualification   0.000000   0.000000  \n",
       "           Semifinal       0.000000   0.000000  \n",
       "           Team Final      0.000000   0.000000  "
      ]
     },
     "execution_count": 280,
     "metadata": {},
     "output_type": "execute_result"
    }
   ],
   "source": [
    "pd.pivot_table(df, values = ['D', 'T'], index = ['Discipline', 'Stage'], columns = 'Razr', aggfunc=[np.mean])"
   ]
  },
  {
   "cell_type": "markdown",
   "id": "8910c293",
   "metadata": {},
   "source": [
    "Таблица показывает, что \n",
    "* Во всех снарядах чаще всего чем выше стадия соревнований тем сложность и время выше\n",
    "* С разрядом растет и средняя сложность и время\n",
    "* Командный финал везде различается: на батуте он всегда с наименьшей сложностью и высоким временем, те учасники предпочитают не рисковать; на минитрампе и акробатической дорожке картина неоднородна "
   ]
  },
  {
   "cell_type": "code",
   "execution_count": 281,
   "id": "9236f543",
   "metadata": {},
   "outputs": [
    {
     "data": {
      "text/plain": [
       "<AxesSubplot:>"
      ]
     },
     "execution_count": 281,
     "metadata": {},
     "output_type": "execute_result"
    },
    {
     "data": {
      "image/png": "[encoded data removed]",
      "text/plain": [
       "<Figure size 1080x360 with 2 Axes>"
      ]
     },
     "metadata": {
      "needs_background": "light"
     },
     "output_type": "display_data"
    }
   ],
   "source": [
    "sns.heatmap(df.corr(), cmap= sns.color_palette(palette=\"RdBu\"),linewidths=0.5,annot=True)"
   ]
  },
  {
   "cell_type": "markdown",
   "id": "e18da3b3",
   "metadata": {},
   "source": [
    "Напоследок обратимся к корреляции и она показывает, что существует связь между временем и перемещением, временем и количеством элементов и количеством элементов и перемещением. чем больше один парамент, тем больше другой"
   ]
  },
  {
   "cell_type": "markdown",
   "id": "90dd30cc",
   "metadata": {},
   "source": [
    "# Общий вывод"
   ]
  },
  {
   "cell_type": "markdown",
   "id": "de581400",
   "metadata": {},
   "source": [
    "В ходе нашего исследования, мы в предобработали данные, где полностью изменили таблицу, заменили типы данных, добавили столбцы с разрядом, полным именем и полом спортсмена.\n",
    "\n",
    "Провели анализ данных, в котором выяснили самые многочисленные сборные за 2021-2022 год, узнали какие являются наиболее результативными, какие сборные на каких снарядах специализуются, какие самые перспективные в будущем. Так же мы сравнили показатели по половому признаку и назвали имена лучших спортсменов.\n",
    "\n",
    "Общие выводы:\n",
    "1. Уровень сборных областей сильно различается: одни сборные возят много участников и их уровень высокий, когда как у других нет даже всех снарядов.\n",
    "2. Батут хоть и является олимпийским видом спорта, но минитрамп проще и на нем больше участников\n",
    "3. Чтобы прыгать успешно надо развивать в себе все навыки, а не только чистоту или сложность.\n",
    "4. Девочек в спорте примерно такое же количество как и мальчиков, но они прыгают аккуратнее, а мальчики - сложнее."
   ]
  }
 ],
 "metadata": {
  "kernelspec": {
   "display_name": "Python 3 (ipykernel)",
   "language": "python",
   "name": "python3"
  },
  "language_info": {
   "codemirror_mode": {
    "name": "ipython",
    "version": 3
   },
   "file_extension": ".py",
   "mimetype": "text/x-python",
   "name": "python",
   "nbconvert_exporter": "python",
   "pygments_lexer": "ipython3",
   "version": "3.9.12"
  }
 },
 "nbformat": 4,
 "nbformat_minor": 5
}
