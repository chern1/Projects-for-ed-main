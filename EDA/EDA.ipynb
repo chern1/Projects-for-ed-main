{
 "cells": [
  {
   "cell_type": "markdown",
   "id": "48613601",
   "metadata": {},
   "source": [
    "# Доставка Еды: анализ"
   ]
  },
  {
   "cell_type": "markdown",
   "id": "ffab6a23",
   "metadata": {},
   "source": [
    "<img src='https://avatars.mds.yandex.net/get-altay/4667561/2a00000179894ed9fa6c51c04a69bdcfb562/XXXL'>"
   ]
  },
  {
   "cell_type": "markdown",
   "id": "e101bf64",
   "metadata": {},
   "source": [
    "# Описание"
   ]
  },
  {
   "cell_type": "markdown",
   "id": "79d718fc",
   "metadata": {},
   "source": [
    "Доставку еды осуществляет сервис заказа из ресторанов и продуктов из магазинов через мобильные приложения или веб-сайт. Доставку осуществляют курьерские службы, курьеры-партнёры сервиса, водители-партнёры и собственные курьеры ресторанов. На выбор доступны пиццерии, пекарни, рестораны грузинской и японской кухни, бургерные, стейк-хаусы, а также продуктовые магазины. "
   ]
  },
  {
   "cell_type": "markdown",
   "id": "95e51410",
   "metadata": {},
   "source": [
    "В наборе данных информация о заказах по Москве одного агрегатора, которая оказалсь в открытом доступе"
   ]
  },
  {
   "cell_type": "markdown",
   "id": "3871c86f",
   "metadata": {},
   "source": [
    "## Оглавление\n",
    "### 1. Открытие файлов и изучение\n",
    "### 2. Предобработка данных\n",
    "        Работа с пропусками\n",
    "        Создание таблицы\n",
    "        Унификация данных \n",
    "        Замена типов данных\n",
    "### 3.  Исследовательский анализ данных\n",
    "        Регионы России\n",
    "        Девочки/Мальчики\n",
    "        Лучшие спортсмены\n",
    "        Особенности\n",
    "### 4. Общий вывод\n",
    "    "
   ]
  },
  {
   "cell_type": "markdown",
   "id": "131ecb96",
   "metadata": {},
   "source": [
    "# Открытие файлов и изучение"
   ]
  },
  {
   "cell_type": "markdown",
   "id": "759dab21",
   "metadata": {},
   "source": [
    "Импортруем библиотеки и устанавлием параметры, которые будем использовать."
   ]
  },
  {
   "cell_type": "code",
   "execution_count": 165,
   "id": "b2c4c7e7",
   "metadata": {},
   "outputs": [],
   "source": [
    "import pandas as pd\n",
    "import numpy as np\n",
    "import seaborn as sns\n",
    "import matplotlib as mpl\n",
    "import matplotlib.pyplot as plt\n",
    "import folium\n",
    "from folium.plugins import MarkerCluster\n",
    "plt.rcParams[\"figure.figsize\"] = (30,30)\n",
    "pd.set_option('mode.chained_assignment', None)\n",
    "pd.set_option('display.max_colwidth', None)"
   ]
  },
  {
   "cell_type": "markdown",
   "id": "3d490c24",
   "metadata": {},
   "source": [
    "Открываем .csv файл и исследуем структуру."
   ]
  },
  {
   "cell_type": "code",
   "execution_count": 166,
   "id": "1f9e2c7a",
   "metadata": {},
   "outputs": [
    {
     "name": "stdout",
     "output_type": "stream",
     "text": [
      "<class 'pandas.core.frame.DataFrame'>\n",
      "RangeIndex: 500000 entries, 0 to 499999\n",
      "Data columns (total 19 columns):\n",
      " #   Column              Non-Null Count   Dtype  \n",
      "---  ------              --------------   -----  \n",
      " 0   id                  500000 non-null  int64  \n",
      " 1   first_name          499811 non-null  object \n",
      " 2   full_name           220136 non-null  object \n",
      " 3   email               216589 non-null  object \n",
      " 4   phone_number        500000 non-null  int64  \n",
      " 5   address_city        500000 non-null  object \n",
      " 6   address_street      495541 non-null  object \n",
      " 7   address_house       498939 non-null  object \n",
      " 8   address_entrance    286148 non-null  object \n",
      " 9   address_floor       287690 non-null  float64\n",
      " 10  address_office      277509 non-null  object \n",
      " 11  address_comment     150078 non-null  object \n",
      " 12  location_latitude   500000 non-null  float64\n",
      " 13  location_longitude  500000 non-null  float64\n",
      " 14  amount_charged      500000 non-null  int64  \n",
      " 15  user_id             500000 non-null  int64  \n",
      " 16  user_agent          500000 non-null  object \n",
      " 17  created_at          500000 non-null  object \n",
      " 18  address_doorcode    243278 non-null  object \n",
      "dtypes: float64(3), int64(4), object(12)\n",
      "memory usage: 72.5+ MB\n"
     ]
    }
   ],
   "source": [
    "df = pd.read_csv(\"moscow1.csv\")\n",
    "df.info()"
   ]
  },
  {
   "cell_type": "code",
   "execution_count": 167,
   "id": "f869b370",
   "metadata": {},
   "outputs": [
    {
     "data": {
      "text/plain": [
       "id                    500000\n",
       "first_name            105328\n",
       "full_name             127601\n",
       "email                 136063\n",
       "phone_number          340921\n",
       "address_city            1599\n",
       "address_street          5908\n",
       "address_house          10842\n",
       "address_entrance        2664\n",
       "address_floor            217\n",
       "address_office          5398\n",
       "address_comment       125197\n",
       "location_latitude     149063\n",
       "location_longitude    154146\n",
       "amount_charged          7285\n",
       "user_id               347665\n",
       "user_agent             41119\n",
       "created_at            163502\n",
       "address_doorcode       94558\n",
       "dtype: int64"
      ]
     },
     "execution_count": 167,
     "metadata": {},
     "output_type": "execute_result"
    }
   ],
   "source": [
    "df.nunique()"
   ]
  },
  {
   "cell_type": "markdown",
   "id": "dd753f61",
   "metadata": {},
   "source": [
    "Уберем возможные персональные данные."
   ]
  },
  {
   "cell_type": "code",
   "execution_count": 168,
   "id": "974eb984",
   "metadata": {},
   "outputs": [],
   "source": [
    "df.drop(columns=['id', 'full_name', 'email', 'phone_number', 'address_city', 'address_street', 'address_house', 'address_entrance', \n",
    "                 'address_floor', 'address_office', 'address_doorcode'], inplace = True)"
   ]
  },
  {
   "cell_type": "code",
   "execution_count": 169,
   "id": "7f663302",
   "metadata": {},
   "outputs": [
    {
     "data": {
      "text/html": [
       "<div>\n",
       "<style scoped>\n",
       "    .dataframe tbody tr th:only-of-type {\n",
       "        vertical-align: middle;\n",
       "    }\n",
       "\n",
       "    .dataframe tbody tr th {\n",
       "        vertical-align: top;\n",
       "    }\n",
       "\n",
       "    .dataframe thead th {\n",
       "        text-align: right;\n",
       "    }\n",
       "</style>\n",
       "<table border=\"1\" class=\"dataframe\">\n",
       "  <thead>\n",
       "    <tr style=\"text-align: right;\">\n",
       "      <th></th>\n",
       "      <th>first_name</th>\n",
       "      <th>address_comment</th>\n",
       "      <th>location_latitude</th>\n",
       "      <th>location_longitude</th>\n",
       "      <th>amount_charged</th>\n",
       "      <th>user_id</th>\n",
       "      <th>user_agent</th>\n",
       "      <th>created_at</th>\n",
       "    </tr>\n",
       "  </thead>\n",
       "  <tbody>\n",
       "    <tr>\n",
       "      <th>204792</th>\n",
       "      <td>Александр</td>\n",
       "      <td>NaN</td>\n",
       "      <td>55.756584</td>\n",
       "      <td>37.411138</td>\n",
       "      <td>2568</td>\n",
       "      <td>1253220</td>\n",
       "      <td>android (2.56.1)</td>\n",
       "      <td>10/14/2021 19:19</td>\n",
       "    </tr>\n",
       "    <tr>\n",
       "      <th>330477</th>\n",
       "      <td>Елена Максимова</td>\n",
       "      <td>NaN</td>\n",
       "      <td>55.751857</td>\n",
       "      <td>37.806506</td>\n",
       "      <td>896</td>\n",
       "      <td>15674178</td>\n",
       "      <td>android (2.51.0)</td>\n",
       "      <td>7/18/2021 19:57</td>\n",
       "    </tr>\n",
       "    <tr>\n",
       "      <th>157103</th>\n",
       "      <td>Диана</td>\n",
       "      <td>NaN</td>\n",
       "      <td>55.818565</td>\n",
       "      <td>37.331357</td>\n",
       "      <td>0</td>\n",
       "      <td>293042269</td>\n",
       "      <td>MagnitApp_Android/1.2.9</td>\n",
       "      <td>9/12/2021 13:10</td>\n",
       "    </tr>\n",
       "    <tr>\n",
       "      <th>98382</th>\n",
       "      <td>Николай</td>\n",
       "      <td>Фотостудия Пространство</td>\n",
       "      <td>55.798804</td>\n",
       "      <td>37.606954</td>\n",
       "      <td>679</td>\n",
       "      <td>6183380</td>\n",
       "      <td>ios(5.15.0)</td>\n",
       "      <td>7/3/2021 18:06</td>\n",
       "    </tr>\n",
       "    <tr>\n",
       "      <th>306606</th>\n",
       "      <td>Илья Мандибура</td>\n",
       "      <td>Позвонить 89772585636</td>\n",
       "      <td>55.991133</td>\n",
       "      <td>37.271442</td>\n",
       "      <td>4639</td>\n",
       "      <td>319301488</td>\n",
       "      <td>android (2.64.0)</td>\n",
       "      <td>1/29/2022 13:26</td>\n",
       "    </tr>\n",
       "  </tbody>\n",
       "</table>\n",
       "</div>"
      ],
      "text/plain": [
       "             first_name          address_comment  location_latitude  \\\n",
       "204792        Александр                      NaN          55.756584   \n",
       "330477  Елена Максимова                      NaN          55.751857   \n",
       "157103            Диана                      NaN          55.818565   \n",
       "98382           Николай  Фотостудия Пространство          55.798804   \n",
       "306606   Илья Мандибура    Позвонить 89772585636          55.991133   \n",
       "\n",
       "        location_longitude  amount_charged    user_id  \\\n",
       "204792           37.411138            2568    1253220   \n",
       "330477           37.806506             896   15674178   \n",
       "157103           37.331357               0  293042269   \n",
       "98382            37.606954             679    6183380   \n",
       "306606           37.271442            4639  319301488   \n",
       "\n",
       "                     user_agent        created_at  \n",
       "204792         android (2.56.1)  10/14/2021 19:19  \n",
       "330477         android (2.51.0)   7/18/2021 19:57  \n",
       "157103  MagnitApp_Android/1.2.9   9/12/2021 13:10  \n",
       "98382               ios(5.15.0)    7/3/2021 18:06  \n",
       "306606         android (2.64.0)   1/29/2022 13:26  "
      ]
     },
     "execution_count": 169,
     "metadata": {},
     "output_type": "execute_result"
    }
   ],
   "source": [
    "df.sample(5)"
   ]
  },
  {
   "cell_type": "code",
   "execution_count": 170,
   "id": "4d90e928",
   "metadata": {},
   "outputs": [
    {
     "name": "stdout",
     "output_type": "stream",
     "text": [
      "<class 'pandas.core.frame.DataFrame'>\n",
      "RangeIndex: 500000 entries, 0 to 499999\n",
      "Data columns (total 8 columns):\n",
      " #   Column              Non-Null Count   Dtype  \n",
      "---  ------              --------------   -----  \n",
      " 0   first_name          499811 non-null  object \n",
      " 1   address_comment     150078 non-null  object \n",
      " 2   location_latitude   500000 non-null  float64\n",
      " 3   location_longitude  500000 non-null  float64\n",
      " 4   amount_charged      500000 non-null  int64  \n",
      " 5   user_id             500000 non-null  int64  \n",
      " 6   user_agent          500000 non-null  object \n",
      " 7   created_at          500000 non-null  object \n",
      "dtypes: float64(2), int64(2), object(4)\n",
      "memory usage: 30.5+ MB\n"
     ]
    }
   ],
   "source": [
    "df.info()"
   ]
  },
  {
   "cell_type": "code",
   "execution_count": 171,
   "id": "ddd77fa3",
   "metadata": {},
   "outputs": [
    {
     "name": "stdout",
     "output_type": "stream",
     "text": [
      "first_name - 0%\n",
      "address_comment - 70%\n",
      "location_latitude - 0%\n",
      "location_longitude - 0%\n",
      "amount_charged - 0%\n",
      "user_id - 0%\n",
      "user_agent - 0%\n",
      "created_at - 0%\n"
     ]
    }
   ],
   "source": [
    "for col in df.columns:\n",
    "    pct_missing = np.mean(df[col].isnull())\n",
    "    print('{} - {}%'.format(col, round(pct_missing*100)))"
   ]
  },
  {
   "cell_type": "code",
   "execution_count": 172,
   "id": "5fab6d89",
   "metadata": {},
   "outputs": [
    {
     "data": {
      "text/plain": [
       "<AxesSubplot:>"
      ]
     },
     "execution_count": 172,
     "metadata": {},
     "output_type": "execute_result"
    },
    {
     "data": {
      "image/png": "[encoded data removed]",
      "text/plain": [
       "<Figure size 2160x2160 with 2 Axes>"
      ]
     },
     "metadata": {},
     "output_type": "display_data"
    }
   ],
   "source": [
    "cols = df.columns \n",
    "colours = ['#000099', '#ffff00'] \n",
    "sns.heatmap(df[cols].isnull(), cmap=sns.color_palette(colours))"
   ]
  },
  {
   "cell_type": "code",
   "execution_count": 173,
   "id": "009e4f6e",
   "metadata": {},
   "outputs": [
    {
     "data": {
      "text/plain": [
       "0"
      ]
     },
     "execution_count": 173,
     "metadata": {},
     "output_type": "execute_result"
    }
   ],
   "source": [
    "df.duplicated().sum()"
   ]
  },
  {
   "cell_type": "markdown",
   "id": "3aca6ab8",
   "metadata": {},
   "source": [
    "В большинстве столбцов все данные присутствуют. Нет только комментариев, но их можно оставлять опционально и это не влияет на анализ. Дубликатов нет."
   ]
  },
  {
   "cell_type": "code",
   "execution_count": 174,
   "id": "fead155e",
   "metadata": {
    "scrolled": true
   },
   "outputs": [
    {
     "data": {
      "text/html": [
       "<div>\n",
       "<style scoped>\n",
       "    .dataframe tbody tr th:only-of-type {\n",
       "        vertical-align: middle;\n",
       "    }\n",
       "\n",
       "    .dataframe tbody tr th {\n",
       "        vertical-align: top;\n",
       "    }\n",
       "\n",
       "    .dataframe thead th {\n",
       "        text-align: right;\n",
       "    }\n",
       "</style>\n",
       "<table border=\"1\" class=\"dataframe\">\n",
       "  <thead>\n",
       "    <tr style=\"text-align: right;\">\n",
       "      <th></th>\n",
       "      <th>first_name</th>\n",
       "      <th>address_comment</th>\n",
       "      <th>location_latitude</th>\n",
       "      <th>location_longitude</th>\n",
       "      <th>Цена</th>\n",
       "      <th>id заказчика</th>\n",
       "      <th>user_agent</th>\n",
       "      <th>Дата</th>\n",
       "    </tr>\n",
       "  </thead>\n",
       "  <tbody>\n",
       "    <tr>\n",
       "      <th>0</th>\n",
       "      <td>Марина</td>\n",
       "      <td>NaN</td>\n",
       "      <td>55.817654</td>\n",
       "      <td>37.829648</td>\n",
       "      <td>1359</td>\n",
       "      <td>323129982</td>\n",
       "      <td>MagnitApp_Android/2.0.8</td>\n",
       "      <td>12/25/2021 22:00</td>\n",
       "    </tr>\n",
       "    <tr>\n",
       "      <th>1</th>\n",
       "      <td>Sergey B.</td>\n",
       "      <td>NaN</td>\n",
       "      <td>55.816030</td>\n",
       "      <td>37.808985</td>\n",
       "      <td>0</td>\n",
       "      <td>297849704</td>\n",
       "      <td>Mozilla/5.0 (iPhone; CPU iPhone OS 14_7_1 like Mac OS X) AppleWebKit/605.1.15 (KHTML, like Gecko) Version/14.1.2 Mobile/15E148 Safari/604.1</td>\n",
       "      <td>9/30/2021 20:09</td>\n",
       "    </tr>\n",
       "    <tr>\n",
       "      <th>2</th>\n",
       "      <td>Елизавета</td>\n",
       "      <td>NaN</td>\n",
       "      <td>56.073574</td>\n",
       "      <td>37.365298</td>\n",
       "      <td>934</td>\n",
       "      <td>263040570</td>\n",
       "      <td>Mozilla/5.0 (iPhone; CPU iPhone OS 14_6 like Mac OS X) AppleWebKit/605.1.15 (KHTML, like Gecko) yandex-lavka/1.3.0.143889 YandexEatsKit/1.17.26 Lavka/Standalone</td>\n",
       "      <td>6/30/2021 20:43</td>\n",
       "    </tr>\n",
       "    <tr>\n",
       "      <th>3</th>\n",
       "      <td>Жанна Мкртчян</td>\n",
       "      <td>NaN</td>\n",
       "      <td>55.685777</td>\n",
       "      <td>37.544971</td>\n",
       "      <td>1104</td>\n",
       "      <td>304379733</td>\n",
       "      <td>ios(5.22.0)</td>\n",
       "      <td>10/24/2021 15:35</td>\n",
       "    </tr>\n",
       "    <tr>\n",
       "      <th>4</th>\n",
       "      <td>Яна</td>\n",
       "      <td>1573# код для входа во двор пешком, оставить заказ на крючке справа от двери (под звонком)</td>\n",
       "      <td>55.736684</td>\n",
       "      <td>37.687120</td>\n",
       "      <td>485</td>\n",
       "      <td>50560339</td>\n",
       "      <td>Mozilla/5.0 (Linux; Android 10; M2010J19CG Build/QKQ1.200830.002; wv) AppleWebKit/537.36 (KHTML, like Gecko) Version/4.0 Chrome/89.0.4389.86 Mobile Safari/537.36 yandex-taxi/4.26.0.121851 Android/10 (Xiaomi; M2010J19CG) Superapp/Eats EatsKit/1.25.0</td>\n",
       "      <td>7/11/2021 10:39</td>\n",
       "    </tr>\n",
       "    <tr>\n",
       "      <th>...</th>\n",
       "      <td>...</td>\n",
       "      <td>...</td>\n",
       "      <td>...</td>\n",
       "      <td>...</td>\n",
       "      <td>...</td>\n",
       "      <td>...</td>\n",
       "      <td>...</td>\n",
       "      <td>...</td>\n",
       "    </tr>\n",
       "    <tr>\n",
       "      <th>499995</th>\n",
       "      <td>Сергей</td>\n",
       "      <td>NaN</td>\n",
       "      <td>55.818918</td>\n",
       "      <td>37.658652</td>\n",
       "      <td>383</td>\n",
       "      <td>19509504</td>\n",
       "      <td>Mozilla/5.0 (iPhone; CPU iPhone OS 14_6 like Mac OS X) AppleWebKit/605.1.15 (KHTML, like Gecko) yandex-lavka/1.3.0.143889 YandexEatsKit/1.17.26 Lavka/Standalone</td>\n",
       "      <td>7/5/2021 16:26</td>\n",
       "    </tr>\n",
       "    <tr>\n",
       "      <th>499996</th>\n",
       "      <td>Ivana</td>\n",
       "      <td>NaN</td>\n",
       "      <td>55.754508</td>\n",
       "      <td>37.605674</td>\n",
       "      <td>1999</td>\n",
       "      <td>23487800</td>\n",
       "      <td>Mozilla/5.0 (iPhone; CPU iPhone OS 14_4_2 like Mac OS X) AppleWebKit/605.1.15 (KHTML, like Gecko) yandex-taxi/600.33.1.129129 YandexEatsKit/1.17.28 Superapp/Eats</td>\n",
       "      <td>6/21/2021 16:40</td>\n",
       "    </tr>\n",
       "    <tr>\n",
       "      <th>499997</th>\n",
       "      <td>Ivana</td>\n",
       "      <td>NaN</td>\n",
       "      <td>55.754444</td>\n",
       "      <td>37.606268</td>\n",
       "      <td>1659</td>\n",
       "      <td>23487800</td>\n",
       "      <td>Mozilla/5.0 (iPhone; CPU iPhone OS 14_4_2 like Mac OS X) AppleWebKit/605.1.15 (KHTML, like Gecko) yandex-taxi/600.33.1.129129 YandexEatsKit/1.17.28 Superapp/Eats</td>\n",
       "      <td>6/29/2021 23:34</td>\n",
       "    </tr>\n",
       "    <tr>\n",
       "      <th>499998</th>\n",
       "      <td>Ivana</td>\n",
       "      <td>NaN</td>\n",
       "      <td>55.756741</td>\n",
       "      <td>37.605337</td>\n",
       "      <td>979</td>\n",
       "      <td>23487800</td>\n",
       "      <td>Mozilla/5.0 (iPhone; CPU iPhone OS 15_0_2 like Mac OS X) AppleWebKit/605.1.15 (KHTML, like Gecko) yandex-taxi/650.14.2.169973 YandexEatsKit/1.26.0 Superapp/Eats</td>\n",
       "      <td>11/2/2021 15:31</td>\n",
       "    </tr>\n",
       "    <tr>\n",
       "      <th>499999</th>\n",
       "      <td>Ivana</td>\n",
       "      <td>NaN</td>\n",
       "      <td>55.754662</td>\n",
       "      <td>37.606369</td>\n",
       "      <td>1208</td>\n",
       "      <td>307475568</td>\n",
       "      <td>Mozilla/5.0 (iPhone; CPU iPhone OS 15_1_1 like Mac OS X) AppleWebKit/605.1.15 (KHTML, like Gecko) yandex-taxi/650.22.2.187494 YandexEatsKit/1.26.0 Superapp/Eats</td>\n",
       "      <td>1/20/2022 18:37</td>\n",
       "    </tr>\n",
       "  </tbody>\n",
       "</table>\n",
       "<p>500000 rows × 8 columns</p>\n",
       "</div>"
      ],
      "text/plain": [
       "           first_name  \\\n",
       "0              Марина   \n",
       "1           Sergey B.   \n",
       "2          Елизавета    \n",
       "3       Жанна Мкртчян   \n",
       "4                 Яна   \n",
       "...               ...   \n",
       "499995         Сергей   \n",
       "499996          Ivana   \n",
       "499997          Ivana   \n",
       "499998         Ivana    \n",
       "499999          Ivana   \n",
       "\n",
       "                                                                                   address_comment  \\\n",
       "0                                                                                              NaN   \n",
       "1                                                                                              NaN   \n",
       "2                                                                                              NaN   \n",
       "3                                                                                              NaN   \n",
       "4       1573# код для входа во двор пешком, оставить заказ на крючке справа от двери (под звонком)   \n",
       "...                                                                                            ...   \n",
       "499995                                                                                         NaN   \n",
       "499996                                                                                         NaN   \n",
       "499997                                                                                         NaN   \n",
       "499998                                                                                         NaN   \n",
       "499999                                                                                         NaN   \n",
       "\n",
       "        location_latitude  location_longitude  Цена  id заказчика  \\\n",
       "0               55.817654           37.829648  1359     323129982   \n",
       "1               55.816030           37.808985     0     297849704   \n",
       "2               56.073574           37.365298   934     263040570   \n",
       "3               55.685777           37.544971  1104     304379733   \n",
       "4               55.736684           37.687120   485      50560339   \n",
       "...                   ...                 ...   ...           ...   \n",
       "499995          55.818918           37.658652   383      19509504   \n",
       "499996          55.754508           37.605674  1999      23487800   \n",
       "499997          55.754444           37.606268  1659      23487800   \n",
       "499998          55.756741           37.605337   979      23487800   \n",
       "499999          55.754662           37.606369  1208     307475568   \n",
       "\n",
       "                                                                                                                                                                                                                                                      user_agent  \\\n",
       "0                                                                                                                                                                                                                                        MagnitApp_Android/2.0.8   \n",
       "1                                                                                                                    Mozilla/5.0 (iPhone; CPU iPhone OS 14_7_1 like Mac OS X) AppleWebKit/605.1.15 (KHTML, like Gecko) Version/14.1.2 Mobile/15E148 Safari/604.1   \n",
       "2                                                                                               Mozilla/5.0 (iPhone; CPU iPhone OS 14_6 like Mac OS X) AppleWebKit/605.1.15 (KHTML, like Gecko) yandex-lavka/1.3.0.143889 YandexEatsKit/1.17.26 Lavka/Standalone   \n",
       "3                                                                                                                                                                                                                                                    ios(5.22.0)   \n",
       "4       Mozilla/5.0 (Linux; Android 10; M2010J19CG Build/QKQ1.200830.002; wv) AppleWebKit/537.36 (KHTML, like Gecko) Version/4.0 Chrome/89.0.4389.86 Mobile Safari/537.36 yandex-taxi/4.26.0.121851 Android/10 (Xiaomi; M2010J19CG) Superapp/Eats EatsKit/1.25.0   \n",
       "...                                                                                                                                                                                                                                                          ...   \n",
       "499995                                                                                          Mozilla/5.0 (iPhone; CPU iPhone OS 14_6 like Mac OS X) AppleWebKit/605.1.15 (KHTML, like Gecko) yandex-lavka/1.3.0.143889 YandexEatsKit/1.17.26 Lavka/Standalone   \n",
       "499996                                                                                         Mozilla/5.0 (iPhone; CPU iPhone OS 14_4_2 like Mac OS X) AppleWebKit/605.1.15 (KHTML, like Gecko) yandex-taxi/600.33.1.129129 YandexEatsKit/1.17.28 Superapp/Eats   \n",
       "499997                                                                                         Mozilla/5.0 (iPhone; CPU iPhone OS 14_4_2 like Mac OS X) AppleWebKit/605.1.15 (KHTML, like Gecko) yandex-taxi/600.33.1.129129 YandexEatsKit/1.17.28 Superapp/Eats   \n",
       "499998                                                                                          Mozilla/5.0 (iPhone; CPU iPhone OS 15_0_2 like Mac OS X) AppleWebKit/605.1.15 (KHTML, like Gecko) yandex-taxi/650.14.2.169973 YandexEatsKit/1.26.0 Superapp/Eats   \n",
       "499999                                                                                          Mozilla/5.0 (iPhone; CPU iPhone OS 15_1_1 like Mac OS X) AppleWebKit/605.1.15 (KHTML, like Gecko) yandex-taxi/650.22.2.187494 YandexEatsKit/1.26.0 Superapp/Eats   \n",
       "\n",
       "                    Дата  \n",
       "0       12/25/2021 22:00  \n",
       "1        9/30/2021 20:09  \n",
       "2        6/30/2021 20:43  \n",
       "3       10/24/2021 15:35  \n",
       "4        7/11/2021 10:39  \n",
       "...                  ...  \n",
       "499995    7/5/2021 16:26  \n",
       "499996   6/21/2021 16:40  \n",
       "499997   6/29/2021 23:34  \n",
       "499998   11/2/2021 15:31  \n",
       "499999   1/20/2022 18:37  \n",
       "\n",
       "[500000 rows x 8 columns]"
      ]
     },
     "execution_count": 174,
     "metadata": {},
     "output_type": "execute_result"
    }
   ],
   "source": [
    "df.rename(columns = {'address_city':'Город', \n",
    "                     'address_street':'Улица', \n",
    "                     'address_house':'Дом', \n",
    "                     'amount_charged':'Цена', \n",
    "                     'created_at':'Дата',\n",
    "                    'user_id':'id заказчика'}, inplace=True)\n",
    "df"
   ]
  },
  {
   "cell_type": "code",
   "execution_count": 175,
   "id": "99c5abc5",
   "metadata": {},
   "outputs": [],
   "source": [
    "df['location_latitude'] = df['location_latitude'].round(4)\n",
    "df['location_longitude'] = df['location_longitude'].round(4)"
   ]
  },
  {
   "cell_type": "code",
   "execution_count": 176,
   "id": "954b6f92",
   "metadata": {},
   "outputs": [],
   "source": [
    "df['Дата'] = pd.to_datetime(df['Дата'])"
   ]
  },
  {
   "cell_type": "code",
   "execution_count": 177,
   "id": "c62edc86",
   "metadata": {},
   "outputs": [],
   "source": [
    "df.set_index('id заказчика',  inplace = True)\n",
    "#df = df.reindex(columns=(['Дата'] +  list([a for a in df.columns if a !=  'Дата'] )))"
   ]
  },
  {
   "cell_type": "code",
   "execution_count": 178,
   "id": "54e2ace5",
   "metadata": {},
   "outputs": [],
   "source": [
    "df = df[['first_name',\n",
    "         'Дата',\n",
    "         'Цена',\n",
    "         'location_latitude',\n",
    "         'location_longitude',\n",
    "         'address_comment',\n",
    "         'user_agent']]"
   ]
  },
  {
   "cell_type": "code",
   "execution_count": 179,
   "id": "d6411f49",
   "metadata": {},
   "outputs": [
    {
     "name": "stdout",
     "output_type": "stream",
     "text": [
      "<class 'pandas.core.frame.DataFrame'>\n",
      "Int64Index: 500000 entries, 323129982 to 307475568\n",
      "Data columns (total 7 columns):\n",
      " #   Column              Non-Null Count   Dtype         \n",
      "---  ------              --------------   -----         \n",
      " 0   first_name          499811 non-null  object        \n",
      " 1   Дата                500000 non-null  datetime64[ns]\n",
      " 2   Цена                500000 non-null  int64         \n",
      " 3   location_latitude   500000 non-null  float64       \n",
      " 4   location_longitude  500000 non-null  float64       \n",
      " 5   address_comment     150078 non-null  object        \n",
      " 6   user_agent          500000 non-null  object        \n",
      "dtypes: datetime64[ns](1), float64(2), int64(1), object(3)\n",
      "memory usage: 30.5+ MB\n"
     ]
    }
   ],
   "source": [
    "df.info()"
   ]
  },
  {
   "cell_type": "markdown",
   "id": "61795069",
   "metadata": {},
   "source": [
    "### Вывод"
   ]
  },
  {
   "cell_type": "markdown",
   "id": "52330914",
   "metadata": {},
   "source": [
    "В итоге получилась таблица, которая содержит 500000 строк и 8 колонок с подходящими типами данных, в том числе неполные колонки `first_name` и `address_comment`. Для удобства отредактировал названия столбцов и изменил их очередность:\n",
    "* `index` - уникальное id заказчика;\n",
    "* `first_name ` - имя заказчика;\n",
    "* `Дата` - дата заказа;\n",
    "* `Цена` - стоимость заказа;\n",
    "* `location_latitude` - координата широты адреса заказа;\n",
    "* `location_longitude` - координата долготы адреса заказа;\n",
    "* `address_comment` - комментарий курьеру или ресторану;\n",
    "* `user_agent` - устройство с которого был сделан заказ."
   ]
  },
  {
   "cell_type": "markdown",
   "id": "f1f54dbc",
   "metadata": {},
   "source": [
    "# Анализ"
   ]
  },
  {
   "cell_type": "markdown",
   "id": "823f1101",
   "metadata": {},
   "source": [
    "Нам предстоит рассмотреть и ответить на вопросы, связанные с ценой, как она меняется от времени заказа, от пола заказчика, от устройства, какие места Москвы лидирует по количеству заказов, какой процент отмены заказов."
   ]
  },
  {
   "cell_type": "markdown",
   "id": "af054f47",
   "metadata": {},
   "source": [
    "## Цена"
   ]
  },
  {
   "cell_type": "markdown",
   "id": "f0549b18",
   "metadata": {},
   "source": [
    "Первое самое интересное это цена заказа."
   ]
  },
  {
   "cell_type": "code",
   "execution_count": 180,
   "id": "b469b7aa",
   "metadata": {
    "scrolled": true
   },
   "outputs": [
    {
     "data": {
      "text/html": [
       "<div>\n",
       "<style scoped>\n",
       "    .dataframe tbody tr th:only-of-type {\n",
       "        vertical-align: middle;\n",
       "    }\n",
       "\n",
       "    .dataframe tbody tr th {\n",
       "        vertical-align: top;\n",
       "    }\n",
       "\n",
       "    .dataframe thead th {\n",
       "        text-align: right;\n",
       "    }\n",
       "</style>\n",
       "<table border=\"1\" class=\"dataframe\">\n",
       "  <thead>\n",
       "    <tr style=\"text-align: right;\">\n",
       "      <th></th>\n",
       "      <th>first_name</th>\n",
       "      <th>Дата</th>\n",
       "      <th>Цена</th>\n",
       "      <th>location_latitude</th>\n",
       "      <th>location_longitude</th>\n",
       "      <th>address_comment</th>\n",
       "      <th>user_agent</th>\n",
       "    </tr>\n",
       "    <tr>\n",
       "      <th>id заказчика</th>\n",
       "      <th></th>\n",
       "      <th></th>\n",
       "      <th></th>\n",
       "      <th></th>\n",
       "      <th></th>\n",
       "      <th></th>\n",
       "      <th></th>\n",
       "    </tr>\n",
       "  </thead>\n",
       "  <tbody>\n",
       "    <tr>\n",
       "      <th>477429</th>\n",
       "      <td>лев</td>\n",
       "      <td>2021-11-06 13:47:00</td>\n",
       "      <td>65929</td>\n",
       "      <td>55.7364</td>\n",
       "      <td>37.5990</td>\n",
       "      <td>NaN</td>\n",
       "      <td>ios(5.23.1)</td>\n",
       "    </tr>\n",
       "    <tr>\n",
       "      <th>293469517</th>\n",
       "      <td>Иосиф</td>\n",
       "      <td>2021-11-06 21:58:00</td>\n",
       "      <td>50349</td>\n",
       "      <td>55.7587</td>\n",
       "      <td>37.6404</td>\n",
       "      <td>NaN</td>\n",
       "      <td>Mozilla/5.0 (Linux; Android 11; SM-A715F Build/RP1A.200720.012; wv) AppleWebKit/537.36 (KHTML, like Gecko) Version/4.0 Chrome/95.0.4638.74 Mobile Safari/537.36 yandex-taxi/4.59.0.122125 Android/11 (samsung; SM-A715F) Superapp/Eats EatsKit/3.5.0</td>\n",
       "    </tr>\n",
       "    <tr>\n",
       "      <th>21806664</th>\n",
       "      <td>Элла</td>\n",
       "      <td>2021-09-12 16:21:00</td>\n",
       "      <td>49990</td>\n",
       "      <td>55.8964</td>\n",
       "      <td>37.5211</td>\n",
       "      <td>Склад «Деловые линии», ориентир ворота 11</td>\n",
       "      <td>ios(5.19.1)</td>\n",
       "    </tr>\n",
       "    <tr>\n",
       "      <th>293469517</th>\n",
       "      <td>Иосиф</td>\n",
       "      <td>2021-11-05 21:03:00</td>\n",
       "      <td>49224</td>\n",
       "      <td>55.7751</td>\n",
       "      <td>37.5500</td>\n",
       "      <td>Звонить +79952623110 !!!</td>\n",
       "      <td>Mozilla/5.0 (iPad; CPU OS 14_6 like Mac OS X) AppleWebKit/605.1.15 (KHTML, like Gecko) yandex-taxi/650.14.2.169973 YandexEatsKit/1.26.0 Superapp/Eats</td>\n",
       "    </tr>\n",
       "    <tr>\n",
       "      <th>293469517</th>\n",
       "      <td>Иосиф</td>\n",
       "      <td>2021-10-29 17:13:00</td>\n",
       "      <td>45939</td>\n",
       "      <td>55.7471</td>\n",
       "      <td>37.5834</td>\n",
       "      <td>+79952623110 - номер для связи</td>\n",
       "      <td>Mozilla/5.0 (iPad; CPU OS 14_6 like Mac OS X) AppleWebKit/605.1.15 (KHTML, like Gecko) yandex-taxi/650.14.2.169973 YandexEatsKit/1.26.0 Superapp/Eats</td>\n",
       "    </tr>\n",
       "    <tr>\n",
       "      <th>...</th>\n",
       "      <td>...</td>\n",
       "      <td>...</td>\n",
       "      <td>...</td>\n",
       "      <td>...</td>\n",
       "      <td>...</td>\n",
       "      <td>...</td>\n",
       "      <td>...</td>\n",
       "    </tr>\n",
       "    <tr>\n",
       "      <th>313927183</th>\n",
       "      <td>Игорь Цой</td>\n",
       "      <td>2021-11-25 13:19:00</td>\n",
       "      <td>0</td>\n",
       "      <td>55.8104</td>\n",
       "      <td>37.5937</td>\n",
       "      <td>NaN</td>\n",
       "      <td>android (2.60.1)</td>\n",
       "    </tr>\n",
       "    <tr>\n",
       "      <th>6593751</th>\n",
       "      <td>константин</td>\n",
       "      <td>2021-06-30 20:29:00</td>\n",
       "      <td>0</td>\n",
       "      <td>55.8606</td>\n",
       "      <td>37.5929</td>\n",
       "      <td>NaN</td>\n",
       "      <td>Mozilla/5.0 (iPhone; CPU iPhone OS 14_6 like Mac OS X) AppleWebKit/605.1.15 (KHTML, like Gecko) yandex-lavka/1.3.0.143889 YandexEatsKit/1.17.26 Lavka/Standalone</td>\n",
       "    </tr>\n",
       "    <tr>\n",
       "      <th>1894879</th>\n",
       "      <td>Роман Арюков</td>\n",
       "      <td>2021-12-12 02:24:00</td>\n",
       "      <td>0</td>\n",
       "      <td>55.7829</td>\n",
       "      <td>37.5804</td>\n",
       "      <td>NaN</td>\n",
       "      <td>ios(5.27.0)</td>\n",
       "    </tr>\n",
       "    <tr>\n",
       "      <th>286412866</th>\n",
       "      <td>Софья Исаева</td>\n",
       "      <td>2021-11-04 00:45:00</td>\n",
       "      <td>0</td>\n",
       "      <td>55.7751</td>\n",
       "      <td>37.4645</td>\n",
       "      <td>NaN</td>\n",
       "      <td>ios(5.23.1)</td>\n",
       "    </tr>\n",
       "    <tr>\n",
       "      <th>275441251</th>\n",
       "      <td>Денис Н</td>\n",
       "      <td>2021-07-01 15:32:00</td>\n",
       "      <td>0</td>\n",
       "      <td>55.8574</td>\n",
       "      <td>37.0015</td>\n",
       "      <td>NaN</td>\n",
       "      <td>Mozilla/5.0 (Linux; Android 10; SM-A715F Build/QP1A.190711.020; wv) AppleWebKit/537.36 (KHTML, like Gecko) Version/4.0 Chrome/91.0.4472.134 Mobile Safari/537.36 EatsApp_Android/2.48.0 EatsKit/1.25.0</td>\n",
       "    </tr>\n",
       "  </tbody>\n",
       "</table>\n",
       "<p>500000 rows × 7 columns</p>\n",
       "</div>"
      ],
      "text/plain": [
       "                first_name                Дата   Цена  location_latitude  \\\n",
       "id заказчика                                                               \n",
       "477429                 лев 2021-11-06 13:47:00  65929            55.7364   \n",
       "293469517           Иосиф  2021-11-06 21:58:00  50349            55.7587   \n",
       "21806664              Элла 2021-09-12 16:21:00  49990            55.8964   \n",
       "293469517            Иосиф 2021-11-05 21:03:00  49224            55.7751   \n",
       "293469517            Иосиф 2021-10-29 17:13:00  45939            55.7471   \n",
       "...                    ...                 ...    ...                ...   \n",
       "313927183        Игорь Цой 2021-11-25 13:19:00      0            55.8104   \n",
       "6593751         константин 2021-06-30 20:29:00      0            55.8606   \n",
       "1894879       Роман Арюков 2021-12-12 02:24:00      0            55.7829   \n",
       "286412866     Софья Исаева 2021-11-04 00:45:00      0            55.7751   \n",
       "275441251          Денис Н 2021-07-01 15:32:00      0            55.8574   \n",
       "\n",
       "              location_longitude                            address_comment  \\\n",
       "id заказчика                                                                  \n",
       "477429                   37.5990                                        NaN   \n",
       "293469517                37.6404                                        NaN   \n",
       "21806664                 37.5211  Склад «Деловые линии», ориентир ворота 11   \n",
       "293469517                37.5500                   Звонить +79952623110 !!!   \n",
       "293469517                37.5834             +79952623110 - номер для связи   \n",
       "...                          ...                                        ...   \n",
       "313927183                37.5937                                        NaN   \n",
       "6593751                  37.5929                                        NaN   \n",
       "1894879                  37.5804                                        NaN   \n",
       "286412866                37.4645                                        NaN   \n",
       "275441251                37.0015                                        NaN   \n",
       "\n",
       "                                                                                                                                                                                                                                                        user_agent  \n",
       "id заказчика                                                                                                                                                                                                                                                        \n",
       "477429                                                                                                                                                                                                                                                 ios(5.23.1)  \n",
       "293469517     Mozilla/5.0 (Linux; Android 11; SM-A715F Build/RP1A.200720.012; wv) AppleWebKit/537.36 (KHTML, like Gecko) Version/4.0 Chrome/95.0.4638.74 Mobile Safari/537.36 yandex-taxi/4.59.0.122125 Android/11 (samsung; SM-A715F) Superapp/Eats EatsKit/3.5.0  \n",
       "21806664                                                                                                                                                                                                                                               ios(5.19.1)  \n",
       "293469517                                                                                                    Mozilla/5.0 (iPad; CPU OS 14_6 like Mac OS X) AppleWebKit/605.1.15 (KHTML, like Gecko) yandex-taxi/650.14.2.169973 YandexEatsKit/1.26.0 Superapp/Eats  \n",
       "293469517                                                                                                    Mozilla/5.0 (iPad; CPU OS 14_6 like Mac OS X) AppleWebKit/605.1.15 (KHTML, like Gecko) yandex-taxi/650.14.2.169973 YandexEatsKit/1.26.0 Superapp/Eats  \n",
       "...                                                                                                                                                                                                                                                            ...  \n",
       "313927183                                                                                                                                                                                                                                         android (2.60.1)  \n",
       "6593751                                                                                           Mozilla/5.0 (iPhone; CPU iPhone OS 14_6 like Mac OS X) AppleWebKit/605.1.15 (KHTML, like Gecko) yandex-lavka/1.3.0.143889 YandexEatsKit/1.17.26 Lavka/Standalone  \n",
       "1894879                                                                                                                                                                                                                                                ios(5.27.0)  \n",
       "286412866                                                                                                                                                                                                                                              ios(5.23.1)  \n",
       "275441251                                                   Mozilla/5.0 (Linux; Android 10; SM-A715F Build/QP1A.190711.020; wv) AppleWebKit/537.36 (KHTML, like Gecko) Version/4.0 Chrome/91.0.4472.134 Mobile Safari/537.36 EatsApp_Android/2.48.0 EatsKit/1.25.0  \n",
       "\n",
       "[500000 rows x 7 columns]"
      ]
     },
     "execution_count": 180,
     "metadata": {},
     "output_type": "execute_result"
    }
   ],
   "source": [
    "df.sort_values(by = ['Цена'], ascending = False)"
   ]
  },
  {
   "cell_type": "markdown",
   "id": "ee7ef438",
   "metadata": {},
   "source": [
    "Отсортируем данные по убываю и видим, что максимальная стоимость заказа была 65929 рублей. Но также замечаем много 0 в стоимости."
   ]
  },
  {
   "cell_type": "code",
   "execution_count": 181,
   "id": "03dcd63c",
   "metadata": {},
   "outputs": [
    {
     "data": {
      "text/plain": [
       "<AxesSubplot:ylabel='None'>"
      ]
     },
     "execution_count": 181,
     "metadata": {},
     "output_type": "execute_result"
    },
    {
     "data": {
      "image/png": "[encoded data removed]",
      "text/plain": [
       "<Figure size 2160x2160 with 1 Axes>"
      ]
     },
     "metadata": {},
     "output_type": "display_data"
    }
   ],
   "source": [
    "pd.Series(np.where(df['Цена']==0,'нулевой заказ','не нулевой')).value_counts().plot.pie(autopct='%1.1f%%', startangle=270, fontsize=17)"
   ]
  },
  {
   "cell_type": "markdown",
   "id": "53085079",
   "metadata": {},
   "source": [
    "Почти 15% заказов стоит 0. Что это значит? Либо эти заказы были отменены, либо за них заплатили наличными. Но давайте выясним. "
   ]
  },
  {
   "cell_type": "code",
   "execution_count": 182,
   "id": "ea2fcc57",
   "metadata": {},
   "outputs": [
    {
     "data": {
      "text/html": [
       "<div>\n",
       "<style scoped>\n",
       "    .dataframe tbody tr th:only-of-type {\n",
       "        vertical-align: middle;\n",
       "    }\n",
       "\n",
       "    .dataframe tbody tr th {\n",
       "        vertical-align: top;\n",
       "    }\n",
       "\n",
       "    .dataframe thead th {\n",
       "        text-align: right;\n",
       "    }\n",
       "</style>\n",
       "<table border=\"1\" class=\"dataframe\">\n",
       "  <thead>\n",
       "    <tr style=\"text-align: right;\">\n",
       "      <th></th>\n",
       "      <th>len</th>\n",
       "      <th>mean</th>\n",
       "      <th>sum</th>\n",
       "    </tr>\n",
       "    <tr>\n",
       "      <th>id заказчика</th>\n",
       "      <th></th>\n",
       "      <th></th>\n",
       "      <th></th>\n",
       "    </tr>\n",
       "  </thead>\n",
       "  <tbody>\n",
       "    <tr>\n",
       "      <th>141</th>\n",
       "      <td>1</td>\n",
       "      <td>0.0</td>\n",
       "      <td>0</td>\n",
       "    </tr>\n",
       "    <tr>\n",
       "      <th>256260959</th>\n",
       "      <td>1</td>\n",
       "      <td>0.0</td>\n",
       "      <td>0</td>\n",
       "    </tr>\n",
       "    <tr>\n",
       "      <th>256268574</th>\n",
       "      <td>1</td>\n",
       "      <td>0.0</td>\n",
       "      <td>0</td>\n",
       "    </tr>\n",
       "    <tr>\n",
       "      <th>256271049</th>\n",
       "      <td>1</td>\n",
       "      <td>0.0</td>\n",
       "      <td>0</td>\n",
       "    </tr>\n",
       "    <tr>\n",
       "      <th>256272579</th>\n",
       "      <td>1</td>\n",
       "      <td>0.0</td>\n",
       "      <td>0</td>\n",
       "    </tr>\n",
       "    <tr>\n",
       "      <th>...</th>\n",
       "      <td>...</td>\n",
       "      <td>...</td>\n",
       "      <td>...</td>\n",
       "    </tr>\n",
       "    <tr>\n",
       "      <th>183899923</th>\n",
       "      <td>15</td>\n",
       "      <td>0.0</td>\n",
       "      <td>0</td>\n",
       "    </tr>\n",
       "    <tr>\n",
       "      <th>68944630</th>\n",
       "      <td>19</td>\n",
       "      <td>0.0</td>\n",
       "      <td>0</td>\n",
       "    </tr>\n",
       "    <tr>\n",
       "      <th>294986146</th>\n",
       "      <td>19</td>\n",
       "      <td>0.0</td>\n",
       "      <td>0</td>\n",
       "    </tr>\n",
       "    <tr>\n",
       "      <th>229472140</th>\n",
       "      <td>21</td>\n",
       "      <td>0.0</td>\n",
       "      <td>0</td>\n",
       "    </tr>\n",
       "    <tr>\n",
       "      <th>84846150</th>\n",
       "      <td>23</td>\n",
       "      <td>0.0</td>\n",
       "      <td>0</td>\n",
       "    </tr>\n",
       "  </tbody>\n",
       "</table>\n",
       "<p>68384 rows × 3 columns</p>\n",
       "</div>"
      ],
      "text/plain": [
       "              len  mean  sum\n",
       "id заказчика                \n",
       "141             1   0.0    0\n",
       "256260959       1   0.0    0\n",
       "256268574       1   0.0    0\n",
       "256271049       1   0.0    0\n",
       "256272579       1   0.0    0\n",
       "...           ...   ...  ...\n",
       "183899923      15   0.0    0\n",
       "68944630       19   0.0    0\n",
       "294986146      19   0.0    0\n",
       "229472140      21   0.0    0\n",
       "84846150       23   0.0    0\n",
       "\n",
       "[68384 rows x 3 columns]"
      ]
     },
     "execution_count": 182,
     "metadata": {},
     "output_type": "execute_result"
    }
   ],
   "source": [
    "pd.pivot_table(df[df['Цена'] == 0], values = 'Цена',\n",
    "               index = 'id заказчика',\n",
    "               aggfunc=(len,sum, 'mean')).sort_values(by = ['len'])"
   ]
  },
  {
   "cell_type": "code",
   "execution_count": 183,
   "id": "75640e03",
   "metadata": {},
   "outputs": [
    {
     "data": {
      "text/html": [
       "<div>\n",
       "<style scoped>\n",
       "    .dataframe tbody tr th:only-of-type {\n",
       "        vertical-align: middle;\n",
       "    }\n",
       "\n",
       "    .dataframe tbody tr th {\n",
       "        vertical-align: top;\n",
       "    }\n",
       "\n",
       "    .dataframe thead th {\n",
       "        text-align: right;\n",
       "    }\n",
       "</style>\n",
       "<table border=\"1\" class=\"dataframe\">\n",
       "  <thead>\n",
       "    <tr style=\"text-align: right;\">\n",
       "      <th></th>\n",
       "      <th>first_name</th>\n",
       "      <th>Дата</th>\n",
       "      <th>Цена</th>\n",
       "      <th>location_latitude</th>\n",
       "      <th>location_longitude</th>\n",
       "      <th>address_comment</th>\n",
       "      <th>user_agent</th>\n",
       "    </tr>\n",
       "    <tr>\n",
       "      <th>id заказчика</th>\n",
       "      <th></th>\n",
       "      <th></th>\n",
       "      <th></th>\n",
       "      <th></th>\n",
       "      <th></th>\n",
       "      <th></th>\n",
       "      <th></th>\n",
       "    </tr>\n",
       "  </thead>\n",
       "  <tbody>\n",
       "    <tr>\n",
       "      <th>294986146</th>\n",
       "      <td>Екатерина Утюпина</td>\n",
       "      <td>2021-11-23 14:51:00</td>\n",
       "      <td>0</td>\n",
       "      <td>55.7956</td>\n",
       "      <td>37.5411</td>\n",
       "      <td>ТЕСТОВЫЙ ЗАКАЗ, НЕ ГОТОВИТЬ И НЕ ПРОБИВАТЬ, ЗАКАЗ ПОЗЖЕ БУДЕТ ОТМЕНЕН</td>\n",
       "      <td>Mozilla/5.0 (Windows NT 10.0; Win64; x64) AppleWebKit/537.36 (KHTML, like Gecko) Chrome/94.0.4606.85 YaBrowser/21.11.0.1996 Yowser/2.5 Safari/537.36</td>\n",
       "    </tr>\n",
       "    <tr>\n",
       "      <th>294986146</th>\n",
       "      <td>Екатерина Утюпина</td>\n",
       "      <td>2021-12-23 15:28:00</td>\n",
       "      <td>0</td>\n",
       "      <td>55.5807</td>\n",
       "      <td>37.6517</td>\n",
       "      <td>ТЕСТОВЫЙ ЗАКАЗ, НЕ ГОТОВИТЬ И НЕ ПРОБИВАТЬ, ЗАКАЗ ПОЗЖЕ БУДЕТ ОТМЕНЕН</td>\n",
       "      <td>Mozilla/5.0 (Windows NT 10.0; Win64; x64) AppleWebKit/537.36 (KHTML, like Gecko) Chrome/94.0.4606.85 YaBrowser/21.11.3.927 Yowser/2.5 Safari/537.36</td>\n",
       "    </tr>\n",
       "    <tr>\n",
       "      <th>294986146</th>\n",
       "      <td>Екатерина Утюпина</td>\n",
       "      <td>2021-11-29 14:10:00</td>\n",
       "      <td>0</td>\n",
       "      <td>55.6459</td>\n",
       "      <td>37.5265</td>\n",
       "      <td>ТЕСТОВЫЙ ЗАКАЗ, НЕ ГОТОВИТЬ И НЕ ПРОБИВАТЬ, ЗАКАЗ ПОЗЖЕ БУДЕТ ОТМЕНЕН</td>\n",
       "      <td>Mozilla/5.0 (Windows NT 10.0; Win64; x64) AppleWebKit/537.36 (KHTML, like Gecko) Chrome/94.0.4606.85 YaBrowser/21.11.1.932 Yowser/2.5 Safari/537.36</td>\n",
       "    </tr>\n",
       "    <tr>\n",
       "      <th>294986146</th>\n",
       "      <td>Екатерина Утюпина</td>\n",
       "      <td>2021-12-29 15:36:00</td>\n",
       "      <td>0</td>\n",
       "      <td>55.6287</td>\n",
       "      <td>37.7407</td>\n",
       "      <td>ТЕСТОВЫЙ ЗАКАЗ, НЕ ГОТОВИТЬ И НЕ ПРОБИВАТЬ, ЗАКАЗ ПОЗЖЕ БУДЕТ ОТМЕНЕН</td>\n",
       "      <td>Mozilla/5.0 (Windows NT 10.0; Win64; x64) AppleWebKit/537.36 (KHTML, like Gecko) Chrome/94.0.4606.85 YaBrowser/21.11.4.727 Yowser/2.5 Safari/537.36</td>\n",
       "    </tr>\n",
       "    <tr>\n",
       "      <th>294986146</th>\n",
       "      <td>Екатерина Утюпина</td>\n",
       "      <td>2021-11-03 20:19:00</td>\n",
       "      <td>0</td>\n",
       "      <td>55.7101</td>\n",
       "      <td>37.6546</td>\n",
       "      <td>ТЕСТОВЫЙ ЗАКАЗ, НЕ ГОТОВИТЬ И НЕ ПРОБИВАТЬ, ЗАКАЗ ПОЗЖЕ БУДЕТ ОТМЕНЕН</td>\n",
       "      <td>Mozilla/5.0 (Windows NT 10.0; Win64; x64) AppleWebKit/537.36 (KHTML, like Gecko) Chrome/93.0.4577.82 YaBrowser/21.9.2.169 Yowser/2.5 Safari/537.36</td>\n",
       "    </tr>\n",
       "    <tr>\n",
       "      <th>294986146</th>\n",
       "      <td>Екатерина Утюпина</td>\n",
       "      <td>2021-11-23 18:25:00</td>\n",
       "      <td>0</td>\n",
       "      <td>55.7584</td>\n",
       "      <td>37.5492</td>\n",
       "      <td>ТЕСТОВЫЙ ЗАКАЗ, НЕ ГОТОВИТЬ И НЕ ПРОБИВАТЬ, ЗАКАЗ ПОЗЖЕ БУДЕТ ОТМЕНЕН</td>\n",
       "      <td>Mozilla/5.0 (Windows NT 10.0; Win64; x64) AppleWebKit/537.36 (KHTML, like Gecko) Chrome/94.0.4606.85 YaBrowser/21.11.0.1996 Yowser/2.5 Safari/537.36</td>\n",
       "    </tr>\n",
       "    <tr>\n",
       "      <th>294986146</th>\n",
       "      <td>Екатерина Утюпина</td>\n",
       "      <td>2021-11-04 14:39:00</td>\n",
       "      <td>0</td>\n",
       "      <td>55.7574</td>\n",
       "      <td>37.6337</td>\n",
       "      <td>ТЕСТОВЫЙ ЗАКАЗ, НЕ ГОТОВИТЬ И НЕ ПРОБИВАТЬ, ЗАКАЗ ПОЗЖЕ БУДЕТ ОТМЕНЕН</td>\n",
       "      <td>Mozilla/5.0 (Windows NT 10.0; Win64; x64) AppleWebKit/537.36 (KHTML, like Gecko) Chrome/93.0.4577.82 YaBrowser/21.9.2.169 Yowser/2.5 Safari/537.36</td>\n",
       "    </tr>\n",
       "    <tr>\n",
       "      <th>294986146</th>\n",
       "      <td>Екатерина Утюпина</td>\n",
       "      <td>2021-10-05 19:54:00</td>\n",
       "      <td>0</td>\n",
       "      <td>55.6843</td>\n",
       "      <td>37.5501</td>\n",
       "      <td>ТЕСТОВЫЙ ЗАКАЗ, НЕ ГОТОВИТЬ И НЕ ПРОБИВАТЬ, ЗАКАЗ ПОЗЖЕ БУДЕТ ОТМЕНЕН</td>\n",
       "      <td>Mozilla/5.0 (Windows NT 10.0; Win64; x64) AppleWebKit/537.36 (KHTML, like Gecko) Chrome/92.0.4515.159 YaBrowser/21.8.3.614 Yowser/2.5 Safari/537.36</td>\n",
       "    </tr>\n",
       "    <tr>\n",
       "      <th>294986146</th>\n",
       "      <td>Екатерина Утюпина</td>\n",
       "      <td>2021-10-19 15:56:00</td>\n",
       "      <td>0</td>\n",
       "      <td>55.8239</td>\n",
       "      <td>37.4972</td>\n",
       "      <td>ТЕСТОВЫЙ ЗАКАЗ, НЕ ГОТОВИТЬ И НЕ ПРОБИВАТЬ, ЗАКАЗ ПОЗЖЕ БУДЕТ ОТМЕНЕН</td>\n",
       "      <td>Mozilla/5.0 (Windows NT 10.0; Win64; x64) AppleWebKit/537.36 (KHTML, like Gecko) Chrome/93.0.4577.82 YaBrowser/21.9.0.1044 Yowser/2.5 Safari/537.36</td>\n",
       "    </tr>\n",
       "    <tr>\n",
       "      <th>294986146</th>\n",
       "      <td>Екатерина Утюпина</td>\n",
       "      <td>2021-10-29 17:44:00</td>\n",
       "      <td>0</td>\n",
       "      <td>55.7871</td>\n",
       "      <td>37.6772</td>\n",
       "      <td>ТЕСТОВЫЙ ЗАКАЗ, НЕ ГОТОВИТЬ И НЕ ПРОБИВАТЬ, ЗАКАЗ ПОЗЖЕ БУДЕТ ОТМЕНЕН</td>\n",
       "      <td>Mozilla/5.0 (Windows NT 10.0; Win64; x64) AppleWebKit/537.36 (KHTML, like Gecko) Chrome/93.0.4577.82 YaBrowser/21.9.2.169 Yowser/2.5 Safari/537.36</td>\n",
       "    </tr>\n",
       "    <tr>\n",
       "      <th>294986146</th>\n",
       "      <td>Екатерина Утюпина</td>\n",
       "      <td>2021-11-18 20:31:00</td>\n",
       "      <td>0</td>\n",
       "      <td>55.7138</td>\n",
       "      <td>37.5712</td>\n",
       "      <td>ТЕСТОВЫЙ ЗАКАЗ, НЕ ГОТОВИТЬ И НЕ ПРОБИВАТЬ, ЗАКАЗ ПОЗЖЕ БУДЕТ ОТМЕНЕН</td>\n",
       "      <td>Mozilla/5.0 (Windows NT 10.0; Win64; x64) AppleWebKit/537.36 (KHTML, like Gecko) Chrome/94.0.4606.85 YaBrowser/21.11.0.1996 Yowser/2.5 Safari/537.36</td>\n",
       "    </tr>\n",
       "    <tr>\n",
       "      <th>294986146</th>\n",
       "      <td>Екатерина Утюпина</td>\n",
       "      <td>2021-10-07 11:22:00</td>\n",
       "      <td>0</td>\n",
       "      <td>55.7619</td>\n",
       "      <td>37.6453</td>\n",
       "      <td>NaN</td>\n",
       "      <td>Mozilla/5.0 (Windows NT 10.0; Win64; x64) AppleWebKit/537.36 (KHTML, like Gecko) Chrome/93.0.4577.82 YaBrowser/21.9.0.1044 Yowser/2.5 Safari/537.36</td>\n",
       "    </tr>\n",
       "    <tr>\n",
       "      <th>294986146</th>\n",
       "      <td>Екатерина Утюпина</td>\n",
       "      <td>2021-11-16 13:05:00</td>\n",
       "      <td>0</td>\n",
       "      <td>55.7035</td>\n",
       "      <td>37.5110</td>\n",
       "      <td>ТЕСТОВЫЙ ЗАКАЗ, НЕ ГОТОВИТЬ И НЕ ПРОБИВАТЬ, ЗАКАЗ ПОЗЖЕ БУДЕТ ОТМЕНЕН</td>\n",
       "      <td>Mozilla/5.0 (Windows NT 10.0; Win64; x64) AppleWebKit/537.36 (KHTML, like Gecko) Chrome/94.0.4606.85 YaBrowser/21.11.0.1996 Yowser/2.5 Safari/537.36</td>\n",
       "    </tr>\n",
       "    <tr>\n",
       "      <th>294986146</th>\n",
       "      <td>Екатерина Утюпина</td>\n",
       "      <td>2021-10-06 17:17:00</td>\n",
       "      <td>0</td>\n",
       "      <td>55.6714</td>\n",
       "      <td>37.5859</td>\n",
       "      <td>ТЕСТОВЫЙ ЗАКАЗ, НЕ ГОТОВИТЬ И НЕ ПРОБИВАТЬ, ЗАКАЗ ПОЗЖЕ БУДЕТ ОТМЕНЕН</td>\n",
       "      <td>Mozilla/5.0 (Windows NT 10.0; Win64; x64) AppleWebKit/537.36 (KHTML, like Gecko) Chrome/93.0.4577.82 YaBrowser/21.9.0.1044 Yowser/2.5 Safari/537.36</td>\n",
       "    </tr>\n",
       "    <tr>\n",
       "      <th>294986146</th>\n",
       "      <td>Екатерина Утюпина</td>\n",
       "      <td>2021-12-24 14:06:00</td>\n",
       "      <td>0</td>\n",
       "      <td>55.6514</td>\n",
       "      <td>37.6124</td>\n",
       "      <td>ТЕСТОВЫЙ ЗАКАЗ, НЕ ГОТОВИТЬ И НЕ ПРОБИВАТЬ, ЗАКАЗ ПОЗЖЕ БУДЕТ ОТМЕНЕН</td>\n",
       "      <td>Mozilla/5.0 (Windows NT 10.0; Win64; x64) AppleWebKit/537.36 (KHTML, like Gecko) Chrome/94.0.4606.85 YaBrowser/21.11.3.927 Yowser/2.5 Safari/537.36</td>\n",
       "    </tr>\n",
       "    <tr>\n",
       "      <th>294986146</th>\n",
       "      <td>Екатерина Утюпина</td>\n",
       "      <td>2021-10-22 18:14:00</td>\n",
       "      <td>0</td>\n",
       "      <td>55.8834</td>\n",
       "      <td>37.5585</td>\n",
       "      <td>ТЕСТОВЫЙ ЗАКАЗ, НЕ ГОТОВИТЬ И НЕ ПРОБИВАТЬ, ЗАКАЗ ПОЗЖЕ БУДЕТ ОТМЕНЕН</td>\n",
       "      <td>Mozilla/5.0 (Windows NT 10.0; Win64; x64) AppleWebKit/537.36 (KHTML, like Gecko) Chrome/93.0.4577.82 YaBrowser/21.9.1.684 Yowser/2.5 Safari/537.36</td>\n",
       "    </tr>\n",
       "    <tr>\n",
       "      <th>294986146</th>\n",
       "      <td>Екатерина Утюпина</td>\n",
       "      <td>2021-11-24 13:15:00</td>\n",
       "      <td>0</td>\n",
       "      <td>55.6791</td>\n",
       "      <td>37.6953</td>\n",
       "      <td>ТЕСТОВЫЙ ЗАКАЗ, НЕ ГОТОВИТЬ И НЕ ПРОБИВАТЬ, ЗАКАЗ ПОЗЖЕ БУДЕТ ОТМЕНЕН</td>\n",
       "      <td>Mozilla/5.0 (Windows NT 10.0; Win64; x64) AppleWebKit/537.36 (KHTML, like Gecko) Chrome/94.0.4606.85 YaBrowser/21.11.0.1996 Yowser/2.5 Safari/537.36</td>\n",
       "    </tr>\n",
       "    <tr>\n",
       "      <th>294986146</th>\n",
       "      <td>Екатерина Утюпина</td>\n",
       "      <td>2021-10-29 18:17:00</td>\n",
       "      <td>0</td>\n",
       "      <td>55.7437</td>\n",
       "      <td>37.7722</td>\n",
       "      <td>ТЕСТОВЫЙ ЗАКАЗ, НЕ ГОТОВИТЬ И НЕ ПРОБИВАТЬ, ЗАКАЗ ПОЗЖЕ БУДЕТ ОТМЕНЕН</td>\n",
       "      <td>Mozilla/5.0 (Windows NT 10.0; Win64; x64) AppleWebKit/537.36 (KHTML, like Gecko) Chrome/93.0.4577.82 YaBrowser/21.9.2.169 Yowser/2.5 Safari/537.36</td>\n",
       "    </tr>\n",
       "    <tr>\n",
       "      <th>294986146</th>\n",
       "      <td>Екатерина Утюпина</td>\n",
       "      <td>2021-10-04 17:14:00</td>\n",
       "      <td>0</td>\n",
       "      <td>55.7586</td>\n",
       "      <td>37.6394</td>\n",
       "      <td>ТЕСТОВЫЙ ЗАКАЗ, НЕ ГОТОВИТЬ И НЕ ПРОБИВАТЬ, ЗАКАЗ ПОЗЖЕ БУДЕТ ОТМЕНЕН</td>\n",
       "      <td>Mozilla/5.0 (Windows NT 10.0; Win64; x64) AppleWebKit/537.36 (KHTML, like Gecko) Chrome/92.0.4515.159 YaBrowser/21.8.3.614 Yowser/2.5 Safari/537.36</td>\n",
       "    </tr>\n",
       "    <tr>\n",
       "      <th>84846150</th>\n",
       "      <td>Дарья</td>\n",
       "      <td>2021-11-01 14:47:00</td>\n",
       "      <td>0</td>\n",
       "      <td>55.7697</td>\n",
       "      <td>37.6254</td>\n",
       "      <td>ТЕСТОВЫЙ ЗАКАЗ, НЕ ГОТОВИТЬ И НЕ ПРОБИВАТЬ, ЗАКАЗ ПОЗЖЕ БУДЕТ ОТМЕНЕН!</td>\n",
       "      <td>android (2.58.0)</td>\n",
       "    </tr>\n",
       "    <tr>\n",
       "      <th>84846150</th>\n",
       "      <td>Дарья</td>\n",
       "      <td>2021-10-25 18:06:00</td>\n",
       "      <td>0</td>\n",
       "      <td>55.8550</td>\n",
       "      <td>37.6534</td>\n",
       "      <td>ТЕСТОВЫЙ ЗАКАЗ, НЕ ГОТОВИТЬ И НЕ ПРОБИВАТЬ, ЗАКАЗ ПОЗЖЕ БУДЕТ ОТМЕНЕН!</td>\n",
       "      <td>android (2.58.0)</td>\n",
       "    </tr>\n",
       "    <tr>\n",
       "      <th>84846150</th>\n",
       "      <td>Дарья</td>\n",
       "      <td>2022-02-04 13:32:00</td>\n",
       "      <td>0</td>\n",
       "      <td>55.6597</td>\n",
       "      <td>37.7497</td>\n",
       "      <td>ТЕСТОВЫЙ ЗАКАЗ, НЕ ГОТОВИТЬ И НЕ ПРОБИВАТЬ, ЗАКАЗ ПОЗЖЕ БУДЕТ ОТМЕНЕН!</td>\n",
       "      <td>android (2.64.1)</td>\n",
       "    </tr>\n",
       "    <tr>\n",
       "      <th>84846150</th>\n",
       "      <td>Дарья</td>\n",
       "      <td>2022-01-20 12:27:00</td>\n",
       "      <td>0</td>\n",
       "      <td>55.7620</td>\n",
       "      <td>37.6454</td>\n",
       "      <td>ТЕСТОВЫЙ ЗАКАЗ, НЕ ГОТОВИТЬ И НЕ ПРОБИВАТЬ, ЗАКАЗ ПОЗЖЕ БУДЕТ ОТМЕНЕН!</td>\n",
       "      <td>android (2.63.0)</td>\n",
       "    </tr>\n",
       "    <tr>\n",
       "      <th>84846150</th>\n",
       "      <td>Дарья</td>\n",
       "      <td>2021-12-02 17:06:00</td>\n",
       "      <td>0</td>\n",
       "      <td>55.7860</td>\n",
       "      <td>37.6135</td>\n",
       "      <td>ТЕСТОВЫЙ ЗАКАЗ, НЕ ГОТОВИТЬ И НЕ ПРОБИВАТЬ, ЗАКАЗ ПОЗЖЕ БУДЕТ ОТМЕНЕН!</td>\n",
       "      <td>Mozilla/5.0 (Windows NT 10.0; WOW64) AppleWebKit/537.36 (KHTML, like Gecko) Chrome/94.0.4606.85 YaBrowser/21.11.1.936 Yowser/2.5 Safari/537.36</td>\n",
       "    </tr>\n",
       "    <tr>\n",
       "      <th>84846150</th>\n",
       "      <td>Дарья</td>\n",
       "      <td>2021-10-06 12:21:00</td>\n",
       "      <td>0</td>\n",
       "      <td>55.8365</td>\n",
       "      <td>37.6323</td>\n",
       "      <td>ТЕСТОВЫЙ ЗАКАЗ, НЕ ГОТОВИТЬ И НЕ ПРОБИВАТЬ, ЗАКАЗ ПОЗЖЕ БУДЕТ ОТМЕНЕН</td>\n",
       "      <td>android (2.56.1)</td>\n",
       "    </tr>\n",
       "    <tr>\n",
       "      <th>84846150</th>\n",
       "      <td>Дарья</td>\n",
       "      <td>2021-12-02 16:43:00</td>\n",
       "      <td>0</td>\n",
       "      <td>55.7792</td>\n",
       "      <td>37.5912</td>\n",
       "      <td>ТЕСТОВЫЙ ЗАКАЗ, НЕ ГОТОВИТЬ И НЕ ПРОБИВАТЬ, ЗАКАЗ ПОЗЖЕ БУДЕТ ОТМЕНЕН!</td>\n",
       "      <td>android (2.61.1)</td>\n",
       "    </tr>\n",
       "    <tr>\n",
       "      <th>84846150</th>\n",
       "      <td>Дарья</td>\n",
       "      <td>2021-10-08 14:16:00</td>\n",
       "      <td>0</td>\n",
       "      <td>55.7813</td>\n",
       "      <td>37.7211</td>\n",
       "      <td>NaN</td>\n",
       "      <td>android (2.57.0)</td>\n",
       "    </tr>\n",
       "    <tr>\n",
       "      <th>84846150</th>\n",
       "      <td>Дарья</td>\n",
       "      <td>2021-12-02 16:33:00</td>\n",
       "      <td>0</td>\n",
       "      <td>55.7802</td>\n",
       "      <td>37.5931</td>\n",
       "      <td>ТЕСТОВЫЙ ЗАКАЗ, НЕ ГОТОВИТЬ И НЕ ПРОБИВАТЬ, ЗАКАЗ ПОЗЖЕ БУДЕТ ОТМЕНЕН</td>\n",
       "      <td>android (2.61.1)</td>\n",
       "    </tr>\n",
       "    <tr>\n",
       "      <th>84846150</th>\n",
       "      <td>Дарья</td>\n",
       "      <td>2021-10-21 16:21:00</td>\n",
       "      <td>0</td>\n",
       "      <td>55.7620</td>\n",
       "      <td>37.5821</td>\n",
       "      <td>ТЕСТОВЫЙ ЗАКАЗ, НЕ ГОТОВИТЬ И НЕ ПРОБИВАТЬ, ЗАКАЗ ПОЗЖЕ БУДЕТ ОТМЕНЕН!</td>\n",
       "      <td>android (2.58.0)</td>\n",
       "    </tr>\n",
       "    <tr>\n",
       "      <th>84846150</th>\n",
       "      <td>Дарья</td>\n",
       "      <td>2021-11-02 17:01:00</td>\n",
       "      <td>0</td>\n",
       "      <td>55.6084</td>\n",
       "      <td>37.6221</td>\n",
       "      <td>ТЕСТОВЫЙ ЗАКАЗ, НЕ ГОТОВИТЬ И НЕ ПРОБИВАТЬ, ЗАКАЗ ПОЗЖЕ БУДЕТ ОТМЕНЕН!</td>\n",
       "      <td>android (2.59.0)</td>\n",
       "    </tr>\n",
       "    <tr>\n",
       "      <th>84846150</th>\n",
       "      <td>Дарья</td>\n",
       "      <td>2021-11-02 15:22:00</td>\n",
       "      <td>0</td>\n",
       "      <td>55.6045</td>\n",
       "      <td>37.4895</td>\n",
       "      <td>ТЕСТОВЫЙ ЗАКАЗ, НЕ ГОТОВИТЬ И НЕ ПРОБИВАТЬ, ЗАКАЗ ПОЗЖЕ БУДЕТ ОТМЕНЕН!</td>\n",
       "      <td>android (2.59.0)</td>\n",
       "    </tr>\n",
       "    <tr>\n",
       "      <th>84846150</th>\n",
       "      <td>Дарья</td>\n",
       "      <td>2021-10-15 12:02:00</td>\n",
       "      <td>0</td>\n",
       "      <td>55.7596</td>\n",
       "      <td>37.6465</td>\n",
       "      <td>ТЕСТОВЫЙ ЗАКАЗ, НЕ ГОТОВИТЬ И НЕ ПРОБИВАТЬ, ЗАКАЗ ПОЗЖЕ БУДЕТ ОТМЕНЕН</td>\n",
       "      <td>android (2.57.0)</td>\n",
       "    </tr>\n",
       "    <tr>\n",
       "      <th>84846150</th>\n",
       "      <td>Дарья</td>\n",
       "      <td>2021-10-29 15:23:00</td>\n",
       "      <td>0</td>\n",
       "      <td>55.6944</td>\n",
       "      <td>37.6746</td>\n",
       "      <td>ТЕСТОВЫЙ ЗАКАЗ, НЕ ГОТОВИТЬ И НЕ ПРОБИВАТЬ, ЗАКАЗ ПОЗЖЕ БУДЕТ ОТМЕНЕН!</td>\n",
       "      <td>android (2.58.0)</td>\n",
       "    </tr>\n",
       "    <tr>\n",
       "      <th>84846150</th>\n",
       "      <td>Дарья</td>\n",
       "      <td>2021-12-02 16:47:00</td>\n",
       "      <td>0</td>\n",
       "      <td>55.7602</td>\n",
       "      <td>37.5848</td>\n",
       "      <td>ТЕСТОВЫЙ ЗАКАЗ, НЕ ГОТОВИТЬ И НЕ ПРОБИВАТЬ, ЗАКАЗ ПОЗЖЕ БУДЕТ ОТМЕНЕН!</td>\n",
       "      <td>android (2.61.1)</td>\n",
       "    </tr>\n",
       "    <tr>\n",
       "      <th>84846150</th>\n",
       "      <td>Дарья</td>\n",
       "      <td>2021-11-16 17:23:00</td>\n",
       "      <td>0</td>\n",
       "      <td>55.7474</td>\n",
       "      <td>37.7071</td>\n",
       "      <td>ТЕСТОВЫЙ ЗАКАЗ, НЕ ГОТОВИТЬ И НЕ ПРОБИВАТЬ, ЗАКАЗ ПОЗЖЕ БУДЕТ ОТМЕНЕН!</td>\n",
       "      <td>android (2.59.1)</td>\n",
       "    </tr>\n",
       "    <tr>\n",
       "      <th>84846150</th>\n",
       "      <td>Дарья</td>\n",
       "      <td>2021-11-19 13:12:00</td>\n",
       "      <td>0</td>\n",
       "      <td>55.7672</td>\n",
       "      <td>37.6083</td>\n",
       "      <td>ТЕСТОВЫЙ ЗАКАЗ, НЕ ГОТОВИТЬ И НЕ ПРОБИВАТЬ, ЗАКАЗ ПОЗЖЕ БУДЕТ ОТМЕНЕН!</td>\n",
       "      <td>android (2.59.1)</td>\n",
       "    </tr>\n",
       "    <tr>\n",
       "      <th>84846150</th>\n",
       "      <td>Дарья</td>\n",
       "      <td>2021-10-20 15:17:00</td>\n",
       "      <td>0</td>\n",
       "      <td>55.7243</td>\n",
       "      <td>37.4469</td>\n",
       "      <td>ТЕСТОВЫЙ ЗАКАЗ, НЕ ГОТОВИТЬ И НЕ ПРОБИВАТЬ, ЗАКАЗ ПОЗЖЕ БУДЕТ ОТМЕНЕН!</td>\n",
       "      <td>android (2.58.0)</td>\n",
       "    </tr>\n",
       "    <tr>\n",
       "      <th>84846150</th>\n",
       "      <td>Дарья</td>\n",
       "      <td>2021-12-03 18:56:00</td>\n",
       "      <td>0</td>\n",
       "      <td>55.7915</td>\n",
       "      <td>37.5029</td>\n",
       "      <td>ТЕСТОВЫЙ ЗАКАЗ, НЕ ГОТОВИТЬ И НЕ ПРОБИВАТЬ, ЗАКАЗ ПОЗЖЕ БУДЕТ ОТМЕНЕН!</td>\n",
       "      <td>android (2.61.1)</td>\n",
       "    </tr>\n",
       "    <tr>\n",
       "      <th>84846150</th>\n",
       "      <td>Дарья</td>\n",
       "      <td>2021-10-19 15:14:00</td>\n",
       "      <td>0</td>\n",
       "      <td>55.5475</td>\n",
       "      <td>37.5410</td>\n",
       "      <td>ТЕСТОВЫЙ ЗАКАЗ, НЕ ГОТОВИТЬ И НЕ ПРОБИВАТЬ, ЗАКАЗ ПОЗЖЕ БУДЕТ ОТМЕНЕН!</td>\n",
       "      <td>android (2.58.0)</td>\n",
       "    </tr>\n",
       "    <tr>\n",
       "      <th>84846150</th>\n",
       "      <td>Дарья</td>\n",
       "      <td>2021-11-01 20:49:00</td>\n",
       "      <td>0</td>\n",
       "      <td>55.6188</td>\n",
       "      <td>37.7151</td>\n",
       "      <td>ТЕСТОВЫЙ ЗАКАЗ, НЕ ГОТОВИТЬ И НЕ ПРОБИВАТЬ, ЗАКАЗ ПОЗЖЕ БУДЕТ ОТМЕНЕН!</td>\n",
       "      <td>android (2.58.0)</td>\n",
       "    </tr>\n",
       "    <tr>\n",
       "      <th>84846150</th>\n",
       "      <td>Дарья</td>\n",
       "      <td>2022-01-31 13:02:00</td>\n",
       "      <td>0</td>\n",
       "      <td>55.7318</td>\n",
       "      <td>37.6864</td>\n",
       "      <td>ТЕСТОВЫЙ ЗАКАЗ, НЕ ГОТОВИТЬ И НЕ ПРОБИВАТЬ, ЗАКАЗ ПОЗЖЕ БУДЕТ ОТМЕНЕН!</td>\n",
       "      <td>android (2.64.0)</td>\n",
       "    </tr>\n",
       "    <tr>\n",
       "      <th>84846150</th>\n",
       "      <td>Дарья</td>\n",
       "      <td>2021-12-02 16:24:00</td>\n",
       "      <td>0</td>\n",
       "      <td>55.8112</td>\n",
       "      <td>37.8046</td>\n",
       "      <td>ТЕСТОВЫЙ ЗАКАЗ, НЕ ГОТОВИТЬ И НЕ ПРОБИВАТЬ, ЗАКАЗ ПОЗЖЕ БУДЕТ ОТМЕНЕН</td>\n",
       "      <td>android (2.61.1)</td>\n",
       "    </tr>\n",
       "  </tbody>\n",
       "</table>\n",
       "</div>"
      ],
      "text/plain": [
       "                     first_name                Дата  Цена  location_latitude  \\\n",
       "id заказчика                                                                   \n",
       "294986146     Екатерина Утюпина 2021-11-23 14:51:00     0            55.7956   \n",
       "294986146     Екатерина Утюпина 2021-12-23 15:28:00     0            55.5807   \n",
       "294986146     Екатерина Утюпина 2021-11-29 14:10:00     0            55.6459   \n",
       "294986146     Екатерина Утюпина 2021-12-29 15:36:00     0            55.6287   \n",
       "294986146     Екатерина Утюпина 2021-11-03 20:19:00     0            55.7101   \n",
       "294986146     Екатерина Утюпина 2021-11-23 18:25:00     0            55.7584   \n",
       "294986146     Екатерина Утюпина 2021-11-04 14:39:00     0            55.7574   \n",
       "294986146     Екатерина Утюпина 2021-10-05 19:54:00     0            55.6843   \n",
       "294986146     Екатерина Утюпина 2021-10-19 15:56:00     0            55.8239   \n",
       "294986146     Екатерина Утюпина 2021-10-29 17:44:00     0            55.7871   \n",
       "294986146     Екатерина Утюпина 2021-11-18 20:31:00     0            55.7138   \n",
       "294986146     Екатерина Утюпина 2021-10-07 11:22:00     0            55.7619   \n",
       "294986146     Екатерина Утюпина 2021-11-16 13:05:00     0            55.7035   \n",
       "294986146     Екатерина Утюпина 2021-10-06 17:17:00     0            55.6714   \n",
       "294986146     Екатерина Утюпина 2021-12-24 14:06:00     0            55.6514   \n",
       "294986146     Екатерина Утюпина 2021-10-22 18:14:00     0            55.8834   \n",
       "294986146     Екатерина Утюпина 2021-11-24 13:15:00     0            55.6791   \n",
       "294986146     Екатерина Утюпина 2021-10-29 18:17:00     0            55.7437   \n",
       "294986146     Екатерина Утюпина 2021-10-04 17:14:00     0            55.7586   \n",
       "84846150                  Дарья 2021-11-01 14:47:00     0            55.7697   \n",
       "84846150                  Дарья 2021-10-25 18:06:00     0            55.8550   \n",
       "84846150                  Дарья 2022-02-04 13:32:00     0            55.6597   \n",
       "84846150                  Дарья 2022-01-20 12:27:00     0            55.7620   \n",
       "84846150                  Дарья 2021-12-02 17:06:00     0            55.7860   \n",
       "84846150                  Дарья 2021-10-06 12:21:00     0            55.8365   \n",
       "84846150                  Дарья 2021-12-02 16:43:00     0            55.7792   \n",
       "84846150                  Дарья 2021-10-08 14:16:00     0            55.7813   \n",
       "84846150                  Дарья 2021-12-02 16:33:00     0            55.7802   \n",
       "84846150                  Дарья 2021-10-21 16:21:00     0            55.7620   \n",
       "84846150                  Дарья 2021-11-02 17:01:00     0            55.6084   \n",
       "84846150                  Дарья 2021-11-02 15:22:00     0            55.6045   \n",
       "84846150                  Дарья 2021-10-15 12:02:00     0            55.7596   \n",
       "84846150                  Дарья 2021-10-29 15:23:00     0            55.6944   \n",
       "84846150                  Дарья 2021-12-02 16:47:00     0            55.7602   \n",
       "84846150                  Дарья 2021-11-16 17:23:00     0            55.7474   \n",
       "84846150                  Дарья 2021-11-19 13:12:00     0            55.7672   \n",
       "84846150                  Дарья 2021-10-20 15:17:00     0            55.7243   \n",
       "84846150                  Дарья 2021-12-03 18:56:00     0            55.7915   \n",
       "84846150                  Дарья 2021-10-19 15:14:00     0            55.5475   \n",
       "84846150                  Дарья 2021-11-01 20:49:00     0            55.6188   \n",
       "84846150                  Дарья 2022-01-31 13:02:00     0            55.7318   \n",
       "84846150                  Дарья 2021-12-02 16:24:00     0            55.8112   \n",
       "\n",
       "              location_longitude  \\\n",
       "id заказчика                       \n",
       "294986146                37.5411   \n",
       "294986146                37.6517   \n",
       "294986146                37.5265   \n",
       "294986146                37.7407   \n",
       "294986146                37.6546   \n",
       "294986146                37.5492   \n",
       "294986146                37.6337   \n",
       "294986146                37.5501   \n",
       "294986146                37.4972   \n",
       "294986146                37.6772   \n",
       "294986146                37.5712   \n",
       "294986146                37.6453   \n",
       "294986146                37.5110   \n",
       "294986146                37.5859   \n",
       "294986146                37.6124   \n",
       "294986146                37.5585   \n",
       "294986146                37.6953   \n",
       "294986146                37.7722   \n",
       "294986146                37.6394   \n",
       "84846150                 37.6254   \n",
       "84846150                 37.6534   \n",
       "84846150                 37.7497   \n",
       "84846150                 37.6454   \n",
       "84846150                 37.6135   \n",
       "84846150                 37.6323   \n",
       "84846150                 37.5912   \n",
       "84846150                 37.7211   \n",
       "84846150                 37.5931   \n",
       "84846150                 37.5821   \n",
       "84846150                 37.6221   \n",
       "84846150                 37.4895   \n",
       "84846150                 37.6465   \n",
       "84846150                 37.6746   \n",
       "84846150                 37.5848   \n",
       "84846150                 37.7071   \n",
       "84846150                 37.6083   \n",
       "84846150                 37.4469   \n",
       "84846150                 37.5029   \n",
       "84846150                 37.5410   \n",
       "84846150                 37.7151   \n",
       "84846150                 37.6864   \n",
       "84846150                 37.8046   \n",
       "\n",
       "                                                                     address_comment  \\\n",
       "id заказчика                                                                           \n",
       "294986146      ТЕСТОВЫЙ ЗАКАЗ, НЕ ГОТОВИТЬ И НЕ ПРОБИВАТЬ, ЗАКАЗ ПОЗЖЕ БУДЕТ ОТМЕНЕН   \n",
       "294986146      ТЕСТОВЫЙ ЗАКАЗ, НЕ ГОТОВИТЬ И НЕ ПРОБИВАТЬ, ЗАКАЗ ПОЗЖЕ БУДЕТ ОТМЕНЕН   \n",
       "294986146      ТЕСТОВЫЙ ЗАКАЗ, НЕ ГОТОВИТЬ И НЕ ПРОБИВАТЬ, ЗАКАЗ ПОЗЖЕ БУДЕТ ОТМЕНЕН   \n",
       "294986146      ТЕСТОВЫЙ ЗАКАЗ, НЕ ГОТОВИТЬ И НЕ ПРОБИВАТЬ, ЗАКАЗ ПОЗЖЕ БУДЕТ ОТМЕНЕН   \n",
       "294986146      ТЕСТОВЫЙ ЗАКАЗ, НЕ ГОТОВИТЬ И НЕ ПРОБИВАТЬ, ЗАКАЗ ПОЗЖЕ БУДЕТ ОТМЕНЕН   \n",
       "294986146      ТЕСТОВЫЙ ЗАКАЗ, НЕ ГОТОВИТЬ И НЕ ПРОБИВАТЬ, ЗАКАЗ ПОЗЖЕ БУДЕТ ОТМЕНЕН   \n",
       "294986146      ТЕСТОВЫЙ ЗАКАЗ, НЕ ГОТОВИТЬ И НЕ ПРОБИВАТЬ, ЗАКАЗ ПОЗЖЕ БУДЕТ ОТМЕНЕН   \n",
       "294986146      ТЕСТОВЫЙ ЗАКАЗ, НЕ ГОТОВИТЬ И НЕ ПРОБИВАТЬ, ЗАКАЗ ПОЗЖЕ БУДЕТ ОТМЕНЕН   \n",
       "294986146      ТЕСТОВЫЙ ЗАКАЗ, НЕ ГОТОВИТЬ И НЕ ПРОБИВАТЬ, ЗАКАЗ ПОЗЖЕ БУДЕТ ОТМЕНЕН   \n",
       "294986146      ТЕСТОВЫЙ ЗАКАЗ, НЕ ГОТОВИТЬ И НЕ ПРОБИВАТЬ, ЗАКАЗ ПОЗЖЕ БУДЕТ ОТМЕНЕН   \n",
       "294986146      ТЕСТОВЫЙ ЗАКАЗ, НЕ ГОТОВИТЬ И НЕ ПРОБИВАТЬ, ЗАКАЗ ПОЗЖЕ БУДЕТ ОТМЕНЕН   \n",
       "294986146                                                                        NaN   \n",
       "294986146      ТЕСТОВЫЙ ЗАКАЗ, НЕ ГОТОВИТЬ И НЕ ПРОБИВАТЬ, ЗАКАЗ ПОЗЖЕ БУДЕТ ОТМЕНЕН   \n",
       "294986146      ТЕСТОВЫЙ ЗАКАЗ, НЕ ГОТОВИТЬ И НЕ ПРОБИВАТЬ, ЗАКАЗ ПОЗЖЕ БУДЕТ ОТМЕНЕН   \n",
       "294986146      ТЕСТОВЫЙ ЗАКАЗ, НЕ ГОТОВИТЬ И НЕ ПРОБИВАТЬ, ЗАКАЗ ПОЗЖЕ БУДЕТ ОТМЕНЕН   \n",
       "294986146      ТЕСТОВЫЙ ЗАКАЗ, НЕ ГОТОВИТЬ И НЕ ПРОБИВАТЬ, ЗАКАЗ ПОЗЖЕ БУДЕТ ОТМЕНЕН   \n",
       "294986146      ТЕСТОВЫЙ ЗАКАЗ, НЕ ГОТОВИТЬ И НЕ ПРОБИВАТЬ, ЗАКАЗ ПОЗЖЕ БУДЕТ ОТМЕНЕН   \n",
       "294986146      ТЕСТОВЫЙ ЗАКАЗ, НЕ ГОТОВИТЬ И НЕ ПРОБИВАТЬ, ЗАКАЗ ПОЗЖЕ БУДЕТ ОТМЕНЕН   \n",
       "294986146      ТЕСТОВЫЙ ЗАКАЗ, НЕ ГОТОВИТЬ И НЕ ПРОБИВАТЬ, ЗАКАЗ ПОЗЖЕ БУДЕТ ОТМЕНЕН   \n",
       "84846150      ТЕСТОВЫЙ ЗАКАЗ, НЕ ГОТОВИТЬ И НЕ ПРОБИВАТЬ, ЗАКАЗ ПОЗЖЕ БУДЕТ ОТМЕНЕН!   \n",
       "84846150      ТЕСТОВЫЙ ЗАКАЗ, НЕ ГОТОВИТЬ И НЕ ПРОБИВАТЬ, ЗАКАЗ ПОЗЖЕ БУДЕТ ОТМЕНЕН!   \n",
       "84846150      ТЕСТОВЫЙ ЗАКАЗ, НЕ ГОТОВИТЬ И НЕ ПРОБИВАТЬ, ЗАКАЗ ПОЗЖЕ БУДЕТ ОТМЕНЕН!   \n",
       "84846150      ТЕСТОВЫЙ ЗАКАЗ, НЕ ГОТОВИТЬ И НЕ ПРОБИВАТЬ, ЗАКАЗ ПОЗЖЕ БУДЕТ ОТМЕНЕН!   \n",
       "84846150      ТЕСТОВЫЙ ЗАКАЗ, НЕ ГОТОВИТЬ И НЕ ПРОБИВАТЬ, ЗАКАЗ ПОЗЖЕ БУДЕТ ОТМЕНЕН!   \n",
       "84846150       ТЕСТОВЫЙ ЗАКАЗ, НЕ ГОТОВИТЬ И НЕ ПРОБИВАТЬ, ЗАКАЗ ПОЗЖЕ БУДЕТ ОТМЕНЕН   \n",
       "84846150      ТЕСТОВЫЙ ЗАКАЗ, НЕ ГОТОВИТЬ И НЕ ПРОБИВАТЬ, ЗАКАЗ ПОЗЖЕ БУДЕТ ОТМЕНЕН!   \n",
       "84846150                                                                         NaN   \n",
       "84846150       ТЕСТОВЫЙ ЗАКАЗ, НЕ ГОТОВИТЬ И НЕ ПРОБИВАТЬ, ЗАКАЗ ПОЗЖЕ БУДЕТ ОТМЕНЕН   \n",
       "84846150      ТЕСТОВЫЙ ЗАКАЗ, НЕ ГОТОВИТЬ И НЕ ПРОБИВАТЬ, ЗАКАЗ ПОЗЖЕ БУДЕТ ОТМЕНЕН!   \n",
       "84846150      ТЕСТОВЫЙ ЗАКАЗ, НЕ ГОТОВИТЬ И НЕ ПРОБИВАТЬ, ЗАКАЗ ПОЗЖЕ БУДЕТ ОТМЕНЕН!   \n",
       "84846150      ТЕСТОВЫЙ ЗАКАЗ, НЕ ГОТОВИТЬ И НЕ ПРОБИВАТЬ, ЗАКАЗ ПОЗЖЕ БУДЕТ ОТМЕНЕН!   \n",
       "84846150       ТЕСТОВЫЙ ЗАКАЗ, НЕ ГОТОВИТЬ И НЕ ПРОБИВАТЬ, ЗАКАЗ ПОЗЖЕ БУДЕТ ОТМЕНЕН   \n",
       "84846150      ТЕСТОВЫЙ ЗАКАЗ, НЕ ГОТОВИТЬ И НЕ ПРОБИВАТЬ, ЗАКАЗ ПОЗЖЕ БУДЕТ ОТМЕНЕН!   \n",
       "84846150      ТЕСТОВЫЙ ЗАКАЗ, НЕ ГОТОВИТЬ И НЕ ПРОБИВАТЬ, ЗАКАЗ ПОЗЖЕ БУДЕТ ОТМЕНЕН!   \n",
       "84846150      ТЕСТОВЫЙ ЗАКАЗ, НЕ ГОТОВИТЬ И НЕ ПРОБИВАТЬ, ЗАКАЗ ПОЗЖЕ БУДЕТ ОТМЕНЕН!   \n",
       "84846150      ТЕСТОВЫЙ ЗАКАЗ, НЕ ГОТОВИТЬ И НЕ ПРОБИВАТЬ, ЗАКАЗ ПОЗЖЕ БУДЕТ ОТМЕНЕН!   \n",
       "84846150      ТЕСТОВЫЙ ЗАКАЗ, НЕ ГОТОВИТЬ И НЕ ПРОБИВАТЬ, ЗАКАЗ ПОЗЖЕ БУДЕТ ОТМЕНЕН!   \n",
       "84846150      ТЕСТОВЫЙ ЗАКАЗ, НЕ ГОТОВИТЬ И НЕ ПРОБИВАТЬ, ЗАКАЗ ПОЗЖЕ БУДЕТ ОТМЕНЕН!   \n",
       "84846150      ТЕСТОВЫЙ ЗАКАЗ, НЕ ГОТОВИТЬ И НЕ ПРОБИВАТЬ, ЗАКАЗ ПОЗЖЕ БУДЕТ ОТМЕНЕН!   \n",
       "84846150      ТЕСТОВЫЙ ЗАКАЗ, НЕ ГОТОВИТЬ И НЕ ПРОБИВАТЬ, ЗАКАЗ ПОЗЖЕ БУДЕТ ОТМЕНЕН!   \n",
       "84846150      ТЕСТОВЫЙ ЗАКАЗ, НЕ ГОТОВИТЬ И НЕ ПРОБИВАТЬ, ЗАКАЗ ПОЗЖЕ БУДЕТ ОТМЕНЕН!   \n",
       "84846150       ТЕСТОВЫЙ ЗАКАЗ, НЕ ГОТОВИТЬ И НЕ ПРОБИВАТЬ, ЗАКАЗ ПОЗЖЕ БУДЕТ ОТМЕНЕН   \n",
       "\n",
       "                                                                                                                                                        user_agent  \n",
       "id заказчика                                                                                                                                                        \n",
       "294986146     Mozilla/5.0 (Windows NT 10.0; Win64; x64) AppleWebKit/537.36 (KHTML, like Gecko) Chrome/94.0.4606.85 YaBrowser/21.11.0.1996 Yowser/2.5 Safari/537.36  \n",
       "294986146      Mozilla/5.0 (Windows NT 10.0; Win64; x64) AppleWebKit/537.36 (KHTML, like Gecko) Chrome/94.0.4606.85 YaBrowser/21.11.3.927 Yowser/2.5 Safari/537.36  \n",
       "294986146      Mozilla/5.0 (Windows NT 10.0; Win64; x64) AppleWebKit/537.36 (KHTML, like Gecko) Chrome/94.0.4606.85 YaBrowser/21.11.1.932 Yowser/2.5 Safari/537.36  \n",
       "294986146      Mozilla/5.0 (Windows NT 10.0; Win64; x64) AppleWebKit/537.36 (KHTML, like Gecko) Chrome/94.0.4606.85 YaBrowser/21.11.4.727 Yowser/2.5 Safari/537.36  \n",
       "294986146       Mozilla/5.0 (Windows NT 10.0; Win64; x64) AppleWebKit/537.36 (KHTML, like Gecko) Chrome/93.0.4577.82 YaBrowser/21.9.2.169 Yowser/2.5 Safari/537.36  \n",
       "294986146     Mozilla/5.0 (Windows NT 10.0; Win64; x64) AppleWebKit/537.36 (KHTML, like Gecko) Chrome/94.0.4606.85 YaBrowser/21.11.0.1996 Yowser/2.5 Safari/537.36  \n",
       "294986146       Mozilla/5.0 (Windows NT 10.0; Win64; x64) AppleWebKit/537.36 (KHTML, like Gecko) Chrome/93.0.4577.82 YaBrowser/21.9.2.169 Yowser/2.5 Safari/537.36  \n",
       "294986146      Mozilla/5.0 (Windows NT 10.0; Win64; x64) AppleWebKit/537.36 (KHTML, like Gecko) Chrome/92.0.4515.159 YaBrowser/21.8.3.614 Yowser/2.5 Safari/537.36  \n",
       "294986146      Mozilla/5.0 (Windows NT 10.0; Win64; x64) AppleWebKit/537.36 (KHTML, like Gecko) Chrome/93.0.4577.82 YaBrowser/21.9.0.1044 Yowser/2.5 Safari/537.36  \n",
       "294986146       Mozilla/5.0 (Windows NT 10.0; Win64; x64) AppleWebKit/537.36 (KHTML, like Gecko) Chrome/93.0.4577.82 YaBrowser/21.9.2.169 Yowser/2.5 Safari/537.36  \n",
       "294986146     Mozilla/5.0 (Windows NT 10.0; Win64; x64) AppleWebKit/537.36 (KHTML, like Gecko) Chrome/94.0.4606.85 YaBrowser/21.11.0.1996 Yowser/2.5 Safari/537.36  \n",
       "294986146      Mozilla/5.0 (Windows NT 10.0; Win64; x64) AppleWebKit/537.36 (KHTML, like Gecko) Chrome/93.0.4577.82 YaBrowser/21.9.0.1044 Yowser/2.5 Safari/537.36  \n",
       "294986146     Mozilla/5.0 (Windows NT 10.0; Win64; x64) AppleWebKit/537.36 (KHTML, like Gecko) Chrome/94.0.4606.85 YaBrowser/21.11.0.1996 Yowser/2.5 Safari/537.36  \n",
       "294986146      Mozilla/5.0 (Windows NT 10.0; Win64; x64) AppleWebKit/537.36 (KHTML, like Gecko) Chrome/93.0.4577.82 YaBrowser/21.9.0.1044 Yowser/2.5 Safari/537.36  \n",
       "294986146      Mozilla/5.0 (Windows NT 10.0; Win64; x64) AppleWebKit/537.36 (KHTML, like Gecko) Chrome/94.0.4606.85 YaBrowser/21.11.3.927 Yowser/2.5 Safari/537.36  \n",
       "294986146       Mozilla/5.0 (Windows NT 10.0; Win64; x64) AppleWebKit/537.36 (KHTML, like Gecko) Chrome/93.0.4577.82 YaBrowser/21.9.1.684 Yowser/2.5 Safari/537.36  \n",
       "294986146     Mozilla/5.0 (Windows NT 10.0; Win64; x64) AppleWebKit/537.36 (KHTML, like Gecko) Chrome/94.0.4606.85 YaBrowser/21.11.0.1996 Yowser/2.5 Safari/537.36  \n",
       "294986146       Mozilla/5.0 (Windows NT 10.0; Win64; x64) AppleWebKit/537.36 (KHTML, like Gecko) Chrome/93.0.4577.82 YaBrowser/21.9.2.169 Yowser/2.5 Safari/537.36  \n",
       "294986146      Mozilla/5.0 (Windows NT 10.0; Win64; x64) AppleWebKit/537.36 (KHTML, like Gecko) Chrome/92.0.4515.159 YaBrowser/21.8.3.614 Yowser/2.5 Safari/537.36  \n",
       "84846150                                                                                                                                          android (2.58.0)  \n",
       "84846150                                                                                                                                          android (2.58.0)  \n",
       "84846150                                                                                                                                          android (2.64.1)  \n",
       "84846150                                                                                                                                          android (2.63.0)  \n",
       "84846150            Mozilla/5.0 (Windows NT 10.0; WOW64) AppleWebKit/537.36 (KHTML, like Gecko) Chrome/94.0.4606.85 YaBrowser/21.11.1.936 Yowser/2.5 Safari/537.36  \n",
       "84846150                                                                                                                                          android (2.56.1)  \n",
       "84846150                                                                                                                                          android (2.61.1)  \n",
       "84846150                                                                                                                                          android (2.57.0)  \n",
       "84846150                                                                                                                                          android (2.61.1)  \n",
       "84846150                                                                                                                                          android (2.58.0)  \n",
       "84846150                                                                                                                                          android (2.59.0)  \n",
       "84846150                                                                                                                                          android (2.59.0)  \n",
       "84846150                                                                                                                                          android (2.57.0)  \n",
       "84846150                                                                                                                                          android (2.58.0)  \n",
       "84846150                                                                                                                                          android (2.61.1)  \n",
       "84846150                                                                                                                                          android (2.59.1)  \n",
       "84846150                                                                                                                                          android (2.59.1)  \n",
       "84846150                                                                                                                                          android (2.58.0)  \n",
       "84846150                                                                                                                                          android (2.61.1)  \n",
       "84846150                                                                                                                                          android (2.58.0)  \n",
       "84846150                                                                                                                                          android (2.58.0)  \n",
       "84846150                                                                                                                                          android (2.64.0)  \n",
       "84846150                                                                                                                                          android (2.61.1)  "
      ]
     },
     "execution_count": 183,
     "metadata": {},
     "output_type": "execute_result"
    }
   ],
   "source": [
    "df.loc[{84846150,294986146}]"
   ]
  },
  {
   "cell_type": "markdown",
   "id": "bc426e62",
   "metadata": {},
   "source": [
    "Объединив id заказчиков и посмотрев на комментарии их нулевых заказов понимаем, что 0 означает отмененные заказы, деньги за которые не списываются.  "
   ]
  },
  {
   "cell_type": "code",
   "execution_count": 184,
   "id": "bd046688",
   "metadata": {},
   "outputs": [],
   "source": [
    "df_copy = df.copy()\n",
    "df = df[df['Цена'] !=0]"
   ]
  },
  {
   "cell_type": "markdown",
   "id": "87ce68fe",
   "metadata": {},
   "source": [
    "Теперь, когда мы убрали отмененные заказы, давайте взглянем на какую в среднем цену заказывают еды."
   ]
  },
  {
   "cell_type": "code",
   "execution_count": 185,
   "id": "313e302e",
   "metadata": {},
   "outputs": [
    {
     "data": {
      "text/plain": [
       "<AxesSubplot:>"
      ]
     },
     "execution_count": 185,
     "metadata": {},
     "output_type": "execute_result"
    },
    {
     "data": {
      "image/png": "[encoded data removed]",
      "text/plain": [
       "<Figure size 1080x720 with 1 Axes>"
      ]
     },
     "metadata": {},
     "output_type": "display_data"
    }
   ],
   "source": [
    "df.boxplot(column=['Цена'], figsize=(15, 10), showfliers=False)"
   ]
  },
  {
   "cell_type": "code",
   "execution_count": 186,
   "id": "92794f36",
   "metadata": {
    "scrolled": true
   },
   "outputs": [
    {
     "data": {
      "text/plain": [
       "count    426194.000000\n",
       "mean       1180.099258\n",
       "std        1008.691024\n",
       "min           1.000000\n",
       "25%         622.000000\n",
       "50%         944.000000\n",
       "75%        1433.000000\n",
       "max       65929.000000\n",
       "Name: Цена, dtype: float64"
      ]
     },
     "execution_count": 186,
     "metadata": {},
     "output_type": "execute_result"
    }
   ],
   "source": [
    "df['Цена'].describe()"
   ]
  },
  {
   "cell_type": "markdown",
   "id": "f80be529",
   "metadata": {},
   "source": [
    "Средний чек равен 944 рублям, медиана - 1180 руб."
   ]
  },
  {
   "cell_type": "code",
   "execution_count": 191,
   "id": "c70c6529",
   "metadata": {},
   "outputs": [
    {
     "data": {
      "text/plain": [
       "<AxesSubplot:>"
      ]
     },
     "execution_count": 191,
     "metadata": {},
     "output_type": "execute_result"
    },
    {
     "data": {
      "image/png": "[encoded data removed]",
      "text/plain": [
       "<Figure size 2160x2160 with 1 Axes>"
      ]
     },
     "metadata": {},
     "output_type": "display_data"
    }
   ],
   "source": [
    "cut_labels_4 = ['0-500', '500-1000', '1000-2000', '2000+']\n",
    "cut_bins = [0, 500, 1000, 2000, 200000]\n",
    "df['Цена1'] = pd.cut(df['Цена'],\n",
    "                       bins=cut_bins,\n",
    "                       labels=cut_labels_4)\n",
    "df['Цена1'].value_counts().plot(kind = \"bar\")\n"
   ]
  },
  {
   "cell_type": "markdown",
   "id": "db819d4e",
   "metadata": {},
   "source": [
    "Если смотреть упрощенно, разбив на ценовые категории, то  наибольшее количество заказов делается в промежутках 500-1000 и 1000-2000 рублей."
   ]
  },
  {
   "cell_type": "code",
   "execution_count": 187,
   "id": "0fac9397",
   "metadata": {},
   "outputs": [
    {
     "data": {
      "text/plain": [
       "<AxesSubplot:>"
      ]
     },
     "execution_count": 187,
     "metadata": {},
     "output_type": "execute_result"
    },
    {
     "data": {
      "image/png": "[encoded data removed]",
      "text/plain": [
       "<Figure size 1080x720 with 1 Axes>"
      ]
     },
     "metadata": {},
     "output_type": "display_data"
    }
   ],
   "source": [
    "df['Цена'].round(-1).value_counts().sort_index(ascending=True)[df['Цена'].round(-1).value_counts() > 100].plot(kind = 'bar', figsize=(15, 10))"
   ]
  },
  {
   "cell_type": "markdown",
   "id": "7a6ad750",
   "metadata": {},
   "source": [
    "На гистограмме округленной до десятков видим, что\n",
    "* происходит резкий рост заказов от 300р, вероятно минимальной цены заказа и последующее падение\n",
    "* существует локальный пик в 1000р\n",
    "* горка где *500\n",
    "* Цена постепенно спадает\n"
   ]
  },
  {
   "cell_type": "code",
   "execution_count": null,
   "id": "f8b7b92e",
   "metadata": {},
   "outputs": [],
   "source": [
    "df.groupby([pd.Grouper(key='Дата', freq='w')])['Цена'].mean().plot(kind='bar')"
   ]
  },
  {
   "cell_type": "markdown",
   "id": "b033a4e8",
   "metadata": {},
   "source": [
    "Теперь давайте посмотрим как цена меняется со временем. Если брать отрезок в неделю, то видно\n",
    "* постепенное повышение цены \n",
    "* пики в новогодние недели\n",
    "* отсутские данных за август "
   ]
  },
  {
   "cell_type": "code",
   "execution_count": null,
   "id": "cdc9d3a0",
   "metadata": {},
   "outputs": [],
   "source": [
    "df.groupby(df['Дата'].dt.strftime(\"%H\"))['Цена'].agg({'size','mean'})"
   ]
  },
  {
   "cell_type": "markdown",
   "id": "b6933807",
   "metadata": {},
   "source": [
    "По данным показательно, что\n",
    "* ночью средний существенно выше\n",
    "* на завтрак ниже\n",
    "* количество заказов стабильно от 13 часов до 22"
   ]
  },
  {
   "cell_type": "code",
   "execution_count": null,
   "id": "a93b60d0",
   "metadata": {},
   "outputs": [],
   "source": [
    "df.groupby(df['Дата'].dt.strftime(\"%A\"))['Цена'].agg({'size','mean'})"
   ]
  },
  {
   "cell_type": "markdown",
   "id": "206252ad",
   "metadata": {},
   "source": [
    "Видим, что заказов больше в выходные, но средний чек выше всего в пятницу"
   ]
  },
  {
   "cell_type": "code",
   "execution_count": null,
   "id": "76353e2c",
   "metadata": {},
   "outputs": [],
   "source": [
    "op = pd.pivot_table(df[df['Цена'] != 0], values = 'Цена',\n",
    "               index = 'id заказчика',\n",
    "               aggfunc=(len,sum, 'mean'))\n",
    "op.sort_values(by = ('len') , ascending=False)"
   ]
  },
  {
   "cell_type": "code",
   "execution_count": null,
   "id": "49f7869e",
   "metadata": {},
   "outputs": [],
   "source": [
    "op.sort_values(by = ('sum') , ascending=False)"
   ]
  },
  {
   "cell_type": "markdown",
   "id": "d124082c",
   "metadata": {},
   "source": [
    "Сгруппировав все доставки по заказчикам, замечаем что наибольшое количество заказов с большим отрывом и наибольшую выручку принес один человек. Посмотрим на карте куда он заказывал"
   ]
  },
  {
   "cell_type": "code",
   "execution_count": null,
   "id": "b6f21379",
   "metadata": {},
   "outputs": [],
   "source": [
    "lat = df.loc[293469517]['location_latitude']\n",
    "lon = df.loc[293469517]['location_longitude']\n",
    "\n",
    "map = folium.Map(location=[55.751244, 37.618423], zoom_start = 10.5)\n",
    "\n",
    "for lat, lon in zip(lat, lon):\n",
    "    folium.CircleMarker(location=[lat, lon], radius = 9, color=\"red\", fill_opacity = 0.9).add_to(map)\n",
    "\n",
    "map"
   ]
  },
  {
   "cell_type": "markdown",
   "id": "0c275b93",
   "metadata": {},
   "source": [
    "На карте отмечены разные отели, рестораны, торговые центры и объекты офисной недвижимости в пределах центрального административного округ Москвы. Предположим, что заказчик занимается организацией мероприятий и для удобства пользуется сервисом доставки еды."
   ]
  },
  {
   "cell_type": "code",
   "execution_count": null,
   "id": "35857ad9",
   "metadata": {},
   "outputs": [],
   "source": [
    "op[op['len'] > 10].sort_values(by = ('mean') , ascending=False)"
   ]
  },
  {
   "cell_type": "code",
   "execution_count": null,
   "id": "06314136",
   "metadata": {},
   "outputs": [],
   "source": [
    "df.loc[[305586008, 307643743]]"
   ]
  },
  {
   "cell_type": "code",
   "execution_count": null,
   "id": "41ec4505",
   "metadata": {},
   "outputs": [],
   "source": [
    "lat = df.loc[[305586008, 307643743]]['location_latitude']\n",
    "lon = df.loc[[305586008, 307643743]]['location_longitude']\n",
    "\n",
    "map = folium.Map(location=[55.751244, 37.618423], zoom_start = 10.5)\n",
    "\n",
    "for lat, lon in zip(lat, lon):\n",
    "    folium.CircleMarker(location=[lat, lon], radius = 9, color=\"red\", fill_opacity = 0.9).add_to(map)\n",
    "\n",
    "map\n"
   ]
  },
  {
   "cell_type": "markdown",
   "id": "7475f5fa",
   "metadata": {},
   "source": [
    "Сортируя по среднему чеку и сделав фильтрацию минимум 10 заказов, я обратил внимание на наименьший средний чек, слишком он низок у последних заказчиков. Они все делаются на разные имена, но карте видим, что почти все заказы делаются в одно место за МКАДом и с одного устройства. Выгдядит это подозрительно и похоже на злоупотребление."
   ]
  },
  {
   "cell_type": "code",
   "execution_count": null,
   "id": "387f2486",
   "metadata": {},
   "outputs": [],
   "source": [
    "jk = pd.pivot_table(df, values = 'Цена',\n",
    "               index = ['id заказчика', 'location_latitude','location_longitude'],\n",
    "               aggfunc=(len,sum, 'mean')).sort_values(by = ('len') , ascending=False)\n",
    "jk"
   ]
  },
  {
   "cell_type": "code",
   "execution_count": null,
   "id": "09c2e13f",
   "metadata": {
    "scrolled": true
   },
   "outputs": [],
   "source": [
    "df.loc[(df['location_latitude'] == 55.7088) & (df['location_longitude'] == 37.3821)]"
   ]
  },
  {
   "cell_type": "markdown",
   "id": "ebb26b63",
   "metadata": {},
   "source": [
    "Всего 72 заказа с фантастически низкой ценой в разное время на этот адрес. Это точно не совпадение."
   ]
  },
  {
   "cell_type": "markdown",
   "id": "3f418a7d",
   "metadata": {},
   "source": [
    "Далее давайте по именам определим пол заказчика. Для этого воспользуемся csv таблицой c 51529 именем."
   ]
  },
  {
   "cell_type": "code",
   "execution_count": null,
   "id": "58c6ae82",
   "metadata": {},
   "outputs": [],
   "source": [
    "russian_names = pd.read_csv(\"russian_names.csv\", encoding='utf-8', sep = ';', on_bad_lines='skip')\n",
    "russian_names.info()"
   ]
  },
  {
   "cell_type": "code",
   "execution_count": null,
   "id": "0391f4cc",
   "metadata": {},
   "outputs": [],
   "source": [
    "qz = df.merge(russian_names[['Name','Sex']], how='left',  left_on='first_name', right_on='Name')\n",
    "qz['Sex'].value_counts().plot.pie(autopct='%1.1f%%', startangle=270, fontsize=17)"
   ]
  },
  {
   "cell_type": "markdown",
   "id": "c59da65f",
   "metadata": {},
   "source": [
    "Из найденных имен получается, что 54.6% заказов делают женщины и 45.4% мужчины. "
   ]
  },
  {
   "cell_type": "code",
   "execution_count": null,
   "id": "6e3e4392",
   "metadata": {
    "scrolled": true
   },
   "outputs": [],
   "source": [
    "qz.pivot_table('Цена', index =[qz['Дата'].dt.strftime(\"%H\"), 'Sex'], aggfunc=['count'])"
   ]
  },
  {
   "cell_type": "markdown",
   "id": "1b4a3da9",
   "metadata": {},
   "source": [
    "Но если смотреть на количество заказов по часам заметно, что женщины не всегда делают большинство заказов. Ночью, начиная с 23 и до 07 мужчины заказывают больше."
   ]
  },
  {
   "cell_type": "code",
   "execution_count": null,
   "id": "101b0236",
   "metadata": {},
   "outputs": [],
   "source": [
    "qz.pivot_table('Цена','Sex', aggfunc=['mean'])"
   ]
  },
  {
   "cell_type": "markdown",
   "id": "0217ff76",
   "metadata": {},
   "source": [
    "В среднем средний чек у мужчин выше на 65 рублей."
   ]
  },
  {
   "cell_type": "code",
   "execution_count": null,
   "id": "ae6a9bb0",
   "metadata": {},
   "outputs": [],
   "source": [
    "df['address_comment'].notnull().value_counts().plot.pie(autopct='%1.1f%%', startangle=270, fontsize=17)"
   ]
  },
  {
   "cell_type": "code",
   "execution_count": null,
   "id": "c59035b1",
   "metadata": {
    "scrolled": true
   },
   "outputs": [],
   "source": [
    "a = df[df['address_comment'].str.contains(pat = 'звон', na=False, regex=True)].shape[0]\n",
    "b = df[df['address_comment'].str.contains(pat = 'id', na=False, regex=True)].shape[0]\n",
    "c = df[df['address_comment'].notnull() == True].shape[0]\n",
    "b/c\n"
   ]
  },
  {
   "cell_type": "code",
   "execution_count": null,
   "id": "0e54f60e",
   "metadata": {},
   "outputs": [],
   "source": [
    "de = df[df['address_comment'].notnull() == True]"
   ]
  },
  {
   "cell_type": "code",
   "execution_count": null,
   "id": "898eb6a1",
   "metadata": {},
   "outputs": [],
   "source": [
    "# wordcloud function\n",
    "\n",
    "from wordcloud import WordCloud\n",
    "import matplotlib.pyplot as plt\n",
    "\n",
    "def show_wordcloud(de, title = None):\n",
    "    wordcloud = WordCloud(\n",
    "        background_color = 'white',\n",
    "        max_words = 100,\n",
    "        max_font_size = 40, \n",
    "        scale = 3,\n",
    "        random_state = 42\n",
    "    ).generate(str(de))\n",
    "\n",
    "    fig = plt.figure(1, figsize = (20, 20))\n",
    "    plt.axis('off')\n",
    "    if title: \n",
    "        fig.suptitle(title, fontsize = 20)\n",
    "        fig.subplots_adjust(top = 2.3)\n",
    "\n",
    "    plt.imshow(wordcloud)\n",
    "    plt.show()\n",
    "    \n",
    "# print wordcloud\n",
    "show_wordcloud(de['address_comment'])"
   ]
  },
  {
   "cell_type": "markdown",
   "id": "4ead4469",
   "metadata": {},
   "source": [
    "Комментарии оставляет 31% людей. В облаке тэгов топ-100 самых встречаемых слов в комментариях."
   ]
  },
  {
   "cell_type": "code",
   "execution_count": null,
   "id": "7b941695",
   "metadata": {},
   "outputs": [],
   "source": [
    "df['user_agent'].unique()"
   ]
  },
  {
   "cell_type": "markdown",
   "id": "86bd5dda",
   "metadata": {},
   "source": [
    "Разбираясь с каких устройств делаются заказы, видим огромное количество разных версий, аппаратов, приложений. Но у приложений с Android, это слово указано. Давайте воспользуется этим и подсчитаем."
   ]
  },
  {
   "cell_type": "code",
   "execution_count": null,
   "id": "adc361b4",
   "metadata": {},
   "outputs": [],
   "source": [
    "df['user_agent'] = df['user_agent'].str.lower()\n",
    "df['user_agent'].str.contains('android', na=False, regex=True).value_counts().plot.pie(autopct='%1.1f%%', startangle=270, fontsize=17)"
   ]
  },
  {
   "cell_type": "markdown",
   "id": "21ea0a36",
   "metadata": {},
   "source": [
    "Только 32.4% пользуются андройдом"
   ]
  },
  {
   "cell_type": "markdown",
   "id": "d86c11e7",
   "metadata": {},
   "source": [
    "Вывод: \n",
    "* "
   ]
  },
  {
   "cell_type": "markdown",
   "id": "0d5d1aa5",
   "metadata": {},
   "source": [
    "# Карта"
   ]
  },
  {
   "cell_type": "markdown",
   "id": "9339c180",
   "metadata": {},
   "source": [
    "Теперь давайте посмотрим на карте по координатам из каких районов приходят заказы."
   ]
  },
  {
   "cell_type": "code",
   "execution_count": null,
   "id": "f02d33f7",
   "metadata": {},
   "outputs": [],
   "source": [
    "dfc = df.groupby(['location_latitude', 'location_longitude']).size()\n",
    "dfc = dfc.reset_index(drop=False)\n",
    "dfc.columns = ['location_latitude', 'location_longitude', 'T']"
   ]
  },
  {
   "cell_type": "code",
   "execution_count": null,
   "id": "12730eee",
   "metadata": {},
   "outputs": [],
   "source": [
    "dfc = dfc.sort_values(by='T', ascending = False)[:300]\n",
    "dfc"
   ]
  },
  {
   "cell_type": "markdown",
   "id": "57d1d7f6",
   "metadata": {},
   "source": [
    "Найдем на карте 300 самых популярных мест для заказа и ранжируем их. Если больше 100 заказов красный круг, если от 50 до 100 желтый, остальные зеленый."
   ]
  },
  {
   "cell_type": "code",
   "execution_count": null,
   "id": "fa41babe",
   "metadata": {},
   "outputs": [],
   "source": [
    "lat = dfc['location_latitude']\n",
    "lon = dfc['location_longitude']\n",
    "elevation = dfc['T']\n",
    "\n",
    "\n",
    "def color_change(elev):\n",
    "    if(elev < 50):\n",
    "        return('green')\n",
    "    elif(50 <= elev <100):\n",
    "        return('orange')\n",
    "    else:\n",
    "        return('red')\n",
    "\n",
    "#Create base map\n",
    "map = folium.Map(location=[55.751244, 37.618423], zoom_start = 10.5)\n",
    "\n",
    "\n",
    "#Plot Markers and add to 'marker_cluster'\n",
    "for lat, lon, elevation in zip(lat, lon, elevation):\n",
    "    folium.CircleMarker(location=[lat, lon], radius = 9, popup=str(elevation)+\" m\", fill_color=color_change(elevation), color=\"gray\", fill_opacity = 0.9).add_to(map)\n",
    "\n",
    "#Save the map\n",
    "map"
   ]
  },
  {
   "cell_type": "markdown",
   "id": "d4820237",
   "metadata": {},
   "source": [
    "Видим кучность в местах центра, ЮЗАО и ЮВАО:\n",
    "* в москва-сити 2 красных круга\n",
    "* в районе нового арбата и киевского вокзала\n",
    "* рядом с Авиапарком и на ул. Беговой\n",
    "* Савеловский сити\n",
    "* Измайлово парк\n",
    "* Юго-западная\n",
    "\n",
    "Практически все места это офисы."
   ]
  },
  {
   "cell_type": "code",
   "execution_count": null,
   "id": "3145bda8",
   "metadata": {},
   "outputs": [],
   "source": [
    "day_df = df[((df['Дата'].dt.hour>=10) & (df['Дата'].dt.hour<21)) & ((df['Дата'].dt.strftime(\"%A\") != 'Saturday') & (df['Дата'].dt.strftime(\"%A\") != 'Sunday'))]\n",
    "day_df = day_df.groupby(['location_latitude', \n",
    "                         'location_longitude'])['Цена'].agg(['size','mean']).sort_values(by = 'size', ascending = False).reset_index(drop=False)[:300]"
   ]
  },
  {
   "cell_type": "code",
   "execution_count": null,
   "id": "b785ba7b",
   "metadata": {
    "scrolled": false
   },
   "outputs": [],
   "source": [
    "lat = day_df['location_latitude']\n",
    "lon = day_df['location_longitude']\n",
    "elevation = day_df['size']\n",
    "\n",
    "\n",
    "def color_change(elev):\n",
    "    if(elev < 71):\n",
    "        return('green')\n",
    "    elif(71 <= elev <45):\n",
    "        return('orange')\n",
    "    else:\n",
    "        return('red')\n",
    "\n",
    "#Create base map\n",
    "map = folium.Map(location=[55.751244, 37.618423], zoom_start = 10.5)\n",
    "\n",
    "\n",
    "#Plot Markers and add to 'marker_cluster'\n",
    "for lat, lon, elevation in zip(lat, lon, elevation):\n",
    "    folium.CircleMarker(location=[lat, lon], radius = 9, popup=str(elevation)+\" m\", fill_color=color_change(elevation), color=\"gray\", fill_opacity = 0.9).add_to(map)\n",
    "\n",
    "#Save the map\n",
    "map"
   ]
  },
  {
   "cell_type": "markdown",
   "id": "0438e6ed",
   "metadata": {},
   "source": [
    "После фильтрации по рабочим часам картина практичести не изменилась: те же группы точек, что и без фильтра."
   ]
  },
  {
   "cell_type": "code",
   "execution_count": null,
   "id": "78227da6",
   "metadata": {},
   "outputs": [],
   "source": [
    "nowork = df[((df['Дата'].dt.hour<10) | (df['Дата'].dt.hour>=21)) & ((df['Дата'].dt.strftime(\"%A\") == 'Saturday') | (df['Дата'].dt.strftime(\"%A\") == 'Sunday'))]\n",
    "nowork = nowork.groupby(['location_latitude', \n",
    "                         'location_longitude'])['Цена'].agg(['size','mean']).sort_values(by = 'size', ascending = False).reset_index(drop=False)[:300]\n",
    "lat = nowork['location_latitude']\n",
    "lon = nowork['location_longitude']\n",
    "elevation = nowork['size']\n",
    "\n",
    "\n",
    "def color_change(elev):\n",
    "    if(elev < 71):\n",
    "        return('green')\n",
    "    elif(71 <= elev <45):\n",
    "        return('orange')\n",
    "    else:\n",
    "        return('red')\n",
    "\n",
    "#Create base map\n",
    "map = folium.Map(location=[55.751244, 37.618423], zoom_start = 10.5)\n",
    "\n",
    "\n",
    "#Plot Markers and add to 'marker_cluster'\n",
    "for lat, lon, elevation in zip(lat, lon, elevation):\n",
    "    folium.CircleMarker(location=[lat, lon], radius = 9, popup=str(elevation)+\" m\", fill_color=color_change(elevation), color=\"gray\", fill_opacity = 0.9).add_to(map)\n",
    "\n",
    "#Save the map\n",
    "map"
   ]
  },
  {
   "cell_type": "markdown",
   "id": "38b9b5a1",
   "metadata": {},
   "source": [
    "Если поставить нерабочие часы и выходные ситуация меняется:\n",
    "* произошло рассредоточение точек по Москве\n",
    "* меньше точек в центре и больше в спальных районах (очень заметно в ЮЗАО)"
   ]
  },
  {
   "cell_type": "code",
   "execution_count": null,
   "id": "6a3cdcdc",
   "metadata": {},
   "outputs": [],
   "source": []
  },
  {
   "cell_type": "code",
   "execution_count": null,
   "id": "d7ce7f15",
   "metadata": {},
   "outputs": [],
   "source": []
  },
  {
   "cell_type": "code",
   "execution_count": null,
   "id": "9dbff11e",
   "metadata": {},
   "outputs": [],
   "source": []
  },
  {
   "cell_type": "code",
   "execution_count": null,
   "id": "ac76f904",
   "metadata": {},
   "outputs": [],
   "source": []
  },
  {
   "cell_type": "code",
   "execution_count": null,
   "id": "06598d3b",
   "metadata": {},
   "outputs": [],
   "source": []
  },
  {
   "cell_type": "code",
   "execution_count": null,
   "id": "e2b22b7a",
   "metadata": {},
   "outputs": [],
   "source": []
  },
  {
   "cell_type": "code",
   "execution_count": null,
   "id": "50c63085",
   "metadata": {},
   "outputs": [],
   "source": []
  },
  {
   "cell_type": "code",
   "execution_count": null,
   "id": "b26dac22",
   "metadata": {},
   "outputs": [],
   "source": [
    "df['Цена'].sum()"
   ]
  },
  {
   "cell_type": "code",
   "execution_count": null,
   "id": "d1906797",
   "metadata": {},
   "outputs": [],
   "source": [
    "hgg = beznull.sort_values(by='created_at', ascending=True)[:300]\n",
    "hgg"
   ]
  },
  {
   "cell_type": "code",
   "execution_count": null,
   "id": "b74b4d18",
   "metadata": {},
   "outputs": [],
   "source": [
    "hgg.plot(kind='bar', x=\"created_at\", y=\"amount_charged\", figsize=(15, 10))"
   ]
  },
  {
   "cell_type": "code",
   "execution_count": null,
   "id": "04240eab",
   "metadata": {},
   "outputs": [],
   "source": [
    "ryy.plot(kind='bar', y=\"amount_charged\", figsize=(15, 10))"
   ]
  },
  {
   "cell_type": "code",
   "execution_count": null,
   "id": "64cf114a",
   "metadata": {},
   "outputs": [],
   "source": [
    "beznull.dtypes"
   ]
  },
  {
   "cell_type": "code",
   "execution_count": null,
   "id": "9891779a",
   "metadata": {},
   "outputs": [],
   "source": [
    "df"
   ]
  },
  {
   "cell_type": "code",
   "execution_count": null,
   "id": "404af5a6",
   "metadata": {},
   "outputs": [],
   "source": [
    "\n"
   ]
  },
  {
   "cell_type": "code",
   "execution_count": null,
   "id": "65d24585",
   "metadata": {},
   "outputs": [],
   "source": [
    "beznull['amount_charged12'].value_counts()"
   ]
  },
  {
   "cell_type": "code",
   "execution_count": null,
   "id": "ba3366bb",
   "metadata": {},
   "outputs": [],
   "source": [
    "beznull['amount_charged12'].value_counts().plot(kind='bar', y=\"amount_charged12\", figsize=(15, 10))"
   ]
  },
  {
   "cell_type": "code",
   "execution_count": null,
   "id": "0db96a42",
   "metadata": {},
   "outputs": [],
   "source": [
    "rff = pd.cut(beznull['amount_charged'],\n",
    "       bins=np.linspace(0, 3000, 101)).value_counts()\n",
    "rff.dtypes"
   ]
  },
  {
   "cell_type": "code",
   "execution_count": null,
   "id": "f9ec17cc",
   "metadata": {},
   "outputs": [],
   "source": [
    "rff.value_counts().plot(kind='bar', y=\"amount_charged12\", figsize=(15, 10))"
   ]
  },
  {
   "cell_type": "code",
   "execution_count": null,
   "id": "20b366f4",
   "metadata": {},
   "outputs": [],
   "source": [
    "beznull['amount_charged'] = round(beznull['amount_charged'], -2)"
   ]
  },
  {
   "cell_type": "code",
   "execution_count": null,
   "id": "f68953cd",
   "metadata": {},
   "outputs": [],
   "source": [
    "edd = beznull.groupby(['amount_charged']).size().reset_index(name='count')\n",
    "edd = edd[(edd['count'] >= 20)]"
   ]
  },
  {
   "cell_type": "code",
   "execution_count": null,
   "id": "d0f62254",
   "metadata": {},
   "outputs": [],
   "source": [
    "edd.plot(kind='bar', y=\"count\", figsize=(15, 10))\n"
   ]
  },
  {
   "cell_type": "code",
   "execution_count": null,
   "id": "3d92d2f2",
   "metadata": {},
   "outputs": [],
   "source": []
  },
  {
   "cell_type": "code",
   "execution_count": null,
   "id": "c3a6b982",
   "metadata": {},
   "outputs": [],
   "source": []
  },
  {
   "cell_type": "code",
   "execution_count": null,
   "id": "131616ae",
   "metadata": {},
   "outputs": [],
   "source": []
  },
  {
   "cell_type": "code",
   "execution_count": null,
   "id": "5a3b4a07",
   "metadata": {},
   "outputs": [],
   "source": [
    "import fiona"
   ]
  },
  {
   "cell_type": "code",
   "execution_count": null,
   "id": "5f2a7f93",
   "metadata": {},
   "outputs": [],
   "source": [
    "gdalinfo --version"
   ]
  },
  {
   "cell_type": "code",
   "execution_count": null,
   "id": "303afed7",
   "metadata": {},
   "outputs": [],
   "source": []
  }
 ],
 "metadata": {
  "kernelspec": {
   "display_name": "Python 3 (ipykernel)",
   "language": "python",
   "name": "python3"
  },
  "language_info": {
   "codemirror_mode": {
    "name": "ipython",
    "version": 3
   },
   "file_extension": ".py",
   "mimetype": "text/x-python",
   "name": "python",
   "nbconvert_exporter": "python",
   "pygments_lexer": "ipython3",
   "version": "3.9.12"
  }
 },
 "nbformat": 4,
 "nbformat_minor": 5
}
